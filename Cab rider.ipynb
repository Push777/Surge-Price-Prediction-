{
 "cells": [
  {
   "cell_type": "code",
   "execution_count": 1,
   "id": "c1e6d8c3",
   "metadata": {},
   "outputs": [],
   "source": [
    "# Importing important libraries\n",
    "import pandas as pd\n",
    "import numpy as np\n",
    "import seaborn as sns\n",
    "import matplotlib.pyplot as plt\n",
    "%matplotlib inline"
   ]
  },
  {
   "cell_type": "code",
   "execution_count": 2,
   "id": "2f5e6c69",
   "metadata": {},
   "outputs": [],
   "source": [
    "# importing Dataset\n",
    "df = pd.read_csv(r\"D:\\Data Science\\cab_rides.csv\")\n",
    "df1 = pd.read_csv(r\"D:\\Data Science\\weather.csv\")"
   ]
  },
  {
   "cell_type": "code",
   "execution_count": 3,
   "id": "d9345aa7",
   "metadata": {},
   "outputs": [
    {
     "data": {
      "text/html": [
       "<div>\n",
       "<style scoped>\n",
       "    .dataframe tbody tr th:only-of-type {\n",
       "        vertical-align: middle;\n",
       "    }\n",
       "\n",
       "    .dataframe tbody tr th {\n",
       "        vertical-align: top;\n",
       "    }\n",
       "\n",
       "    .dataframe thead th {\n",
       "        text-align: right;\n",
       "    }\n",
       "</style>\n",
       "<table border=\"1\" class=\"dataframe\">\n",
       "  <thead>\n",
       "    <tr style=\"text-align: right;\">\n",
       "      <th></th>\n",
       "      <th>distance</th>\n",
       "      <th>cab_type</th>\n",
       "      <th>time_stamp</th>\n",
       "      <th>destination</th>\n",
       "      <th>source</th>\n",
       "      <th>price</th>\n",
       "      <th>surge_multiplier</th>\n",
       "      <th>id</th>\n",
       "      <th>product_id</th>\n",
       "      <th>name</th>\n",
       "    </tr>\n",
       "  </thead>\n",
       "  <tbody>\n",
       "    <tr>\n",
       "      <th>0</th>\n",
       "      <td>0.44</td>\n",
       "      <td>Lyft</td>\n",
       "      <td>1544952607890</td>\n",
       "      <td>North Station</td>\n",
       "      <td>Haymarket Square</td>\n",
       "      <td>5.0</td>\n",
       "      <td>1.0</td>\n",
       "      <td>424553bb-7174-41ea-aeb4-fe06d4f4b9d7</td>\n",
       "      <td>lyft_line</td>\n",
       "      <td>Shared</td>\n",
       "    </tr>\n",
       "    <tr>\n",
       "      <th>1</th>\n",
       "      <td>0.44</td>\n",
       "      <td>Lyft</td>\n",
       "      <td>1543284023677</td>\n",
       "      <td>North Station</td>\n",
       "      <td>Haymarket Square</td>\n",
       "      <td>11.0</td>\n",
       "      <td>1.0</td>\n",
       "      <td>4bd23055-6827-41c6-b23b-3c491f24e74d</td>\n",
       "      <td>lyft_premier</td>\n",
       "      <td>Lux</td>\n",
       "    </tr>\n",
       "    <tr>\n",
       "      <th>2</th>\n",
       "      <td>0.44</td>\n",
       "      <td>Lyft</td>\n",
       "      <td>1543366822198</td>\n",
       "      <td>North Station</td>\n",
       "      <td>Haymarket Square</td>\n",
       "      <td>7.0</td>\n",
       "      <td>1.0</td>\n",
       "      <td>981a3613-77af-4620-a42a-0c0866077d1e</td>\n",
       "      <td>lyft</td>\n",
       "      <td>Lyft</td>\n",
       "    </tr>\n",
       "    <tr>\n",
       "      <th>3</th>\n",
       "      <td>0.44</td>\n",
       "      <td>Lyft</td>\n",
       "      <td>1543553582749</td>\n",
       "      <td>North Station</td>\n",
       "      <td>Haymarket Square</td>\n",
       "      <td>26.0</td>\n",
       "      <td>1.0</td>\n",
       "      <td>c2d88af2-d278-4bfd-a8d0-29ca77cc5512</td>\n",
       "      <td>lyft_luxsuv</td>\n",
       "      <td>Lux Black XL</td>\n",
       "    </tr>\n",
       "    <tr>\n",
       "      <th>4</th>\n",
       "      <td>0.44</td>\n",
       "      <td>Lyft</td>\n",
       "      <td>1543463360223</td>\n",
       "      <td>North Station</td>\n",
       "      <td>Haymarket Square</td>\n",
       "      <td>9.0</td>\n",
       "      <td>1.0</td>\n",
       "      <td>e0126e1f-8ca9-4f2e-82b3-50505a09db9a</td>\n",
       "      <td>lyft_plus</td>\n",
       "      <td>Lyft XL</td>\n",
       "    </tr>\n",
       "  </tbody>\n",
       "</table>\n",
       "</div>"
      ],
      "text/plain": [
       "   distance cab_type     time_stamp    destination            source  price  \\\n",
       "0      0.44     Lyft  1544952607890  North Station  Haymarket Square    5.0   \n",
       "1      0.44     Lyft  1543284023677  North Station  Haymarket Square   11.0   \n",
       "2      0.44     Lyft  1543366822198  North Station  Haymarket Square    7.0   \n",
       "3      0.44     Lyft  1543553582749  North Station  Haymarket Square   26.0   \n",
       "4      0.44     Lyft  1543463360223  North Station  Haymarket Square    9.0   \n",
       "\n",
       "   surge_multiplier                                    id    product_id  \\\n",
       "0               1.0  424553bb-7174-41ea-aeb4-fe06d4f4b9d7     lyft_line   \n",
       "1               1.0  4bd23055-6827-41c6-b23b-3c491f24e74d  lyft_premier   \n",
       "2               1.0  981a3613-77af-4620-a42a-0c0866077d1e          lyft   \n",
       "3               1.0  c2d88af2-d278-4bfd-a8d0-29ca77cc5512   lyft_luxsuv   \n",
       "4               1.0  e0126e1f-8ca9-4f2e-82b3-50505a09db9a     lyft_plus   \n",
       "\n",
       "           name  \n",
       "0        Shared  \n",
       "1           Lux  \n",
       "2          Lyft  \n",
       "3  Lux Black XL  \n",
       "4       Lyft XL  "
      ]
     },
     "execution_count": 3,
     "metadata": {},
     "output_type": "execute_result"
    }
   ],
   "source": [
    "df.head()"
   ]
  },
  {
   "cell_type": "code",
   "execution_count": 4,
   "id": "8647d4ba",
   "metadata": {},
   "outputs": [
    {
     "data": {
      "text/html": [
       "<div>\n",
       "<style scoped>\n",
       "    .dataframe tbody tr th:only-of-type {\n",
       "        vertical-align: middle;\n",
       "    }\n",
       "\n",
       "    .dataframe tbody tr th {\n",
       "        vertical-align: top;\n",
       "    }\n",
       "\n",
       "    .dataframe thead th {\n",
       "        text-align: right;\n",
       "    }\n",
       "</style>\n",
       "<table border=\"1\" class=\"dataframe\">\n",
       "  <thead>\n",
       "    <tr style=\"text-align: right;\">\n",
       "      <th></th>\n",
       "      <th>temp</th>\n",
       "      <th>location</th>\n",
       "      <th>clouds</th>\n",
       "      <th>pressure</th>\n",
       "      <th>rain</th>\n",
       "      <th>time_stamp</th>\n",
       "      <th>humidity</th>\n",
       "      <th>wind</th>\n",
       "    </tr>\n",
       "  </thead>\n",
       "  <tbody>\n",
       "    <tr>\n",
       "      <th>0</th>\n",
       "      <td>42.42</td>\n",
       "      <td>Back Bay</td>\n",
       "      <td>1.0</td>\n",
       "      <td>1012.14</td>\n",
       "      <td>0.1228</td>\n",
       "      <td>1545003901</td>\n",
       "      <td>0.77</td>\n",
       "      <td>11.25</td>\n",
       "    </tr>\n",
       "    <tr>\n",
       "      <th>1</th>\n",
       "      <td>42.43</td>\n",
       "      <td>Beacon Hill</td>\n",
       "      <td>1.0</td>\n",
       "      <td>1012.15</td>\n",
       "      <td>0.1846</td>\n",
       "      <td>1545003901</td>\n",
       "      <td>0.76</td>\n",
       "      <td>11.32</td>\n",
       "    </tr>\n",
       "    <tr>\n",
       "      <th>2</th>\n",
       "      <td>42.50</td>\n",
       "      <td>Boston University</td>\n",
       "      <td>1.0</td>\n",
       "      <td>1012.15</td>\n",
       "      <td>0.1089</td>\n",
       "      <td>1545003901</td>\n",
       "      <td>0.76</td>\n",
       "      <td>11.07</td>\n",
       "    </tr>\n",
       "    <tr>\n",
       "      <th>3</th>\n",
       "      <td>42.11</td>\n",
       "      <td>Fenway</td>\n",
       "      <td>1.0</td>\n",
       "      <td>1012.13</td>\n",
       "      <td>0.0969</td>\n",
       "      <td>1545003901</td>\n",
       "      <td>0.77</td>\n",
       "      <td>11.09</td>\n",
       "    </tr>\n",
       "    <tr>\n",
       "      <th>4</th>\n",
       "      <td>43.13</td>\n",
       "      <td>Financial District</td>\n",
       "      <td>1.0</td>\n",
       "      <td>1012.14</td>\n",
       "      <td>0.1786</td>\n",
       "      <td>1545003901</td>\n",
       "      <td>0.75</td>\n",
       "      <td>11.49</td>\n",
       "    </tr>\n",
       "  </tbody>\n",
       "</table>\n",
       "</div>"
      ],
      "text/plain": [
       "    temp            location  clouds  pressure    rain  time_stamp  humidity  \\\n",
       "0  42.42            Back Bay     1.0   1012.14  0.1228  1545003901      0.77   \n",
       "1  42.43         Beacon Hill     1.0   1012.15  0.1846  1545003901      0.76   \n",
       "2  42.50   Boston University     1.0   1012.15  0.1089  1545003901      0.76   \n",
       "3  42.11              Fenway     1.0   1012.13  0.0969  1545003901      0.77   \n",
       "4  43.13  Financial District     1.0   1012.14  0.1786  1545003901      0.75   \n",
       "\n",
       "    wind  \n",
       "0  11.25  \n",
       "1  11.32  \n",
       "2  11.07  \n",
       "3  11.09  \n",
       "4  11.49  "
      ]
     },
     "execution_count": 4,
     "metadata": {},
     "output_type": "execute_result"
    }
   ],
   "source": [
    "df1.head()"
   ]
  },
  {
   "cell_type": "code",
   "execution_count": 5,
   "id": "9e9b5cf4",
   "metadata": {},
   "outputs": [
    {
     "name": "stdout",
     "output_type": "stream",
     "text": [
      "<class 'pandas.core.frame.DataFrame'>\n",
      "RangeIndex: 693071 entries, 0 to 693070\n",
      "Data columns (total 10 columns):\n",
      " #   Column            Non-Null Count   Dtype  \n",
      "---  ------            --------------   -----  \n",
      " 0   distance          693071 non-null  float64\n",
      " 1   cab_type          693071 non-null  object \n",
      " 2   time_stamp        693071 non-null  int64  \n",
      " 3   destination       693071 non-null  object \n",
      " 4   source            693071 non-null  object \n",
      " 5   price             637976 non-null  float64\n",
      " 6   surge_multiplier  693071 non-null  float64\n",
      " 7   id                693071 non-null  object \n",
      " 8   product_id        693071 non-null  object \n",
      " 9   name              693071 non-null  object \n",
      "dtypes: float64(3), int64(1), object(6)\n",
      "memory usage: 52.9+ MB\n"
     ]
    }
   ],
   "source": [
    "df.info()"
   ]
  },
  {
   "cell_type": "code",
   "execution_count": 6,
   "id": "b6a5a5e0",
   "metadata": {},
   "outputs": [
    {
     "data": {
      "text/plain": [
       "distance                0\n",
       "cab_type                0\n",
       "time_stamp              0\n",
       "destination             0\n",
       "source                  0\n",
       "price               55095\n",
       "surge_multiplier        0\n",
       "id                      0\n",
       "product_id              0\n",
       "name                    0\n",
       "dtype: int64"
      ]
     },
     "execution_count": 6,
     "metadata": {},
     "output_type": "execute_result"
    }
   ],
   "source": [
    "df.isna().sum()"
   ]
  },
  {
   "cell_type": "code",
   "execution_count": 7,
   "id": "8ab8c92a",
   "metadata": {},
   "outputs": [
    {
     "name": "stdout",
     "output_type": "stream",
     "text": [
      "Unique values in distance: [0.44 1.08 1.11 0.72 2.48 3.24 2.94 1.76 0.71 1.23 1.16 2.67 3.39 2.82\n",
      " 2.49 3.07 1.57 3.2  3.61 3.05 1.75 2.36 2.32 1.02 1.17 4.43 1.4  1.01\n",
      " 2.84 1.3  1.81 2.44 3.04 2.59 3.25 2.66 3.26 2.39 3.28 2.81 3.18 2.63\n",
      " 3.14 1.79 2.16 1.39 1.97 2.92 2.14 0.91 2.58 3.23 3.02 0.64 2.38 0.8\n",
      " 2.07 2.61 3.45 1.35 2.8  1.03 3.35 2.93 1.07 3.17 1.2  7.46 1.58 1.71\n",
      " 1.21 1.61 3.3  4.39 0.55 4.42 1.45 0.61 0.49 0.39 3.8  2.46 2.34 2.56\n",
      " 4.23 1.56 2.35 3.37 1.52 2.05 2.15 1.26 1.5  4.76 1.34 3.41 1.33 2.19\n",
      " 1.04 1.22 1.09 0.54 2.09 3.68 1.66 1.92 2.33 2.25 2.88 3.42 0.63 1.41\n",
      " 4.51 0.56 3.47 4.09 2.73 3.19 0.65 2.78 1.   2.62 2.77 2.47 1.43 3.1\n",
      " 1.89 2.3  4.31 1.06 1.64 1.86 4.1  1.74 2.31 2.83 3.48 1.78 4.44 0.52\n",
      " 0.92 3.08 0.43 5.33 4.5  0.46 2.91 1.14 3.22 1.69 0.81 1.36 1.73 4.61\n",
      " 2.68 2.03 4.73 2.27 1.25 3.43 2.72 3.15 0.59 0.53 3.44 2.17 2.96 0.76\n",
      " 3.79 2.43 2.5  4.55 2.12 2.   5.32 0.42 1.47 2.86 3.12 2.85 1.49 4.35\n",
      " 0.3  1.59 1.46 3.06 5.56 2.37 2.41 1.37 3.16 0.73 3.03 4.48 1.7  2.29\n",
      " 2.79 0.74 2.24 7.34 4.3  1.19 1.55 0.62 2.4  4.54 2.54 0.99 2.74 2.42\n",
      " 3.52 3.53 2.98 1.1  0.88 2.75 4.59 1.8  1.72 1.05 1.91 4.69 1.28 1.54\n",
      " 2.9  2.13 3.21 0.86 2.1  2.57 3.5  2.45 1.38 1.53 1.44 1.42 2.99 0.57\n",
      " 2.04 3.01 0.68 3.59 2.53 4.32 4.15 2.01 2.21 1.15 5.4  1.12 1.24 5.41\n",
      " 4.57 3.55 2.89 2.28 3.75 2.7  1.9  2.65 3.31 2.87 5.38 4.68 0.5  3.36\n",
      " 0.48 2.51 0.79 0.94 4.46 2.97 4.13 5.35 4.72 3.32 3.29 5.31 2.22 3.11\n",
      " 1.93 1.99 1.94 0.98 1.87 1.65 0.75 3.46 4.4  4.53 2.2  0.95 1.51 6.26\n",
      " 2.08 0.84 2.11 1.27 3.96 1.13 0.9  2.06 1.32 1.98 1.67 0.58 1.31 4.74\n",
      " 2.02 0.67 4.17 4.01 1.77 0.78 4.47 0.45 4.56 7.2  1.88 0.66 4.58 3.\n",
      " 0.97 1.85 3.49 1.96 1.48 0.77 2.26 0.89 5.34 4.94 1.63 2.18 0.6  3.13\n",
      " 3.27 2.23 4.45 2.52 4.33 2.69 2.55 2.95 3.98 4.19 5.28 5.46 4.   4.52\n",
      " 1.82 5.44 3.99 0.02 1.95 1.18 1.68 3.4  5.7  1.84 3.09 4.2  4.8  3.58\n",
      " 5.2  3.66 3.7  0.87 4.49 3.51 5.21 2.6  0.4  5.14 4.77 4.11 0.7  4.37\n",
      " 3.71 4.6  4.41 4.12 3.77 4.25 3.91 4.14 0.03 2.76 5.42 4.08 4.78 4.75\n",
      " 4.26 0.12 4.36 4.18 0.82 0.69 3.33 4.16 2.71 1.62 0.47 4.34 6.97 0.93\n",
      " 3.9  3.89 3.95 5.23 4.22 3.54 3.97 5.45 2.64 4.03 0.51 4.96 1.83 4.93\n",
      " 6.83 3.64 4.38 6.27 4.62 4.66 3.69 6.91 5.39 7.19 3.76 5.3  0.85 3.63\n",
      " 3.34 5.29 5.36 3.72 3.65 4.7  1.29 7.04 3.93 4.21 3.78 4.29 5.27 4.67\n",
      " 0.83 5.22 3.74 4.28 5.13 4.86 4.65 4.06 5.24 4.79 5.37 4.98 3.67 4.64\n",
      " 5.25 5.15 4.05 0.96 3.85 5.69 4.24 3.82 7.24 3.84 4.27 6.33 4.95 3.57\n",
      " 3.83 0.04 5.1  6.03 4.82 5.09 5.04 5.12 4.97 3.73 3.38 0.35 5.43 1.6\n",
      " 7.5  0.38 4.81 5.17 5.11 5.16 7.18 7.25 4.63 3.88 4.02 5.02 5.26 4.71\n",
      " 4.91 4.9  4.04 4.07 7.45 3.94 3.56 4.84 3.62 0.29 0.17 0.27 3.81 7.38\n",
      " 3.87 5.18 4.83 3.6  3.86 5.19 6.09 7.62 3.92 6.04 6.   6.13 5.47 5.05\n",
      " 6.14 5.86 5.66 6.12 4.89 4.85 5.01 5.08 0.41 5.95 5.   5.06 7.36 5.03\n",
      " 4.87 4.99 7.86]\n",
      "Unique values in cab_type: ['Lyft' 'Uber']\n",
      "Unique values in time_stamp: [1544952607890 1543284023677 1543366822198 ... 1543456028123 1543728484149\n",
      " 1543708385534]\n",
      "Unique values in destination: ['North Station' 'Northeastern University' 'West End' 'Haymarket Square'\n",
      " 'South Station' 'Fenway' 'Theatre District' 'Beacon Hill' 'Back Bay'\n",
      " 'North End' 'Financial District' 'Boston University']\n",
      "Unique values in source: ['Haymarket Square' 'Back Bay' 'North End' 'North Station' 'Beacon Hill'\n",
      " 'Boston University' 'Fenway' 'South Station' 'Theatre District'\n",
      " 'West End' 'Financial District' 'Northeastern University']\n",
      "Unique values in price: [ 5.   11.    7.   26.    9.   16.5  10.5   3.   27.5  13.5  12.   16.\n",
      "  7.5   5.5    nan  3.5   8.5  15.   20.5  19.5  29.5   9.5  22.   13.\n",
      " 17.   10.   34.   18.5  36.   22.5  32.5  25.   27.   35.    8.   23.5\n",
      " 14.   26.5  38.5  23.   30.5  17.5  30.   36.5  12.5  33.5  21.5  38.\n",
      " 18.   33.   32.    6.5  11.5  31.5  28.5  24.   29.   31.   42.5  41.\n",
      " 19.   52.5  67.5  15.5  21.   45.5  28.   37.5  14.5  47.5   4.5  40.5\n",
      " 55.   42.   46.5  50.5  24.5  41.5  56.   25.5  39.   57.5  20.   39.5\n",
      "  6.   35.5  48.5  37.   45.   44.   34.5   2.5  46.   48.   47.   54.\n",
      " 52.   62.   43.   43.5  80.   65.   51.5  40.   49.5  58.   75.   62.5\n",
      " 92.   87.   64.5  87.5  73.5  44.5  80.5  89.   53.   81.5  60.5  49.\n",
      " 53.5  51.   55.5  37.85 59.   18.35 54.5  76.   57.   89.5  68.5  58.5\n",
      " 63.   61.5  68.   28.35 10.6   7.98 59.5  56.5   8.35 11.6  64.   67.\n",
      "  9.35 97.5  45.35 19.35]\n",
      "Unique values in surge_multiplier: [1.   1.25 2.5  2.   1.75 1.5  3.  ]\n",
      "Unique values in id: ['424553bb-7174-41ea-aeb4-fe06d4f4b9d7'\n",
      " '4bd23055-6827-41c6-b23b-3c491f24e74d'\n",
      " '981a3613-77af-4620-a42a-0c0866077d1e' ...\n",
      " '64d451d0-639f-47a4-9b7c-6fd92fbd264f'\n",
      " '727e5f07-a96b-4ad1-a2c7-9abc3ad55b4e'\n",
      " 'e7fdc087-fe86-40a5-a3c3-3b2a8badcbda']\n",
      "Unique values in product_id: ['lyft_line' 'lyft_premier' 'lyft' 'lyft_luxsuv' 'lyft_plus' 'lyft_lux'\n",
      " '6f72dfc5-27f1-42e8-84db-ccc7a75f6969'\n",
      " '6c84fd89-3f11-4782-9b50-97c468b19529'\n",
      " '55c66225-fbe7-4fd5-9072-eab1ece5e23e'\n",
      " '9a0e7b09-b92b-4c41-9779-2ad22b4d779d'\n",
      " '6d318bcc-22a3-4af6-bddd-b409bfce1546'\n",
      " '997acbb5-e102-41e1-b155-9df7de0a73f2'\n",
      " '8cf7e821-f0d3-49c6-8eba-e679c0ebcf6a']\n",
      "Unique values in name: ['Shared' 'Lux' 'Lyft' 'Lux Black XL' 'Lyft XL' 'Lux Black' 'UberXL'\n",
      " 'Black' 'UberX' 'WAV' 'Black SUV' 'UberPool' 'Taxi']\n"
     ]
    }
   ],
   "source": [
    "# Get unique values in each column\n",
    "for col in df.columns:\n",
    "    print(f\"Unique values in {col}: {df[col].unique()}\")"
   ]
  },
  {
   "cell_type": "code",
   "execution_count": 8,
   "id": "ae2e51d7",
   "metadata": {},
   "outputs": [],
   "source": [
    "df['price'] = df['price'].fillna(df['price'].median())"
   ]
  },
  {
   "cell_type": "code",
   "execution_count": 9,
   "id": "5b0217a1",
   "metadata": {},
   "outputs": [],
   "source": [
    "df[\"fare_per_mile\"] = round(df[\"price\"]/df[\"distance\"],2)"
   ]
  },
  {
   "cell_type": "code",
   "execution_count": 10,
   "id": "2695715a",
   "metadata": {},
   "outputs": [],
   "source": [
    "df[\"price\"]=df[\"fare_per_mile\"]*df['distance']"
   ]
  },
  {
   "cell_type": "code",
   "execution_count": 11,
   "id": "84d38842",
   "metadata": {},
   "outputs": [],
   "source": [
    "from datetime import datetime, date\n",
    "df['date_time']= pd.to_datetime(df['time_stamp']/1000, unit='s')\n",
    "df1['date_time']= pd.to_datetime(df1['time_stamp'], unit='s')"
   ]
  },
  {
   "cell_type": "markdown",
   "id": "4a992705",
   "metadata": {},
   "source": [
    "## EDA"
   ]
  },
  {
   "cell_type": "code",
   "execution_count": 12,
   "id": "b93ce937",
   "metadata": {},
   "outputs": [
    {
     "data": {
      "text/plain": [
       "<matplotlib.legend.Legend at 0x1ec083eec10>"
      ]
     },
     "execution_count": 12,
     "metadata": {},
     "output_type": "execute_result"
    },
    {
     "data": {
      "image/png": "[encoded data removed]",
      "text/plain": [
       "<Figure size 576x432 with 1 Axes>"
      ]
     },
     "metadata": {
      "needs_background": "light"
     },
     "output_type": "display_data"
    }
   ],
   "source": [
    "plt.figure(figsize=(8,6))\n",
    "sns.kdeplot(x=df[\"distance\"], shade=True,color='g',label=\"distance\")\n",
    "plt.axvline(x=df[\"distance\"].mean(),color=\"b\",ls=\":\",lw=2,label=\"mean value: {}\".format(df[\"distance\"].mean()))\n",
    "plt.axvline(x=df[\"distance\"].median(),color=\"r\",ls=\"-.\",lw=1.8,label=\"median value: {}\".format(df[\"distance\"].median()))\n",
    "plt.xlabel(\"distance\")\n",
    "plt.ylabel(\"Probability Distribution\")\n",
    "plt.legend()"
   ]
  },
  {
   "cell_type": "code",
   "execution_count": 13,
   "id": "c26bb52a",
   "metadata": {},
   "outputs": [
    {
     "data": {
      "image/png": "[encoded data removed]",
      "text/plain": [
       "<Figure size 432x288 with 1 Axes>"
      ]
     },
     "metadata": {
      "needs_background": "light"
     },
     "output_type": "display_data"
    }
   ],
   "source": [
    "sns.countplot(x=\"cab_type\",data=df,palette ='PuRd')\n",
    "plt.show()"
   ]
  },
  {
   "cell_type": "code",
   "execution_count": 14,
   "id": "99cacb66",
   "metadata": {},
   "outputs": [],
   "source": [
    "df= df.drop([\"time_stamp\"],axis=1)"
   ]
  },
  {
   "cell_type": "code",
   "execution_count": 15,
   "id": "1bdd871e",
   "metadata": {},
   "outputs": [
    {
     "data": {
      "text/html": [
       "<div>\n",
       "<style scoped>\n",
       "    .dataframe tbody tr th:only-of-type {\n",
       "        vertical-align: middle;\n",
       "    }\n",
       "\n",
       "    .dataframe tbody tr th {\n",
       "        vertical-align: top;\n",
       "    }\n",
       "\n",
       "    .dataframe thead th {\n",
       "        text-align: right;\n",
       "    }\n",
       "</style>\n",
       "<table border=\"1\" class=\"dataframe\">\n",
       "  <thead>\n",
       "    <tr style=\"text-align: right;\">\n",
       "      <th></th>\n",
       "      <th>distance</th>\n",
       "      <th>cab_type</th>\n",
       "      <th>destination</th>\n",
       "      <th>source</th>\n",
       "      <th>price</th>\n",
       "      <th>surge_multiplier</th>\n",
       "      <th>id</th>\n",
       "      <th>product_id</th>\n",
       "      <th>name</th>\n",
       "      <th>fare_per_mile</th>\n",
       "      <th>date_time</th>\n",
       "    </tr>\n",
       "  </thead>\n",
       "  <tbody>\n",
       "    <tr>\n",
       "      <th>0</th>\n",
       "      <td>0.44</td>\n",
       "      <td>Lyft</td>\n",
       "      <td>North Station</td>\n",
       "      <td>Haymarket Square</td>\n",
       "      <td>4.9984</td>\n",
       "      <td>1.0</td>\n",
       "      <td>424553bb-7174-41ea-aeb4-fe06d4f4b9d7</td>\n",
       "      <td>lyft_line</td>\n",
       "      <td>Shared</td>\n",
       "      <td>11.36</td>\n",
       "      <td>2018-12-16 09:30:07.890000128</td>\n",
       "    </tr>\n",
       "    <tr>\n",
       "      <th>1</th>\n",
       "      <td>0.44</td>\n",
       "      <td>Lyft</td>\n",
       "      <td>North Station</td>\n",
       "      <td>Haymarket Square</td>\n",
       "      <td>11.0000</td>\n",
       "      <td>1.0</td>\n",
       "      <td>4bd23055-6827-41c6-b23b-3c491f24e74d</td>\n",
       "      <td>lyft_premier</td>\n",
       "      <td>Lux</td>\n",
       "      <td>25.00</td>\n",
       "      <td>2018-11-27 02:00:23.676999936</td>\n",
       "    </tr>\n",
       "    <tr>\n",
       "      <th>2</th>\n",
       "      <td>0.44</td>\n",
       "      <td>Lyft</td>\n",
       "      <td>North Station</td>\n",
       "      <td>Haymarket Square</td>\n",
       "      <td>7.0004</td>\n",
       "      <td>1.0</td>\n",
       "      <td>981a3613-77af-4620-a42a-0c0866077d1e</td>\n",
       "      <td>lyft</td>\n",
       "      <td>Lyft</td>\n",
       "      <td>15.91</td>\n",
       "      <td>2018-11-28 01:00:22.197999872</td>\n",
       "    </tr>\n",
       "    <tr>\n",
       "      <th>3</th>\n",
       "      <td>0.44</td>\n",
       "      <td>Lyft</td>\n",
       "      <td>North Station</td>\n",
       "      <td>Haymarket Square</td>\n",
       "      <td>25.9996</td>\n",
       "      <td>1.0</td>\n",
       "      <td>c2d88af2-d278-4bfd-a8d0-29ca77cc5512</td>\n",
       "      <td>lyft_luxsuv</td>\n",
       "      <td>Lux Black XL</td>\n",
       "      <td>59.09</td>\n",
       "      <td>2018-11-30 04:53:02.749000192</td>\n",
       "    </tr>\n",
       "    <tr>\n",
       "      <th>4</th>\n",
       "      <td>0.44</td>\n",
       "      <td>Lyft</td>\n",
       "      <td>North Station</td>\n",
       "      <td>Haymarket Square</td>\n",
       "      <td>8.9980</td>\n",
       "      <td>1.0</td>\n",
       "      <td>e0126e1f-8ca9-4f2e-82b3-50505a09db9a</td>\n",
       "      <td>lyft_plus</td>\n",
       "      <td>Lyft XL</td>\n",
       "      <td>20.45</td>\n",
       "      <td>2018-11-29 03:49:20.223000064</td>\n",
       "    </tr>\n",
       "  </tbody>\n",
       "</table>\n",
       "</div>"
      ],
      "text/plain": [
       "   distance cab_type    destination            source    price  \\\n",
       "0      0.44     Lyft  North Station  Haymarket Square   4.9984   \n",
       "1      0.44     Lyft  North Station  Haymarket Square  11.0000   \n",
       "2      0.44     Lyft  North Station  Haymarket Square   7.0004   \n",
       "3      0.44     Lyft  North Station  Haymarket Square  25.9996   \n",
       "4      0.44     Lyft  North Station  Haymarket Square   8.9980   \n",
       "\n",
       "   surge_multiplier                                    id    product_id  \\\n",
       "0               1.0  424553bb-7174-41ea-aeb4-fe06d4f4b9d7     lyft_line   \n",
       "1               1.0  4bd23055-6827-41c6-b23b-3c491f24e74d  lyft_premier   \n",
       "2               1.0  981a3613-77af-4620-a42a-0c0866077d1e          lyft   \n",
       "3               1.0  c2d88af2-d278-4bfd-a8d0-29ca77cc5512   lyft_luxsuv   \n",
       "4               1.0  e0126e1f-8ca9-4f2e-82b3-50505a09db9a     lyft_plus   \n",
       "\n",
       "           name  fare_per_mile                     date_time  \n",
       "0        Shared          11.36 2018-12-16 09:30:07.890000128  \n",
       "1           Lux          25.00 2018-11-27 02:00:23.676999936  \n",
       "2          Lyft          15.91 2018-11-28 01:00:22.197999872  \n",
       "3  Lux Black XL          59.09 2018-11-30 04:53:02.749000192  \n",
       "4       Lyft XL          20.45 2018-11-29 03:49:20.223000064  "
      ]
     },
     "execution_count": 15,
     "metadata": {},
     "output_type": "execute_result"
    }
   ],
   "source": [
    "df.head()"
   ]
  },
  {
   "cell_type": "code",
   "execution_count": 16,
   "id": "e3f8a055",
   "metadata": {},
   "outputs": [
    {
     "data": {
      "image/png": "[encoded data removed]",
      "text/plain": [
       "<Figure size 720x864 with 1 Axes>"
      ]
     },
     "metadata": {
      "needs_background": "light"
     },
     "output_type": "display_data"
    }
   ],
   "source": [
    "plt.figure(figsize=(10,12))\n",
    "sns.countplot(x=\"name\",data=df,palette ='PuRd')\n",
    "plt.show()"
   ]
  },
  {
   "cell_type": "code",
   "execution_count": 17,
   "id": "237a61fe",
   "metadata": {},
   "outputs": [
    {
     "data": {
      "image/png": "[encoded data removed]",
      "text/plain": [
       "<Figure size 1440x864 with 1 Axes>"
      ]
     },
     "metadata": {
      "needs_background": "light"
     },
     "output_type": "display_data"
    }
   ],
   "source": [
    "plt.figure(figsize=(20,12))\n",
    "sns.countplot(x=\"destination\",data=df,palette ='PuRd')\n",
    "plt.show()"
   ]
  },
  {
   "cell_type": "code",
   "execution_count": 18,
   "id": "54d8c148",
   "metadata": {},
   "outputs": [
    {
     "data": {
      "image/png": "[encoded data removed]",
      "text/plain": [
       "<Figure size 1800x720 with 1 Axes>"
      ]
     },
     "metadata": {
      "needs_background": "light"
     },
     "output_type": "display_data"
    }
   ],
   "source": [
    "plt.figure(figsize=(25,10))\n",
    "sns.countplot(x=\"source\",data=df)\n",
    "plt.show()"
   ]
  },
  {
   "cell_type": "code",
   "execution_count": 19,
   "id": "04e210ff",
   "metadata": {},
   "outputs": [
    {
     "data": {
      "image/png": "[encoded data removed]",
      "text/plain": [
       "<Figure size 1800x720 with 1 Axes>"
      ]
     },
     "metadata": {
      "needs_background": "light"
     },
     "output_type": "display_data"
    }
   ],
   "source": [
    "plt.figure(figsize=(25,10))\n",
    "sns.countplot(x=\"surge_multiplier\",data=df,palette ='PuRd')\n",
    "plt.show()"
   ]
  },
  {
   "cell_type": "code",
   "execution_count": 20,
   "id": "24a16b86",
   "metadata": {},
   "outputs": [
    {
     "data": {
      "text/plain": [
       "<matplotlib.legend.Legend at 0x1ec074a74c0>"
      ]
     },
     "execution_count": 20,
     "metadata": {},
     "output_type": "execute_result"
    },
    {
     "data": {
      "image/png": "[encoded data removed]",
      "text/plain": [
       "<Figure size 576x432 with 1 Axes>"
      ]
     },
     "metadata": {
      "needs_background": "light"
     },
     "output_type": "display_data"
    }
   ],
   "source": [
    "plt.figure(figsize=(8,6))\n",
    "sns.kdeplot(x=df[\"surge_multiplier\"], shade=True,color='g',label=\"surge_multiplier\")\n",
    "plt.axvline(x=df[\"surge_multiplier\"].mean(),color=\"b\",ls=\":\",lw=2,label=\"mean value: {}\".format(df[\"surge_multiplier\"].mean()))\n",
    "plt.axvline(x=df[\"surge_multiplier\"].median(),color=\"r\",ls=\"-.\",lw=1.8,label=\"median value: {}\".format(df[\"surge_multiplier\"].median()))\n",
    "plt.xlabel(\"surge_multiplier\")\n",
    "plt.ylabel(\"Probability Distribution\")\n",
    "plt.legend()"
   ]
  },
  {
   "cell_type": "code",
   "execution_count": 21,
   "id": "bcafb756",
   "metadata": {},
   "outputs": [
    {
     "data": {
      "text/plain": [
       "<matplotlib.legend.Legend at 0x1ec075eb4f0>"
      ]
     },
     "execution_count": 21,
     "metadata": {},
     "output_type": "execute_result"
    },
    {
     "data": {
      "image/png": "[encoded data removed]",
      "text/plain": [
       "<Figure size 360x216 with 1 Axes>"
      ]
     },
     "metadata": {
      "needs_background": "light"
     },
     "output_type": "display_data"
    }
   ],
   "source": [
    "plt.figure(figsize=(5,3))\n",
    "sns.kdeplot(x=df[\"price\"], shade=True,color='g',label=\"price\")\n",
    "plt.axvline(x=df[\"price\"].mean(),color=\"b\",ls=\":\",lw=2,label=\"mean value: {}\".format(df[\"price\"].mean()))\n",
    "plt.axvline(x=df[\"price\"].median(),color=\"r\",ls=\"-.\",lw=1.8,label=\"median value: {}\".format(df[\"price\"].median()))\n",
    "plt.xlabel(\"price\")\n",
    "plt.ylabel(\"Probability Distribution\")\n",
    "plt.legend()"
   ]
  },
  {
   "cell_type": "code",
   "execution_count": 22,
   "id": "67785820",
   "metadata": {},
   "outputs": [
    {
     "data": {
      "image/png": "[encoded data removed]",
      "text/plain": [
       "<Figure size 1440x720 with 1 Axes>"
      ]
     },
     "metadata": {
      "needs_background": "light"
     },
     "output_type": "display_data"
    }
   ],
   "source": [
    "plt.figure(figsize=(20,10))\n",
    "sns.barplot(x = 'name',\n",
    "            y = 'distance',\n",
    "            data = df)\n",
    " \n",
    "# Show the plot\n",
    "plt.show()"
   ]
  },
  {
   "cell_type": "code",
   "execution_count": 23,
   "id": "56e1a418",
   "metadata": {},
   "outputs": [
    {
     "data": {
      "text/html": [
       "<div>\n",
       "<style scoped>\n",
       "    .dataframe tbody tr th:only-of-type {\n",
       "        vertical-align: middle;\n",
       "    }\n",
       "\n",
       "    .dataframe tbody tr th {\n",
       "        vertical-align: top;\n",
       "    }\n",
       "\n",
       "    .dataframe thead th {\n",
       "        text-align: right;\n",
       "    }\n",
       "</style>\n",
       "<table border=\"1\" class=\"dataframe\">\n",
       "  <thead>\n",
       "    <tr style=\"text-align: right;\">\n",
       "      <th></th>\n",
       "      <th>distance</th>\n",
       "      <th>cab_type</th>\n",
       "      <th>destination</th>\n",
       "      <th>source</th>\n",
       "      <th>price</th>\n",
       "      <th>surge_multiplier</th>\n",
       "      <th>id</th>\n",
       "      <th>product_id</th>\n",
       "      <th>name</th>\n",
       "      <th>fare_per_mile</th>\n",
       "      <th>date_time</th>\n",
       "    </tr>\n",
       "  </thead>\n",
       "  <tbody>\n",
       "    <tr>\n",
       "      <th>0</th>\n",
       "      <td>0.44</td>\n",
       "      <td>Lyft</td>\n",
       "      <td>North Station</td>\n",
       "      <td>Haymarket Square</td>\n",
       "      <td>4.9984</td>\n",
       "      <td>1.0</td>\n",
       "      <td>424553bb-7174-41ea-aeb4-fe06d4f4b9d7</td>\n",
       "      <td>lyft_line</td>\n",
       "      <td>Shared</td>\n",
       "      <td>11.36</td>\n",
       "      <td>2018-12-16 09:30:07.890000128</td>\n",
       "    </tr>\n",
       "    <tr>\n",
       "      <th>1</th>\n",
       "      <td>0.44</td>\n",
       "      <td>Lyft</td>\n",
       "      <td>North Station</td>\n",
       "      <td>Haymarket Square</td>\n",
       "      <td>11.0000</td>\n",
       "      <td>1.0</td>\n",
       "      <td>4bd23055-6827-41c6-b23b-3c491f24e74d</td>\n",
       "      <td>lyft_premier</td>\n",
       "      <td>Lux</td>\n",
       "      <td>25.00</td>\n",
       "      <td>2018-11-27 02:00:23.676999936</td>\n",
       "    </tr>\n",
       "    <tr>\n",
       "      <th>2</th>\n",
       "      <td>0.44</td>\n",
       "      <td>Lyft</td>\n",
       "      <td>North Station</td>\n",
       "      <td>Haymarket Square</td>\n",
       "      <td>7.0004</td>\n",
       "      <td>1.0</td>\n",
       "      <td>981a3613-77af-4620-a42a-0c0866077d1e</td>\n",
       "      <td>lyft</td>\n",
       "      <td>Lyft</td>\n",
       "      <td>15.91</td>\n",
       "      <td>2018-11-28 01:00:22.197999872</td>\n",
       "    </tr>\n",
       "    <tr>\n",
       "      <th>3</th>\n",
       "      <td>0.44</td>\n",
       "      <td>Lyft</td>\n",
       "      <td>North Station</td>\n",
       "      <td>Haymarket Square</td>\n",
       "      <td>25.9996</td>\n",
       "      <td>1.0</td>\n",
       "      <td>c2d88af2-d278-4bfd-a8d0-29ca77cc5512</td>\n",
       "      <td>lyft_luxsuv</td>\n",
       "      <td>Lux Black XL</td>\n",
       "      <td>59.09</td>\n",
       "      <td>2018-11-30 04:53:02.749000192</td>\n",
       "    </tr>\n",
       "    <tr>\n",
       "      <th>4</th>\n",
       "      <td>0.44</td>\n",
       "      <td>Lyft</td>\n",
       "      <td>North Station</td>\n",
       "      <td>Haymarket Square</td>\n",
       "      <td>8.9980</td>\n",
       "      <td>1.0</td>\n",
       "      <td>e0126e1f-8ca9-4f2e-82b3-50505a09db9a</td>\n",
       "      <td>lyft_plus</td>\n",
       "      <td>Lyft XL</td>\n",
       "      <td>20.45</td>\n",
       "      <td>2018-11-29 03:49:20.223000064</td>\n",
       "    </tr>\n",
       "  </tbody>\n",
       "</table>\n",
       "</div>"
      ],
      "text/plain": [
       "   distance cab_type    destination            source    price  \\\n",
       "0      0.44     Lyft  North Station  Haymarket Square   4.9984   \n",
       "1      0.44     Lyft  North Station  Haymarket Square  11.0000   \n",
       "2      0.44     Lyft  North Station  Haymarket Square   7.0004   \n",
       "3      0.44     Lyft  North Station  Haymarket Square  25.9996   \n",
       "4      0.44     Lyft  North Station  Haymarket Square   8.9980   \n",
       "\n",
       "   surge_multiplier                                    id    product_id  \\\n",
       "0               1.0  424553bb-7174-41ea-aeb4-fe06d4f4b9d7     lyft_line   \n",
       "1               1.0  4bd23055-6827-41c6-b23b-3c491f24e74d  lyft_premier   \n",
       "2               1.0  981a3613-77af-4620-a42a-0c0866077d1e          lyft   \n",
       "3               1.0  c2d88af2-d278-4bfd-a8d0-29ca77cc5512   lyft_luxsuv   \n",
       "4               1.0  e0126e1f-8ca9-4f2e-82b3-50505a09db9a     lyft_plus   \n",
       "\n",
       "           name  fare_per_mile                     date_time  \n",
       "0        Shared          11.36 2018-12-16 09:30:07.890000128  \n",
       "1           Lux          25.00 2018-11-27 02:00:23.676999936  \n",
       "2          Lyft          15.91 2018-11-28 01:00:22.197999872  \n",
       "3  Lux Black XL          59.09 2018-11-30 04:53:02.749000192  \n",
       "4       Lyft XL          20.45 2018-11-29 03:49:20.223000064  "
      ]
     },
     "execution_count": 23,
     "metadata": {},
     "output_type": "execute_result"
    }
   ],
   "source": [
    "df.head()"
   ]
  },
  {
   "cell_type": "code",
   "execution_count": 24,
   "id": "df99ebaf",
   "metadata": {},
   "outputs": [
    {
     "data": {
      "text/plain": [
       "distance                   float64\n",
       "cab_type                    object\n",
       "destination                 object\n",
       "source                      object\n",
       "price                      float64\n",
       "surge_multiplier           float64\n",
       "id                          object\n",
       "product_id                  object\n",
       "name                        object\n",
       "fare_per_mile              float64\n",
       "date_time           datetime64[ns]\n",
       "dtype: object"
      ]
     },
     "execution_count": 24,
     "metadata": {},
     "output_type": "execute_result"
    }
   ],
   "source": [
    "df.dtypes"
   ]
  },
  {
   "cell_type": "code",
   "execution_count": 25,
   "id": "b7b752e8",
   "metadata": {},
   "outputs": [
    {
     "data": {
      "text/plain": [
       "temp             0\n",
       "location         0\n",
       "clouds           0\n",
       "pressure         0\n",
       "rain          5382\n",
       "time_stamp       0\n",
       "humidity         0\n",
       "wind             0\n",
       "date_time        0\n",
       "dtype: int64"
      ]
     },
     "execution_count": 25,
     "metadata": {},
     "output_type": "execute_result"
    }
   ],
   "source": [
    "df1.isnull().sum()"
   ]
  },
  {
   "cell_type": "code",
   "execution_count": 26,
   "id": "3b944dc7",
   "metadata": {},
   "outputs": [],
   "source": [
    "df1['rain'] = df1['rain'].fillna(df1['rain'].mean())"
   ]
  },
  {
   "cell_type": "code",
   "execution_count": 27,
   "id": "e12c6846",
   "metadata": {},
   "outputs": [
    {
     "data": {
      "text/plain": [
       "temp          0\n",
       "location      0\n",
       "clouds        0\n",
       "pressure      0\n",
       "rain          0\n",
       "time_stamp    0\n",
       "humidity      0\n",
       "wind          0\n",
       "date_time     0\n",
       "dtype: int64"
      ]
     },
     "execution_count": 27,
     "metadata": {},
     "output_type": "execute_result"
    }
   ],
   "source": [
    "df1.isnull().sum()"
   ]
  },
  {
   "cell_type": "code",
   "execution_count": 28,
   "id": "bf66379d",
   "metadata": {},
   "outputs": [],
   "source": [
    "#df1['date']= df1['date_time'].dt.date\n",
    "df1['day'] = df1.date_time.dt.dayofweek\n",
    "df1['hour'] = df1.date_time.dt.hour\n",
    "#f['date']= df['date_time'].dt.date\n",
    "df['day'] = df.date_time.dt.dayofweek\n",
    "df['hour'] = df.date_time.dt.hour"
   ]
  },
  {
   "cell_type": "code",
   "execution_count": 29,
   "id": "93af9e50",
   "metadata": {},
   "outputs": [],
   "source": [
    "#merge the datasets to refelect same time for a location\n",
    "df['merge_date'] = df.source.astype(str) +\" - \"+ df.date_time.dt.date.astype(\"str\") +\" - \"+ df.date_time.dt.hour.astype(\"str\")\n",
    "df1['merge_date'] = df1.location.astype(str) +\" - \"+ df1.date_time.dt.date.astype(\"str\") +\" - \"+ df1.date_time.dt.hour.astype(\"str\")"
   ]
  },
  {
   "cell_type": "code",
   "execution_count": 30,
   "id": "4aa28a97",
   "metadata": {},
   "outputs": [],
   "source": [
    "df1.index = df1['merge_date']"
   ]
  },
  {
   "cell_type": "code",
   "execution_count": 31,
   "id": "f4beabf4",
   "metadata": {},
   "outputs": [],
   "source": [
    "df3 = df.join(df1,on=['merge_date'],rsuffix ='_w')"
   ]
  },
  {
   "cell_type": "code",
   "execution_count": 32,
   "id": "a7eee7e0",
   "metadata": {},
   "outputs": [
    {
     "data": {
      "text/html": [
       "<div>\n",
       "<style scoped>\n",
       "    .dataframe tbody tr th:only-of-type {\n",
       "        vertical-align: middle;\n",
       "    }\n",
       "\n",
       "    .dataframe tbody tr th {\n",
       "        vertical-align: top;\n",
       "    }\n",
       "\n",
       "    .dataframe thead th {\n",
       "        text-align: right;\n",
       "    }\n",
       "</style>\n",
       "<table border=\"1\" class=\"dataframe\">\n",
       "  <thead>\n",
       "    <tr style=\"text-align: right;\">\n",
       "      <th></th>\n",
       "      <th>distance</th>\n",
       "      <th>cab_type</th>\n",
       "      <th>destination</th>\n",
       "      <th>source</th>\n",
       "      <th>price</th>\n",
       "      <th>surge_multiplier</th>\n",
       "      <th>id</th>\n",
       "      <th>product_id</th>\n",
       "      <th>name</th>\n",
       "      <th>fare_per_mile</th>\n",
       "      <th>...</th>\n",
       "      <th>clouds</th>\n",
       "      <th>pressure</th>\n",
       "      <th>rain</th>\n",
       "      <th>time_stamp</th>\n",
       "      <th>humidity</th>\n",
       "      <th>wind</th>\n",
       "      <th>date_time_w</th>\n",
       "      <th>day_w</th>\n",
       "      <th>hour_w</th>\n",
       "      <th>merge_date_w</th>\n",
       "    </tr>\n",
       "  </thead>\n",
       "  <tbody>\n",
       "    <tr>\n",
       "      <th>0</th>\n",
       "      <td>0.44</td>\n",
       "      <td>Lyft</td>\n",
       "      <td>North Station</td>\n",
       "      <td>Haymarket Square</td>\n",
       "      <td>4.9984</td>\n",
       "      <td>1.0</td>\n",
       "      <td>424553bb-7174-41ea-aeb4-fe06d4f4b9d7</td>\n",
       "      <td>lyft_line</td>\n",
       "      <td>Shared</td>\n",
       "      <td>11.36</td>\n",
       "      <td>...</td>\n",
       "      <td>0.29</td>\n",
       "      <td>1022.25</td>\n",
       "      <td>0.057652</td>\n",
       "      <td>1.544954e+09</td>\n",
       "      <td>0.76</td>\n",
       "      <td>7.68</td>\n",
       "      <td>2018-12-16 09:45:01</td>\n",
       "      <td>6.0</td>\n",
       "      <td>9.0</td>\n",
       "      <td>Haymarket Square - 2018-12-16 - 9</td>\n",
       "    </tr>\n",
       "    <tr>\n",
       "      <th>1</th>\n",
       "      <td>0.44</td>\n",
       "      <td>Lyft</td>\n",
       "      <td>North Station</td>\n",
       "      <td>Haymarket Square</td>\n",
       "      <td>11.0000</td>\n",
       "      <td>1.0</td>\n",
       "      <td>4bd23055-6827-41c6-b23b-3c491f24e74d</td>\n",
       "      <td>lyft_premier</td>\n",
       "      <td>Lux</td>\n",
       "      <td>25.00</td>\n",
       "      <td>...</td>\n",
       "      <td>1.00</td>\n",
       "      <td>1003.17</td>\n",
       "      <td>0.112300</td>\n",
       "      <td>1.543285e+09</td>\n",
       "      <td>0.90</td>\n",
       "      <td>13.69</td>\n",
       "      <td>2018-11-27 02:15:20</td>\n",
       "      <td>1.0</td>\n",
       "      <td>2.0</td>\n",
       "      <td>Haymarket Square - 2018-11-27 - 2</td>\n",
       "    </tr>\n",
       "    <tr>\n",
       "      <th>1</th>\n",
       "      <td>0.44</td>\n",
       "      <td>Lyft</td>\n",
       "      <td>North Station</td>\n",
       "      <td>Haymarket Square</td>\n",
       "      <td>11.0000</td>\n",
       "      <td>1.0</td>\n",
       "      <td>4bd23055-6827-41c6-b23b-3c491f24e74d</td>\n",
       "      <td>lyft_premier</td>\n",
       "      <td>Lux</td>\n",
       "      <td>25.00</td>\n",
       "      <td>...</td>\n",
       "      <td>0.99</td>\n",
       "      <td>1002.59</td>\n",
       "      <td>0.099700</td>\n",
       "      <td>1.543287e+09</td>\n",
       "      <td>0.89</td>\n",
       "      <td>11.57</td>\n",
       "      <td>2018-11-27 02:45:20</td>\n",
       "      <td>1.0</td>\n",
       "      <td>2.0</td>\n",
       "      <td>Haymarket Square - 2018-11-27 - 2</td>\n",
       "    </tr>\n",
       "    <tr>\n",
       "      <th>2</th>\n",
       "      <td>0.44</td>\n",
       "      <td>Lyft</td>\n",
       "      <td>North Station</td>\n",
       "      <td>Haymarket Square</td>\n",
       "      <td>7.0004</td>\n",
       "      <td>1.0</td>\n",
       "      <td>981a3613-77af-4620-a42a-0c0866077d1e</td>\n",
       "      <td>lyft</td>\n",
       "      <td>Lyft</td>\n",
       "      <td>15.91</td>\n",
       "      <td>...</td>\n",
       "      <td>NaN</td>\n",
       "      <td>NaN</td>\n",
       "      <td>NaN</td>\n",
       "      <td>NaN</td>\n",
       "      <td>NaN</td>\n",
       "      <td>NaN</td>\n",
       "      <td>NaT</td>\n",
       "      <td>NaN</td>\n",
       "      <td>NaN</td>\n",
       "      <td>NaN</td>\n",
       "    </tr>\n",
       "    <tr>\n",
       "      <th>3</th>\n",
       "      <td>0.44</td>\n",
       "      <td>Lyft</td>\n",
       "      <td>North Station</td>\n",
       "      <td>Haymarket Square</td>\n",
       "      <td>25.9996</td>\n",
       "      <td>1.0</td>\n",
       "      <td>c2d88af2-d278-4bfd-a8d0-29ca77cc5512</td>\n",
       "      <td>lyft_luxsuv</td>\n",
       "      <td>Lux Black XL</td>\n",
       "      <td>59.09</td>\n",
       "      <td>...</td>\n",
       "      <td>0.00</td>\n",
       "      <td>1013.71</td>\n",
       "      <td>0.057652</td>\n",
       "      <td>1.543554e+09</td>\n",
       "      <td>0.70</td>\n",
       "      <td>5.25</td>\n",
       "      <td>2018-11-30 04:52:54</td>\n",
       "      <td>4.0</td>\n",
       "      <td>4.0</td>\n",
       "      <td>Haymarket Square - 2018-11-30 - 4</td>\n",
       "    </tr>\n",
       "  </tbody>\n",
       "</table>\n",
       "<p>5 rows × 26 columns</p>\n",
       "</div>"
      ],
      "text/plain": [
       "   distance cab_type    destination            source    price  \\\n",
       "0      0.44     Lyft  North Station  Haymarket Square   4.9984   \n",
       "1      0.44     Lyft  North Station  Haymarket Square  11.0000   \n",
       "1      0.44     Lyft  North Station  Haymarket Square  11.0000   \n",
       "2      0.44     Lyft  North Station  Haymarket Square   7.0004   \n",
       "3      0.44     Lyft  North Station  Haymarket Square  25.9996   \n",
       "\n",
       "   surge_multiplier                                    id    product_id  \\\n",
       "0               1.0  424553bb-7174-41ea-aeb4-fe06d4f4b9d7     lyft_line   \n",
       "1               1.0  4bd23055-6827-41c6-b23b-3c491f24e74d  lyft_premier   \n",
       "1               1.0  4bd23055-6827-41c6-b23b-3c491f24e74d  lyft_premier   \n",
       "2               1.0  981a3613-77af-4620-a42a-0c0866077d1e          lyft   \n",
       "3               1.0  c2d88af2-d278-4bfd-a8d0-29ca77cc5512   lyft_luxsuv   \n",
       "\n",
       "           name  fare_per_mile  ... clouds  pressure      rain    time_stamp  \\\n",
       "0        Shared          11.36  ...   0.29   1022.25  0.057652  1.544954e+09   \n",
       "1           Lux          25.00  ...   1.00   1003.17  0.112300  1.543285e+09   \n",
       "1           Lux          25.00  ...   0.99   1002.59  0.099700  1.543287e+09   \n",
       "2          Lyft          15.91  ...    NaN       NaN       NaN           NaN   \n",
       "3  Lux Black XL          59.09  ...   0.00   1013.71  0.057652  1.543554e+09   \n",
       "\n",
       "   humidity   wind         date_time_w  day_w  hour_w  \\\n",
       "0      0.76   7.68 2018-12-16 09:45:01    6.0     9.0   \n",
       "1      0.90  13.69 2018-11-27 02:15:20    1.0     2.0   \n",
       "1      0.89  11.57 2018-11-27 02:45:20    1.0     2.0   \n",
       "2       NaN    NaN                 NaT    NaN     NaN   \n",
       "3      0.70   5.25 2018-11-30 04:52:54    4.0     4.0   \n",
       "\n",
       "                        merge_date_w  \n",
       "0  Haymarket Square - 2018-12-16 - 9  \n",
       "1  Haymarket Square - 2018-11-27 - 2  \n",
       "1  Haymarket Square - 2018-11-27 - 2  \n",
       "2                                NaN  \n",
       "3  Haymarket Square - 2018-11-30 - 4  \n",
       "\n",
       "[5 rows x 26 columns]"
      ]
     },
     "execution_count": 32,
     "metadata": {},
     "output_type": "execute_result"
    }
   ],
   "source": [
    "df3.head()"
   ]
  },
  {
   "cell_type": "code",
   "execution_count": 33,
   "id": "54e28a43",
   "metadata": {},
   "outputs": [
    {
     "data": {
      "text/plain": [
       "(1268639, 26)"
      ]
     },
     "execution_count": 33,
     "metadata": {},
     "output_type": "execute_result"
    }
   ],
   "source": [
    "df3.shape"
   ]
  },
  {
   "cell_type": "code",
   "execution_count": 34,
   "id": "7d10035d",
   "metadata": {},
   "outputs": [],
   "source": [
    "pd.set_option('display.max_columns', None)\n",
    "pd.set_option('display.max_rows', None)"
   ]
  },
  {
   "cell_type": "code",
   "execution_count": 35,
   "id": "0dac4b8c",
   "metadata": {},
   "outputs": [
    {
     "data": {
      "text/html": [
       "<div>\n",
       "<style scoped>\n",
       "    .dataframe tbody tr th:only-of-type {\n",
       "        vertical-align: middle;\n",
       "    }\n",
       "\n",
       "    .dataframe tbody tr th {\n",
       "        vertical-align: top;\n",
       "    }\n",
       "\n",
       "    .dataframe thead th {\n",
       "        text-align: right;\n",
       "    }\n",
       "</style>\n",
       "<table border=\"1\" class=\"dataframe\">\n",
       "  <thead>\n",
       "    <tr style=\"text-align: right;\">\n",
       "      <th></th>\n",
       "      <th>distance</th>\n",
       "      <th>cab_type</th>\n",
       "      <th>destination</th>\n",
       "      <th>source</th>\n",
       "      <th>price</th>\n",
       "      <th>surge_multiplier</th>\n",
       "      <th>id</th>\n",
       "      <th>product_id</th>\n",
       "      <th>name</th>\n",
       "      <th>fare_per_mile</th>\n",
       "      <th>date_time</th>\n",
       "      <th>day</th>\n",
       "      <th>hour</th>\n",
       "      <th>merge_date</th>\n",
       "      <th>temp</th>\n",
       "      <th>location</th>\n",
       "      <th>clouds</th>\n",
       "      <th>pressure</th>\n",
       "      <th>rain</th>\n",
       "      <th>time_stamp</th>\n",
       "      <th>humidity</th>\n",
       "      <th>wind</th>\n",
       "      <th>date_time_w</th>\n",
       "      <th>day_w</th>\n",
       "      <th>hour_w</th>\n",
       "      <th>merge_date_w</th>\n",
       "    </tr>\n",
       "  </thead>\n",
       "  <tbody>\n",
       "    <tr>\n",
       "      <th>0</th>\n",
       "      <td>0.44</td>\n",
       "      <td>Lyft</td>\n",
       "      <td>North Station</td>\n",
       "      <td>Haymarket Square</td>\n",
       "      <td>4.9984</td>\n",
       "      <td>1.0</td>\n",
       "      <td>424553bb-7174-41ea-aeb4-fe06d4f4b9d7</td>\n",
       "      <td>lyft_line</td>\n",
       "      <td>Shared</td>\n",
       "      <td>11.36</td>\n",
       "      <td>2018-12-16 09:30:07.890000128</td>\n",
       "      <td>6</td>\n",
       "      <td>9</td>\n",
       "      <td>Haymarket Square - 2018-12-16 - 9</td>\n",
       "      <td>38.46</td>\n",
       "      <td>Haymarket Square</td>\n",
       "      <td>0.29</td>\n",
       "      <td>1022.25</td>\n",
       "      <td>0.057652</td>\n",
       "      <td>1.544954e+09</td>\n",
       "      <td>0.76</td>\n",
       "      <td>7.68</td>\n",
       "      <td>2018-12-16 09:45:01</td>\n",
       "      <td>6.0</td>\n",
       "      <td>9.0</td>\n",
       "      <td>Haymarket Square - 2018-12-16 - 9</td>\n",
       "    </tr>\n",
       "    <tr>\n",
       "      <th>1</th>\n",
       "      <td>0.44</td>\n",
       "      <td>Lyft</td>\n",
       "      <td>North Station</td>\n",
       "      <td>Haymarket Square</td>\n",
       "      <td>11.0000</td>\n",
       "      <td>1.0</td>\n",
       "      <td>4bd23055-6827-41c6-b23b-3c491f24e74d</td>\n",
       "      <td>lyft_premier</td>\n",
       "      <td>Lux</td>\n",
       "      <td>25.00</td>\n",
       "      <td>2018-11-27 02:00:23.676999936</td>\n",
       "      <td>1</td>\n",
       "      <td>2</td>\n",
       "      <td>Haymarket Square - 2018-11-27 - 2</td>\n",
       "      <td>44.31</td>\n",
       "      <td>Haymarket Square</td>\n",
       "      <td>1.00</td>\n",
       "      <td>1003.17</td>\n",
       "      <td>0.112300</td>\n",
       "      <td>1.543285e+09</td>\n",
       "      <td>0.90</td>\n",
       "      <td>13.69</td>\n",
       "      <td>2018-11-27 02:15:20</td>\n",
       "      <td>1.0</td>\n",
       "      <td>2.0</td>\n",
       "      <td>Haymarket Square - 2018-11-27 - 2</td>\n",
       "    </tr>\n",
       "    <tr>\n",
       "      <th>1</th>\n",
       "      <td>0.44</td>\n",
       "      <td>Lyft</td>\n",
       "      <td>North Station</td>\n",
       "      <td>Haymarket Square</td>\n",
       "      <td>11.0000</td>\n",
       "      <td>1.0</td>\n",
       "      <td>4bd23055-6827-41c6-b23b-3c491f24e74d</td>\n",
       "      <td>lyft_premier</td>\n",
       "      <td>Lux</td>\n",
       "      <td>25.00</td>\n",
       "      <td>2018-11-27 02:00:23.676999936</td>\n",
       "      <td>1</td>\n",
       "      <td>2</td>\n",
       "      <td>Haymarket Square - 2018-11-27 - 2</td>\n",
       "      <td>43.82</td>\n",
       "      <td>Haymarket Square</td>\n",
       "      <td>0.99</td>\n",
       "      <td>1002.59</td>\n",
       "      <td>0.099700</td>\n",
       "      <td>1.543287e+09</td>\n",
       "      <td>0.89</td>\n",
       "      <td>11.57</td>\n",
       "      <td>2018-11-27 02:45:20</td>\n",
       "      <td>1.0</td>\n",
       "      <td>2.0</td>\n",
       "      <td>Haymarket Square - 2018-11-27 - 2</td>\n",
       "    </tr>\n",
       "    <tr>\n",
       "      <th>2</th>\n",
       "      <td>0.44</td>\n",
       "      <td>Lyft</td>\n",
       "      <td>North Station</td>\n",
       "      <td>Haymarket Square</td>\n",
       "      <td>7.0004</td>\n",
       "      <td>1.0</td>\n",
       "      <td>981a3613-77af-4620-a42a-0c0866077d1e</td>\n",
       "      <td>lyft</td>\n",
       "      <td>Lyft</td>\n",
       "      <td>15.91</td>\n",
       "      <td>2018-11-28 01:00:22.197999872</td>\n",
       "      <td>2</td>\n",
       "      <td>1</td>\n",
       "      <td>Haymarket Square - 2018-11-28 - 1</td>\n",
       "      <td>NaN</td>\n",
       "      <td>NaN</td>\n",
       "      <td>NaN</td>\n",
       "      <td>NaN</td>\n",
       "      <td>NaN</td>\n",
       "      <td>NaN</td>\n",
       "      <td>NaN</td>\n",
       "      <td>NaN</td>\n",
       "      <td>NaT</td>\n",
       "      <td>NaN</td>\n",
       "      <td>NaN</td>\n",
       "      <td>NaN</td>\n",
       "    </tr>\n",
       "    <tr>\n",
       "      <th>3</th>\n",
       "      <td>0.44</td>\n",
       "      <td>Lyft</td>\n",
       "      <td>North Station</td>\n",
       "      <td>Haymarket Square</td>\n",
       "      <td>25.9996</td>\n",
       "      <td>1.0</td>\n",
       "      <td>c2d88af2-d278-4bfd-a8d0-29ca77cc5512</td>\n",
       "      <td>lyft_luxsuv</td>\n",
       "      <td>Lux Black XL</td>\n",
       "      <td>59.09</td>\n",
       "      <td>2018-11-30 04:53:02.749000192</td>\n",
       "      <td>4</td>\n",
       "      <td>4</td>\n",
       "      <td>Haymarket Square - 2018-11-30 - 4</td>\n",
       "      <td>35.08</td>\n",
       "      <td>Haymarket Square</td>\n",
       "      <td>0.00</td>\n",
       "      <td>1013.71</td>\n",
       "      <td>0.057652</td>\n",
       "      <td>1.543554e+09</td>\n",
       "      <td>0.70</td>\n",
       "      <td>5.25</td>\n",
       "      <td>2018-11-30 04:52:54</td>\n",
       "      <td>4.0</td>\n",
       "      <td>4.0</td>\n",
       "      <td>Haymarket Square - 2018-11-30 - 4</td>\n",
       "    </tr>\n",
       "  </tbody>\n",
       "</table>\n",
       "</div>"
      ],
      "text/plain": [
       "   distance cab_type    destination            source    price  \\\n",
       "0      0.44     Lyft  North Station  Haymarket Square   4.9984   \n",
       "1      0.44     Lyft  North Station  Haymarket Square  11.0000   \n",
       "1      0.44     Lyft  North Station  Haymarket Square  11.0000   \n",
       "2      0.44     Lyft  North Station  Haymarket Square   7.0004   \n",
       "3      0.44     Lyft  North Station  Haymarket Square  25.9996   \n",
       "\n",
       "   surge_multiplier                                    id    product_id  \\\n",
       "0               1.0  424553bb-7174-41ea-aeb4-fe06d4f4b9d7     lyft_line   \n",
       "1               1.0  4bd23055-6827-41c6-b23b-3c491f24e74d  lyft_premier   \n",
       "1               1.0  4bd23055-6827-41c6-b23b-3c491f24e74d  lyft_premier   \n",
       "2               1.0  981a3613-77af-4620-a42a-0c0866077d1e          lyft   \n",
       "3               1.0  c2d88af2-d278-4bfd-a8d0-29ca77cc5512   lyft_luxsuv   \n",
       "\n",
       "           name  fare_per_mile                     date_time  day  hour  \\\n",
       "0        Shared          11.36 2018-12-16 09:30:07.890000128    6     9   \n",
       "1           Lux          25.00 2018-11-27 02:00:23.676999936    1     2   \n",
       "1           Lux          25.00 2018-11-27 02:00:23.676999936    1     2   \n",
       "2          Lyft          15.91 2018-11-28 01:00:22.197999872    2     1   \n",
       "3  Lux Black XL          59.09 2018-11-30 04:53:02.749000192    4     4   \n",
       "\n",
       "                          merge_date   temp          location  clouds  \\\n",
       "0  Haymarket Square - 2018-12-16 - 9  38.46  Haymarket Square    0.29   \n",
       "1  Haymarket Square - 2018-11-27 - 2  44.31  Haymarket Square    1.00   \n",
       "1  Haymarket Square - 2018-11-27 - 2  43.82  Haymarket Square    0.99   \n",
       "2  Haymarket Square - 2018-11-28 - 1    NaN               NaN     NaN   \n",
       "3  Haymarket Square - 2018-11-30 - 4  35.08  Haymarket Square    0.00   \n",
       "\n",
       "   pressure      rain    time_stamp  humidity   wind         date_time_w  \\\n",
       "0   1022.25  0.057652  1.544954e+09      0.76   7.68 2018-12-16 09:45:01   \n",
       "1   1003.17  0.112300  1.543285e+09      0.90  13.69 2018-11-27 02:15:20   \n",
       "1   1002.59  0.099700  1.543287e+09      0.89  11.57 2018-11-27 02:45:20   \n",
       "2       NaN       NaN           NaN       NaN    NaN                 NaT   \n",
       "3   1013.71  0.057652  1.543554e+09      0.70   5.25 2018-11-30 04:52:54   \n",
       "\n",
       "   day_w  hour_w                       merge_date_w  \n",
       "0    6.0     9.0  Haymarket Square - 2018-12-16 - 9  \n",
       "1    1.0     2.0  Haymarket Square - 2018-11-27 - 2  \n",
       "1    1.0     2.0  Haymarket Square - 2018-11-27 - 2  \n",
       "2    NaN     NaN                                NaN  \n",
       "3    4.0     4.0  Haymarket Square - 2018-11-30 - 4  "
      ]
     },
     "execution_count": 35,
     "metadata": {},
     "output_type": "execute_result"
    }
   ],
   "source": [
    "df3.head()"
   ]
  },
  {
   "cell_type": "code",
   "execution_count": 36,
   "id": "fdbae6ac",
   "metadata": {},
   "outputs": [
    {
     "name": "stdout",
     "output_type": "stream",
     "text": [
      "<class 'pandas.core.frame.DataFrame'>\n",
      "Int64Index: 1268639 entries, 0 to 693070\n",
      "Data columns (total 26 columns):\n",
      " #   Column            Non-Null Count    Dtype         \n",
      "---  ------            --------------    -----         \n",
      " 0   distance          1268639 non-null  float64       \n",
      " 1   cab_type          1268639 non-null  object        \n",
      " 2   destination       1268639 non-null  object        \n",
      " 3   source            1268639 non-null  object        \n",
      " 4   price             1268639 non-null  float64       \n",
      " 5   surge_multiplier  1268639 non-null  float64       \n",
      " 6   id                1268639 non-null  object        \n",
      " 7   product_id        1268639 non-null  object        \n",
      " 8   name              1268639 non-null  object        \n",
      " 9   fare_per_mile     1268639 non-null  float64       \n",
      " 10  date_time         1268639 non-null  datetime64[ns]\n",
      " 11  day               1268639 non-null  int64         \n",
      " 12  hour              1268639 non-null  int64         \n",
      " 13  merge_date        1268639 non-null  object        \n",
      " 14  temp              1265675 non-null  float64       \n",
      " 15  location          1265675 non-null  object        \n",
      " 16  clouds            1265675 non-null  float64       \n",
      " 17  pressure          1265675 non-null  float64       \n",
      " 18  rain              1265675 non-null  float64       \n",
      " 19  time_stamp        1265675 non-null  float64       \n",
      " 20  humidity          1265675 non-null  float64       \n",
      " 21  wind              1265675 non-null  float64       \n",
      " 22  date_time_w       1265675 non-null  datetime64[ns]\n",
      " 23  day_w             1265675 non-null  float64       \n",
      " 24  hour_w            1265675 non-null  float64       \n",
      " 25  merge_date_w      1265675 non-null  object        \n",
      "dtypes: datetime64[ns](2), float64(13), int64(2), object(9)\n",
      "memory usage: 261.3+ MB\n"
     ]
    }
   ],
   "source": [
    "df3.info()"
   ]
  },
  {
   "cell_type": "code",
   "execution_count": 37,
   "id": "ee58ea99",
   "metadata": {},
   "outputs": [
    {
     "data": {
      "text/plain": [
       "distance               0\n",
       "cab_type               0\n",
       "destination            0\n",
       "source                 0\n",
       "price                  0\n",
       "surge_multiplier       0\n",
       "id                     0\n",
       "product_id             0\n",
       "name                   0\n",
       "fare_per_mile          0\n",
       "date_time              0\n",
       "day                    0\n",
       "hour                   0\n",
       "merge_date             0\n",
       "temp                2964\n",
       "location            2964\n",
       "clouds              2964\n",
       "pressure            2964\n",
       "rain                2964\n",
       "time_stamp          2964\n",
       "humidity            2964\n",
       "wind                2964\n",
       "date_time_w         2964\n",
       "day_w               2964\n",
       "hour_w              2964\n",
       "merge_date_w        2964\n",
       "dtype: int64"
      ]
     },
     "execution_count": 37,
     "metadata": {},
     "output_type": "execute_result"
    }
   ],
   "source": [
    "df3.isnull().sum()"
   ]
  },
  {
   "cell_type": "code",
   "execution_count": 38,
   "id": "63f66fca",
   "metadata": {},
   "outputs": [
    {
     "name": "stdout",
     "output_type": "stream",
     "text": [
      "Unique values in distance: [0.44 1.08 1.11 0.72 2.48 3.24 2.94 1.76 0.71 1.23 1.16 2.67 3.39 2.82\n",
      " 2.49 3.07 1.57 3.2  3.61 3.05 1.75 2.36 2.32 1.02 1.17 4.43 1.4  1.01\n",
      " 2.84 1.3  1.81 2.44 3.04 2.59 3.25 2.66 3.26 2.39 3.28 2.81 3.18 2.63\n",
      " 3.14 1.79 2.16 1.39 1.97 2.92 2.14 0.91 2.58 3.23 3.02 0.64 2.38 0.8\n",
      " 2.07 2.61 3.45 1.35 2.8  1.03 3.35 2.93 1.07 3.17 1.2  7.46 1.58 1.71\n",
      " 1.21 1.61 3.3  4.39 0.55 4.42 1.45 0.61 0.49 0.39 3.8  2.46 2.34 2.56\n",
      " 4.23 1.56 2.35 3.37 1.52 2.05 2.15 1.26 1.5  4.76 1.34 3.41 1.33 2.19\n",
      " 1.04 1.22 1.09 0.54 2.09 3.68 1.66 1.92 2.33 2.25 2.88 3.42 0.63 1.41\n",
      " 4.51 0.56 3.47 4.09 2.73 3.19 0.65 2.78 1.   2.62 2.77 2.47 1.43 3.1\n",
      " 1.89 2.3  4.31 1.06 1.64 1.86 4.1  1.74 2.31 2.83 3.48 1.78 4.44 0.52\n",
      " 0.92 3.08 0.43 5.33 4.5  0.46 2.91 1.14 3.22 1.69 0.81 1.36 1.73 4.61\n",
      " 2.68 2.03 4.73 2.27 1.25 3.43 2.72 3.15 0.59 0.53 3.44 2.17 2.96 0.76\n",
      " 3.79 2.43 2.5  4.55 2.12 2.   5.32 0.42 1.47 2.86 3.12 2.85 1.49 4.35\n",
      " 0.3  1.59 1.46 3.06 5.56 2.37 2.41 1.37 3.16 0.73 3.03 4.48 1.7  2.29\n",
      " 2.79 0.74 2.24 7.34 4.3  1.19 1.55 0.62 2.4  4.54 2.54 0.99 2.74 2.42\n",
      " 3.52 3.53 2.98 1.1  0.88 2.75 4.59 1.8  1.72 1.05 1.91 4.69 1.28 1.54\n",
      " 2.9  2.13 3.21 0.86 2.1  2.57 3.5  2.45 1.38 1.53 1.44 1.42 2.99 0.57\n",
      " 2.04 3.01 0.68 3.59 2.53 4.32 4.15 2.01 2.21 1.15 5.4  1.12 1.24 5.41\n",
      " 4.57 3.55 2.89 2.28 3.75 2.7  1.9  2.65 3.31 2.87 5.38 4.68 0.5  3.36\n",
      " 0.48 2.51 0.79 0.94 4.46 2.97 4.13 5.35 4.72 3.32 3.29 5.31 2.22 3.11\n",
      " 1.93 1.99 1.94 0.98 1.87 1.65 0.75 3.46 4.4  4.53 2.2  0.95 1.51 6.26\n",
      " 2.08 0.84 2.11 1.27 3.96 1.13 0.9  2.06 1.32 1.98 1.67 0.58 1.31 4.74\n",
      " 2.02 0.67 4.17 4.01 1.77 0.78 4.47 0.45 4.56 7.2  1.88 0.66 4.58 3.\n",
      " 0.97 1.85 3.49 1.96 1.48 0.77 2.26 0.89 5.34 4.94 1.63 2.18 0.6  3.13\n",
      " 3.27 2.23 4.45 2.52 4.33 2.69 2.55 2.95 3.98 4.19 5.28 5.46 4.   4.52\n",
      " 1.82 5.44 3.99 0.02 1.95 1.18 1.68 3.4  5.7  1.84 3.09 4.2  4.8  3.58\n",
      " 5.2  3.66 3.7  0.87 4.49 3.51 5.21 2.6  0.4  5.14 4.77 4.11 0.7  4.37\n",
      " 3.71 4.6  4.41 4.12 3.77 4.25 3.91 4.14 0.03 2.76 5.42 4.08 4.78 4.75\n",
      " 4.26 0.12 4.36 4.18 0.82 0.69 3.33 4.16 2.71 1.62 0.47 4.34 6.97 0.93\n",
      " 3.9  3.89 3.95 5.23 4.22 3.54 3.97 5.45 2.64 4.03 0.51 4.96 1.83 4.93\n",
      " 6.83 3.64 4.38 6.27 4.62 4.66 3.69 6.91 5.39 7.19 3.76 5.3  0.85 3.63\n",
      " 3.34 5.29 5.36 3.72 3.65 4.7  1.29 7.04 3.93 4.21 3.78 4.29 5.27 4.67\n",
      " 0.83 5.22 3.74 4.28 5.13 4.86 4.65 4.06 5.24 4.79 5.37 4.98 3.67 4.64\n",
      " 5.25 5.15 4.05 0.96 3.85 5.69 4.24 3.82 7.24 3.84 4.27 6.33 4.95 3.57\n",
      " 3.83 0.04 5.1  6.03 4.82 5.09 5.04 5.12 4.97 3.73 3.38 0.35 5.43 1.6\n",
      " 7.5  0.38 4.81 5.17 5.11 5.16 7.18 7.25 4.63 3.88 4.02 5.02 5.26 4.71\n",
      " 4.91 4.9  4.04 4.07 7.45 3.94 3.56 4.84 3.62 0.29 0.17 0.27 3.81 7.38\n",
      " 3.87 5.18 4.83 3.6  3.86 5.19 6.09 7.62 3.92 6.04 6.   6.13 5.47 5.05\n",
      " 6.14 5.86 5.66 6.12 4.89 4.85 5.01 5.08 0.41 5.95 5.   5.06 7.36 5.03\n",
      " 4.87 4.99 7.86]\n",
      "Unique values in cab_type: ['Lyft' 'Uber']\n",
      "Unique values in destination: ['North Station' 'Northeastern University' 'West End' 'Haymarket Square'\n",
      " 'South Station' 'Fenway' 'Theatre District' 'Beacon Hill' 'Back Bay'\n",
      " 'North End' 'Financial District' 'Boston University']\n",
      "Unique values in source: ['Haymarket Square' 'Back Bay' 'North End' 'North Station' 'Beacon Hill'\n",
      " 'Boston University' 'Fenway' 'South Station' 'Theatre District'\n",
      " 'West End' 'Financial District' 'Northeastern University']\n",
      "Unique values in price: [ 4.9984 11.      7.0004 ... 35.9904 49.5328 25.4656]\n",
      "Unique values in surge_multiplier: [1.   1.25 2.5  2.   1.75 1.5  3.  ]\n",
      "Unique values in id: ['424553bb-7174-41ea-aeb4-fe06d4f4b9d7'\n",
      " '4bd23055-6827-41c6-b23b-3c491f24e74d'\n",
      " '981a3613-77af-4620-a42a-0c0866077d1e' ...\n",
      " '64d451d0-639f-47a4-9b7c-6fd92fbd264f'\n",
      " '727e5f07-a96b-4ad1-a2c7-9abc3ad55b4e'\n",
      " 'e7fdc087-fe86-40a5-a3c3-3b2a8badcbda']\n",
      "Unique values in product_id: ['lyft_line' 'lyft_premier' 'lyft' 'lyft_luxsuv' 'lyft_plus' 'lyft_lux'\n",
      " '6f72dfc5-27f1-42e8-84db-ccc7a75f6969'\n",
      " '6c84fd89-3f11-4782-9b50-97c468b19529'\n",
      " '55c66225-fbe7-4fd5-9072-eab1ece5e23e'\n",
      " '9a0e7b09-b92b-4c41-9779-2ad22b4d779d'\n",
      " '6d318bcc-22a3-4af6-bddd-b409bfce1546'\n",
      " '997acbb5-e102-41e1-b155-9df7de0a73f2'\n",
      " '8cf7e821-f0d3-49c6-8eba-e679c0ebcf6a']\n",
      "Unique values in name: ['Shared' 'Lux' 'Lyft' 'Lux Black XL' 'Lyft XL' 'Lux Black' 'UberXL'\n",
      " 'Black' 'UberX' 'WAV' 'Black SUV' 'UberPool' 'Taxi']\n",
      "Unique values in fare_per_mile: [11.36 25.   15.91 ... 88.18 24.87 26.24]\n",
      "Unique values in date_time: ['2018-12-16T09:30:07.890000128' '2018-11-27T02:00:23.676999936'\n",
      " '2018-11-28T01:00:22.197999872' ... '2018-11-29T01:47:08.122999808'\n",
      " '2018-12-02T05:28:04.148999936' '2018-12-01T23:53:05.533999872']\n",
      "Unique values in day: [6 1 2 4 3 0 5]\n",
      "Unique values in hour: [ 9  2  1  4  3 18  5 19  6 10 16 22 23  0 14 11  7 20 13  8 12 21 17 15]\n",
      "Unique values in merge_date: ['Haymarket Square - 2018-12-16 - 9' 'Haymarket Square - 2018-11-27 - 2'\n",
      " 'Haymarket Square - 2018-11-28 - 1' ...\n",
      " 'Northeastern University - 2018-12-10 - 1' 'North End - 2018-11-26 - 3'\n",
      " 'Fenway - 2018-11-28 - 8']\n",
      "Unique values in temp: [38.46 44.31 43.82 ... 27.71 29.25 34.74]\n",
      "Unique values in location: ['Haymarket Square' nan 'Back Bay' 'North End' 'North Station'\n",
      " 'Beacon Hill' 'Boston University' 'Fenway' 'South Station'\n",
      " 'Theatre District' 'West End' 'Financial District'\n",
      " 'Northeastern University']\n",
      "Unique values in clouds: [0.29 1.   0.99  nan 0.   0.42 0.47 0.41 0.93 0.92 0.89 0.15 0.96 0.43\n",
      " 0.51 0.69 0.58 0.54 0.81 0.78 0.64 0.91 0.94 0.97 0.95 0.82 0.55 0.72\n",
      " 0.34 0.83 0.48 0.44 0.46 0.13 0.14 0.16 0.84 0.17 0.63 0.68 0.32 0.9\n",
      " 0.52 0.37 0.86 0.85 0.87 0.98 0.62 0.8  0.61 0.77 0.05 0.24 0.28 0.73\n",
      " 0.04 0.12 0.5  0.19 0.39 0.4  0.18 0.27 0.88 0.36 0.07 0.33 0.25 0.3\n",
      " 0.35 0.75 0.06 0.22 0.21 0.74 0.53 0.49 0.71 0.45 0.38 0.59 0.57 0.65\n",
      " 0.7  0.67 0.2  0.08 0.76 0.26 0.23 0.31 0.66 0.6  0.09 0.56 0.03 0.11\n",
      " 0.79 0.02 0.1 ]\n",
      "Unique values in pressure: [1022.25 1003.17 1002.59 ... 1011.4  1005.16 1025.12]\n",
      "Unique values in rain: [5.7652349e-02 1.1230000e-01 9.9700000e-02           nan 2.1300000e-02\n",
      " 8.7000000e-03 2.0880000e-01 1.0000000e-02 2.4200000e-01 1.6170000e-01\n",
      " 3.0000000e-03 5.1000000e-03 2.9500000e-02 9.4700000e-02 1.4080000e-01\n",
      " 3.6700000e-02 7.0000000e-03 3.1000000e-03 2.2320000e-01 1.1170000e-01\n",
      " 7.6250000e-01 2.9970000e-01 1.4700000e-01 9.7300000e-02 1.0890000e-01\n",
      " 5.9000000e-03 1.2310000e-01 1.1000000e-01 5.3370000e-01 1.5560000e-01\n",
      " 2.0100000e-02 3.9000000e-03 2.0430000e-01 1.0870000e-01 7.1030000e-01\n",
      " 2.7240000e-01 5.0000000e-03 1.1010000e-01 3.5800000e-02 1.6200000e-01\n",
      " 1.2070000e-01 9.3000000e-03 4.8000000e-02 9.2000000e-03 1.1000000e-02\n",
      " 2.7800000e-02 1.5000000e-03 6.0000000e-04 2.0000000e-03 6.0000000e-03\n",
      " 4.9000000e-03 5.2000000e-03 2.7200000e-02 1.6000000e-02 7.4300000e-02\n",
      " 2.3500000e-01 1.3700000e-01 2.6000000e-02 1.8000000e-02 8.0100000e-02\n",
      " 4.0900000e-02 1.4380000e-01 2.3640000e-01 5.0200000e-02 2.2770000e-01\n",
      " 1.3780000e-01 1.5540000e-01 2.1200000e-01 3.0000000e-04 1.3000000e-03\n",
      " 2.4100000e-01 1.2570000e-01 1.2000000e-02 9.9000000e-03 1.2230000e-01\n",
      " 3.0200000e-02 2.9200000e-02 2.9000000e-03 2.7000000e-03 2.7700000e-02\n",
      " 1.3000000e-02 1.9000000e-03 1.0810000e-01 3.3000000e-02 1.4770000e-01\n",
      " 3.4500000e-02 1.5770000e-01 1.1830000e-01 6.3640000e-01 1.9000000e-01\n",
      " 2.5000000e-02 1.3300000e-02 7.0000000e-04 7.3000000e-03 9.7000000e-03\n",
      " 1.2700000e-02 1.8720000e-01 1.2900000e-01 7.2220000e-01 2.3530000e-01\n",
      " 5.5000000e-03 8.6600000e-02 2.0500000e-02 3.8000000e-03 2.5300000e-02\n",
      " 2.1780000e-01 1.0400000e-01 7.2470000e-01 2.9460000e-01 1.1440000e-01\n",
      " 3.6000000e-02 2.1970000e-01 1.4070000e-01 5.9400000e-02 2.9000000e-02\n",
      " 8.1000000e-03 8.0000000e-03 1.0300000e-02 3.7000000e-02 2.2100000e-01\n",
      " 1.6770000e-01 2.3000000e-03 1.4000000e-02 1.7500000e-01 1.8100000e-01\n",
      " 2.0000000e-02 7.5000000e-03 3.2300000e-02 1.3860000e-01 2.1490000e-01\n",
      " 1.3910000e-01 5.5000000e-02 2.2620000e-01 1.6100000e-01 1.7740000e-01\n",
      " 1.5300000e-02 2.8400000e-02 2.0460000e-01 3.4800000e-02 1.8810000e-01\n",
      " 1.6240000e-01 1.6370000e-01 1.4100000e-01 2.9900000e-02 8.0000000e-04\n",
      " 1.2400000e-02 1.9700000e-02 5.7000000e-03 4.0000000e-03 2.3000000e-02\n",
      " 1.6480000e-01 4.2800000e-02 2.4700000e-02 2.2000000e-02 6.7300000e-02\n",
      " 8.9000000e-03 1.2770000e-01 2.2000000e-03 1.5100000e-02 4.2300000e-02\n",
      " 1.2520000e-01 2.2040000e-01 5.8300000e-02 2.1950000e-01 2.0020000e-01\n",
      " 1.8980000e-01 2.0600000e-01 3.0000000e-02 1.4300000e-02 1.0530000e-01\n",
      " 3.1500000e-02 1.5470000e-01 1.1500000e-01 1.3030000e-01 5.6590000e-01\n",
      " 1.6720000e-01 4.4000000e-03 1.3540000e-01 1.6530000e-01 1.1700000e-02\n",
      " 2.8700000e-02 4.1000000e-03 3.3100000e-02 1.1400000e-02 9.8000000e-03\n",
      " 7.5300000e-02 2.0300000e-02 1.7300000e-02 6.6700000e-02 2.0000000e-04\n",
      " 1.9000000e-02 5.2700000e-02 2.8800000e-02 1.4020000e-01 2.2740000e-01\n",
      " 2.1870000e-01 1.6020000e-01 1.7220000e-01 1.6300000e-02 3.3300000e-02\n",
      " 9.3700000e-02 5.0000000e-04 4.4000000e-02 2.2310000e-01 2.1540000e-01\n",
      " 2.2170000e-01 5.5500000e-02 1.8840000e-01 1.8130000e-01 1.9860000e-01\n",
      " 1.1300000e-02 3.1000000e-02 2.1000000e-03 4.0000000e-02 5.2100000e-02\n",
      " 1.5250000e-01 3.9300000e-02 1.7910000e-01 1.6700000e-01 1.4950000e-01\n",
      " 1.5610000e-01 3.4000000e-02 5.1400000e-02 2.2300000e-02 1.0700000e-02\n",
      " 1.2300000e-02 1.9300000e-02 4.7000000e-03 1.1470000e-01 1.3400000e-01\n",
      " 1.1400000e-01 6.9300000e-01 2.3980000e-01 2.0400000e-01 1.3470000e-01\n",
      " 7.5050000e-01 2.5910000e-01 2.9700000e-02 3.5000000e-02 6.3000000e-03\n",
      " 6.9000000e-03 6.2000000e-03 2.1250000e-01 1.2800000e-01 7.7530000e-01\n",
      " 2.7330000e-01 7.7000000e-03 1.0900000e-02 2.3700000e-02 5.9100000e-02\n",
      " 4.2500000e-02 1.3900000e-01 2.1220000e-01 2.3180000e-01 5.4000000e-02\n",
      " 2.2590000e-01 1.5880000e-01 1.7360000e-01 1.8300000e-02 3.3200000e-02\n",
      " 5.6000000e-03 6.7000000e-03 2.2900000e-01 1.0200000e-01 2.5730000e-01\n",
      " 1.3000000e-01 2.0060000e-01 1.7860000e-01 2.9800000e-02 2.3610000e-01\n",
      " 2.3400000e-01 3.8000000e-02 2.2470000e-01 1.4680000e-01 1.6310000e-01\n",
      " 2.0720000e-01 5.9900000e-02 1.5200000e-02 1.5600000e-02 2.0900000e-02\n",
      " 5.0000000e-02 1.9100000e-02 1.1700000e-01 2.6200000e-02 3.9200000e-02\n",
      " 2.1000000e-02 7.4000000e-02 2.7300000e-02 1.2800000e-02 6.7700000e-02\n",
      " 2.5830000e-01 1.4500000e-01 9.0000000e-03 4.5000000e-03 1.7900000e-02\n",
      " 2.2700000e-02 2.8300000e-02 3.1300000e-02 7.3000000e-02 1.1800000e-02\n",
      " 1.3700000e-02 1.4200000e-02 3.3700000e-02 2.9400000e-02 1.7000000e-02\n",
      " 3.2200000e-02 1.1480000e-01 2.8200000e-02 2.3300000e-02 4.7100000e-02\n",
      " 1.6400000e-02 3.7100000e-02 1.1300000e-01 2.4100000e-02 3.2000000e-03\n",
      " 8.8000000e-03 3.1700000e-02 1.1900000e-01 4.0100000e-02 5.1000000e-02\n",
      " 1.2730000e-01 2.5300000e-01 1.5530000e-01 2.0690000e-01 2.8000000e-02\n",
      " 7.8200000e-02 2.1700000e-02 4.9700000e-02 2.1730000e-01 2.0390000e-01\n",
      " 1.7840000e-01 1.7310000e-01 1.8160000e-01 7.0000000e-02 8.2000000e-03\n",
      " 2.1120000e-01 1.6220000e-01 3.1800000e-02 1.8870000e-01 1.6620000e-01\n",
      " 1.6750000e-01 1.4700000e-02 1.2900000e-02 4.7000000e-02 4.3100000e-02\n",
      " 1.1500000e-02 1.6700000e-02 3.9100000e-02 2.5700000e-02 2.3230000e-01\n",
      " 1.6300000e-01 7.2000000e-03 1.3010000e-01 1.0170000e-01 5.5200000e-01\n",
      " 1.6550000e-01 3.1100000e-02 8.1300000e-02 2.4300000e-02 2.9300000e-02\n",
      " 3.3000000e-03 2.4900000e-02 1.8900000e-02 1.7000000e-03 1.4800000e-02\n",
      " 4.9000000e-02 1.2100000e-01 1.5970000e-01 1.8460000e-01 1.8700000e-02\n",
      " 3.7300000e-02 6.5000000e-03 6.0700000e-02 1.0110000e-01 3.4700000e-02\n",
      " 1.0390000e-01 3.2800000e-02 1.0720000e-01 6.2200000e-02 1.2280000e-01\n",
      " 6.1000000e-02 7.1000000e-03 1.5510000e-01 3.2000000e-02 9.9400000e-02\n",
      " 2.0680000e-01 8.4000000e-03 3.7600000e-02 1.4400000e-01 1.0330000e-01\n",
      " 6.1000000e-03 2.2030000e-01 1.4930000e-01 2.3490000e-01 1.1070000e-01\n",
      " 7.8070000e-01 3.1300000e-01 7.7700000e-02 4.3000000e-03 9.3800000e-02\n",
      " 1.9500000e-02 2.4000000e-02 4.1000000e-02 4.5000000e-02 1.2980000e-01\n",
      " 2.0820000e-01 2.2150000e-01 5.8700000e-02 2.2020000e-01 1.9600000e-01\n",
      " 1.9350000e-01 2.7400000e-01 1.3070000e-01 1.4900000e-02 3.9500000e-02\n",
      " 3.2500000e-02 6.8000000e-03 2.5900000e-02 2.8100000e-02 5.8000000e-03\n",
      " 3.0100000e-02 6.6400000e-02 5.3000000e-03 1.5000000e-02 1.7900000e-01\n",
      " 4.5700000e-02 9.6900000e-02 6.3000000e-02 2.9100000e-02 6.6000000e-03\n",
      " 6.9000000e-02 1.3400000e-02 3.2900000e-02 1.4280000e-01 2.6900000e-02\n",
      " 1.8200000e-02 3.5400000e-02 3.3600000e-02 3.4300000e-02]\n",
      "Unique values in time_stamp: [1.54495350e+09 1.54328492e+09 1.54328672e+09            nan\n",
      " 1.54355357e+09 1.54346233e+09 1.54346053e+09 1.54346154e+09\n",
      " 1.54507230e+09 1.54320918e+09 1.54321016e+09 1.54321008e+09\n",
      " 1.54320947e+09 1.54320924e+09 1.54320858e+09 1.54321058e+09\n",
      " 1.54321140e+09 1.54378038e+09 1.54381997e+09 1.54331372e+09\n",
      " 1.54331552e+09 1.54359677e+09 1.54343173e+09 1.54343353e+09\n",
      " 1.54343198e+09 1.54361837e+09 1.54469790e+09 1.54473030e+09\n",
      " 1.54500390e+09 1.54474830e+09 1.54352117e+09 1.54367597e+09\n",
      " 1.54494270e+09 1.54334792e+09 1.54334612e+09 1.54513350e+09\n",
      " 1.54354637e+09 1.54497870e+09 1.54321837e+09 1.54321628e+09\n",
      " 1.54321661e+09 1.54321791e+09 1.54507950e+09 1.54493190e+09\n",
      " 1.54332632e+09 1.54332452e+09 1.54469790e+09 1.54508670e+09\n",
      " 1.54482030e+09 1.54379477e+09 1.54328852e+09 1.54329032e+09\n",
      " 1.54377677e+09 1.54481670e+09 1.54374437e+09 1.54363997e+09\n",
      " 1.54341373e+09 1.54341398e+09 1.54341553e+09 1.54374077e+09\n",
      " 1.54352477e+09 1.54479150e+09 1.54328492e+09 1.54485630e+09\n",
      " 1.54339958e+09 1.54340113e+09 1.54339944e+09 1.54339933e+09\n",
      " 1.54339933e+09 1.54339921e+09 1.54496430e+09 1.54492110e+09\n",
      " 1.54488510e+09 1.54342093e+09 1.54342273e+09 1.54342118e+09\n",
      " 1.54366877e+09 1.54324291e+09 1.54324111e+09 1.54371917e+09\n",
      " 1.54351757e+09 1.54382357e+09 1.54323391e+09 1.54323571e+09\n",
      " 1.54380917e+09 1.54344793e+09 1.54344809e+09 1.54344897e+09\n",
      " 1.54344922e+09 1.54344876e+09 1.54344613e+09 1.54328151e+09\n",
      " 1.54328132e+09 1.54328312e+09 1.54328144e+09 1.54385597e+09\n",
      " 1.54473390e+09 1.54469070e+09 1.54344253e+09 1.54344433e+09\n",
      " 1.54344562e+09 1.54485990e+09 1.54342838e+09 1.54342813e+09\n",
      " 1.54342993e+09 1.54347370e+09 1.54347413e+09 1.54347419e+09\n",
      " 1.54347353e+09 1.54347256e+09 1.54347351e+09 1.54347437e+09\n",
      " 1.54512990e+09 1.54358597e+09 1.54383437e+09 1.54360397e+09\n",
      " 1.54378757e+09 1.54503630e+09 1.54341013e+09 1.54341038e+09\n",
      " 1.54341193e+09 1.54378397e+09 1.54488150e+09 1.54348158e+09\n",
      " 1.54336232e+09 1.54336052e+09 1.54470510e+09 1.54508310e+09\n",
      " 1.54354277e+09 1.54358957e+09 1.54468710e+09 1.54483470e+09\n",
      " 1.54353557e+09 1.54513710e+09 1.54339856e+09 1.54339814e+09\n",
      " 1.54339753e+09 1.54339850e+09 1.54339861e+09 1.54339820e+09\n",
      " 1.54339754e+09 1.54339767e+09 1.54498230e+09 1.54481310e+09\n",
      " 1.54510470e+09 1.54344130e+09 1.54344073e+09 1.54343893e+09\n",
      " 1.54344202e+09 1.54332092e+09 1.54332272e+09 1.54386317e+09\n",
      " 1.54365797e+09 1.54345693e+09 1.54345721e+09 1.54345881e+09\n",
      " 1.54345873e+09 1.54345724e+09 1.54345907e+09 1.54345736e+09\n",
      " 1.54382717e+09 1.54333712e+09 1.54333532e+09 1.54388477e+09\n",
      " 1.54512630e+09 1.54484190e+09 1.54324111e+09 1.54471230e+09\n",
      " 1.54440966e+09 1.54440955e+09 1.54440931e+09 1.54440963e+09\n",
      " 1.54373717e+09 1.54387397e+09 1.54380557e+09 1.54468350e+09\n",
      " 1.54473030e+09 1.54351037e+09 1.54343533e+09 1.54343780e+09\n",
      " 1.54343713e+09 1.54497510e+09 1.54379837e+09 1.54340293e+09\n",
      " 1.54340473e+09 1.54340318e+09 1.54366517e+09 1.54331732e+09\n",
      " 1.54331912e+09 1.54341398e+09 1.54341373e+09 1.54341553e+09\n",
      " 1.54385237e+09 1.54336412e+09 1.54336592e+09 1.54369397e+09\n",
      " 1.54515870e+09 1.54323571e+09 1.54323391e+09 1.54344562e+09\n",
      " 1.54348877e+09 1.54478430e+09 1.54507950e+09 1.54489950e+09\n",
      " 1.54342993e+09 1.54324471e+09 1.54324651e+09 1.54511550e+09\n",
      " 1.54513350e+09 1.54507230e+09 1.54488150e+09 1.54504710e+09\n",
      " 1.54327573e+09 1.54327393e+09 1.54467990e+09 1.54497150e+09\n",
      " 1.54470150e+09 1.54496790e+09 1.54343198e+09 1.54332992e+09\n",
      " 1.54332812e+09 1.54389557e+09 1.54320946e+09 1.54320918e+09\n",
      " 1.54321016e+09 1.54320924e+09 1.54320858e+09 1.54351397e+09\n",
      " 1.54326991e+09 1.54327172e+09 1.54327214e+09 1.54327231e+09\n",
      " 1.54327210e+09 1.54375517e+09 1.54372997e+09 1.54367237e+09\n",
      " 1.54512270e+09 1.54321008e+09 1.54321016e+09 1.54320946e+09\n",
      " 1.54321140e+09 1.54334972e+09 1.54335152e+09 1.54369037e+09\n",
      " 1.54356077e+09 1.54342633e+09 1.54342453e+09 1.54342478e+09\n",
      " 1.54363277e+09 1.54363020e+09 1.54363026e+09 1.54363035e+09\n",
      " 1.54481310e+09 1.54346678e+09 1.54346592e+09 1.54346640e+09\n",
      " 1.54346593e+09 1.54346746e+09 1.54346729e+09 1.54346413e+09\n",
      " 1.54346578e+09 1.54346456e+09 1.54345642e+09 1.54345564e+09\n",
      " 1.54345513e+09 1.54345630e+09 1.54345438e+09 1.54345679e+09\n",
      " 1.54345333e+09 1.54345376e+09 1.54345482e+09 1.54345468e+09\n",
      " 1.54387757e+09 1.54371197e+09 1.54341733e+09 1.54341758e+09\n",
      " 1.54341913e+09 1.54363020e+09 1.54479510e+09 1.54361477e+09\n",
      " 1.54501470e+09 1.54482750e+09 1.54386677e+09 1.54381637e+09\n",
      " 1.54353917e+09 1.54486710e+09 1.54384517e+09 1.54389917e+09\n",
      " 1.54493550e+09 1.54361117e+09 1.54507590e+09 1.54334252e+09\n",
      " 1.54334432e+09 1.54345513e+09 1.54345642e+09 1.54344130e+09\n",
      " 1.54341733e+09 1.54502190e+09 1.54506870e+09 1.54472310e+09\n",
      " 1.54491390e+09 1.54323931e+09 1.54323751e+09 1.54514430e+09\n",
      " 1.54511190e+09 1.54329212e+09 1.54329392e+09 1.54335692e+09\n",
      " 1.54335872e+09 1.54501110e+09 1.54387037e+09 1.54342993e+09\n",
      " 1.54335332e+09 1.54335512e+09 1.54334072e+09 1.54333892e+09\n",
      " 1.54383077e+09 1.54475910e+09 1.54339850e+09 1.54366157e+09\n",
      " 1.54325731e+09 1.54325551e+09 1.54509750e+09 1.54344973e+09\n",
      " 1.54345197e+09 1.54345270e+09 1.54345255e+09 1.54345282e+09\n",
      " 1.54345153e+09 1.54345185e+09 1.54500030e+09 1.54384877e+09\n",
      " 1.54333352e+09 1.54333172e+09 1.54494630e+09 1.54324831e+09\n",
      " 1.54325011e+09 1.54346053e+09 1.54372637e+09 1.54327783e+09\n",
      " 1.54327933e+09 1.54327935e+09 1.54327753e+09 1.54327942e+09\n",
      " 1.54328033e+09 1.54328035e+09 1.54327952e+09 1.54483830e+09\n",
      " 1.54475190e+09 1.54379478e+09 1.54499310e+09 1.54493910e+09\n",
      " 1.54389197e+09 1.54483470e+09 1.54376957e+09 1.54365437e+09\n",
      " 1.54350677e+09 1.54355358e+09 1.54515150e+09 1.54471950e+09\n",
      " 1.54326451e+09 1.54326271e+09 1.54346866e+09 1.54480230e+09\n",
      " 1.54471590e+09 1.54486350e+09 1.54510110e+09 1.54370837e+09\n",
      " 1.54502550e+09 1.54345468e+09 1.54502910e+09 1.54476630e+09\n",
      " 1.54490670e+09 1.54364717e+09 1.54380197e+09 1.54508671e+09\n",
      " 1.54476990e+09 1.54329752e+09 1.54329750e+09 1.54329572e+09\n",
      " 1.54375157e+09 1.54495710e+09 1.54325551e+09 1.54325731e+09\n",
      " 1.54345873e+09 1.54510110e+09 1.54494990e+09 1.54474470e+09\n",
      " 1.54349237e+09 1.54505430e+09 1.54356534e+09 1.54356797e+09\n",
      " 1.54488870e+09 1.54342813e+09 1.54467150e+09 1.54467250e+09\n",
      " 1.54490670e+09 1.54505790e+09 1.54474110e+09 1.54360757e+09\n",
      " 1.54330112e+09 1.54329932e+09 1.54362197e+09 1.54502190e+09\n",
      " 1.54363278e+09 1.54363026e+09 1.54497871e+09 1.54370117e+09\n",
      " 1.54476990e+09 1.54370838e+09 1.54346866e+09 1.54340833e+09\n",
      " 1.54340678e+09 1.54340653e+09 1.54489590e+09 1.54480950e+09\n",
      " 1.54377317e+09 1.54511910e+09 1.54497870e+09 1.54477710e+09\n",
      " 1.54372277e+09 1.54498590e+09 1.54478070e+09 1.54388117e+09\n",
      " 1.54348517e+09 1.54508310e+09 1.54375877e+09 1.54514070e+09\n",
      " 1.54349597e+09 1.54487790e+09 1.54478790e+09 1.54480590e+09\n",
      " 1.54364357e+09 1.54357157e+09 1.54485270e+09 1.54368317e+09\n",
      " 1.54357517e+09 1.54506510e+09 1.54322671e+09 1.54322851e+09\n",
      " 1.54494270e+09 1.54362917e+09 1.54472310e+09 1.54330292e+09\n",
      " 1.54330472e+09 1.54514790e+09 1.54470510e+09 1.54345469e+09\n",
      " 1.54345483e+09 1.54330652e+09 1.54330832e+09 1.54325371e+09\n",
      " 1.54325191e+09 1.54470870e+09 1.54340293e+09 1.54492470e+09\n",
      " 1.54339814e+09 1.54328144e+09 1.54474110e+09 1.54367958e+09\n",
      " 1.54501830e+09 1.54362557e+09 1.54467510e+09 1.54467630e+09\n",
      " 1.54515870e+09 1.54482030e+09 1.54498950e+09 1.54353197e+09\n",
      " 1.54352715e+09 1.54352837e+09 1.54352630e+09 1.54352682e+09\n",
      " 1.54469430e+09 1.54347370e+09 1.54347413e+09 1.54500030e+09\n",
      " 1.54369757e+09 1.54363637e+09 1.54492830e+09 1.54350317e+09\n",
      " 1.54358237e+09 1.54327394e+09 1.54484550e+09 1.54352681e+09\n",
      " 1.54515510e+09 1.54503270e+09 1.54335152e+09 1.54334972e+09\n",
      " 1.54491750e+09 1.54383797e+09 1.54484190e+09 1.54473750e+09\n",
      " 1.54379117e+09 1.54376237e+09 1.54508670e+09 1.54347797e+09\n",
      " 1.54322851e+09 1.54489590e+09 1.54320924e+09 1.54320918e+09\n",
      " 1.54321008e+09 1.54321058e+09 1.54320858e+09 1.54321140e+09\n",
      " 1.54355717e+09 1.54475550e+09 1.54356437e+09 1.54472670e+09\n",
      " 1.54342273e+09 1.54374797e+09 1.54504350e+09 1.54321294e+09\n",
      " 1.54321288e+09 1.54321344e+09 1.54321443e+09 1.54321300e+09\n",
      " 1.54321291e+09 1.54321503e+09 1.54321286e+09 1.54321374e+09\n",
      " 1.54321494e+09 1.54321271e+09 1.54321273e+09 1.54321314e+09\n",
      " 1.54321498e+09 1.54321297e+09 1.54368677e+09 1.54509030e+09\n",
      " 1.54493910e+09 1.54342093e+09 1.54478070e+09 1.54514070e+09\n",
      " 1.54346746e+09 1.54345255e+09 1.54490310e+09 1.54390277e+09\n",
      " 1.54510830e+09 1.54472670e+09 1.54326631e+09 1.54326811e+09\n",
      " 1.54378038e+09 1.54515150e+09 1.54388837e+09 1.54342118e+09\n",
      " 1.54321300e+09 1.54321273e+09 1.54321344e+09 1.54321494e+09\n",
      " 1.54321374e+09 1.54321298e+09 1.54321292e+09 1.54321288e+09\n",
      " 1.54321286e+09 1.54321314e+09 1.54321443e+09 1.54359317e+09\n",
      " 1.54327783e+09 1.54327952e+09 1.54486350e+09 1.54341013e+09\n",
      " 1.54480950e+09 1.54354997e+09 1.54347256e+09 1.54371557e+09\n",
      " 1.54439690e+09 1.54439678e+09 1.54328035e+09 1.54324471e+09\n",
      " 1.54376597e+09 1.54479870e+09 1.54479510e+09 1.54506510e+09\n",
      " 1.54326091e+09 1.54325911e+09 1.54487430e+09 1.54477710e+09\n",
      " 1.54477350e+09 1.54471590e+09 1.54384157e+09 1.54496070e+09\n",
      " 1.54507590e+09 1.54331012e+09 1.54331192e+09 1.54349957e+09\n",
      " 1.54326811e+09 1.54344073e+09 1.54324651e+09 1.54348157e+09\n",
      " 1.54372278e+09 1.54345679e+09 1.54345482e+09 1.54504710e+09\n",
      " 1.54481670e+09 1.54345333e+09 1.54344793e+09 1.54360037e+09\n",
      " 1.54342838e+09 1.54440931e+09 1.54510830e+09 1.54491390e+09\n",
      " 1.54365077e+09 1.54482390e+09 1.54322046e+09 1.54322052e+09\n",
      " 1.54322125e+09 1.54357877e+09 1.54326091e+09 1.54488870e+09\n",
      " 1.54511910e+09 1.54370477e+09 1.54322851e+09 1.54487070e+09\n",
      " 1.54328672e+09 1.54503990e+09 1.54471230e+09 1.54505070e+09\n",
      " 1.54343893e+09 1.54381277e+09 1.54489950e+09 1.54505790e+09\n",
      " 1.54502550e+09 1.54440050e+09 1.54349958e+09 1.54480230e+09\n",
      " 1.54329750e+09 1.54385957e+09 1.54487070e+09 1.54492110e+09\n",
      " 1.54332092e+09 1.54495710e+09 1.54498230e+09 1.54503990e+09\n",
      " 1.54506150e+09 1.54499670e+09 1.54470870e+09 1.54509390e+09\n",
      " 1.54366158e+09 1.54344897e+09 1.54344253e+09 1.54323211e+09\n",
      " 1.54323031e+09 1.54478431e+09 1.54322455e+09 1.54322311e+09\n",
      " 1.54322491e+09 1.54322299e+09 1.54344973e+09 1.54327942e+09\n",
      " 1.54328033e+09 1.54487430e+09 1.54475550e+09 1.54340678e+09\n",
      " 1.54499310e+09 1.54373357e+09 1.54388118e+09 1.54325911e+09\n",
      " 1.54339921e+09 1.54440711e+09 1.54484910e+09 1.54341193e+09\n",
      " 1.54503270e+09 1.54489230e+09 1.54491030e+09 1.54483110e+09\n",
      " 1.54493550e+09 1.54338995e+09 1.54339042e+09 1.54339027e+09\n",
      " 1.54338984e+09 1.54339014e+09 1.54339008e+09 1.54339180e+09\n",
      " 1.54339020e+09 1.54339030e+09 1.54339183e+09 1.54339048e+09\n",
      " 1.54339169e+09 1.54338989e+09 1.54476630e+09 1.54370478e+09\n",
      " 1.54491030e+09 1.54494630e+09 1.54482390e+09 1.54476270e+09\n",
      " 1.54374078e+09 1.54500750e+09 1.54505070e+09 1.54341913e+09\n",
      " 1.54339861e+09 1.54343173e+09 1.54320858e+09 1.54498951e+09\n",
      " 1.54327172e+09 1.54327214e+09 1.54345907e+09 1.54511190e+09\n",
      " 1.54321344e+09 1.54321294e+09 1.54321289e+09 1.54321271e+09\n",
      " 1.54321374e+09 1.54321301e+09 1.54321298e+09 1.54352715e+09\n",
      " 1.54326991e+09 1.54478430e+09 1.54322298e+09 1.54500390e+09\n",
      " 1.54367958e+09 1.54471950e+09 1.54500750e+09 1.54325011e+09\n",
      " 1.54351038e+09 1.54336592e+09 1.54345693e+09 1.54496070e+09\n",
      " 1.54490310e+09 1.54345482e+09 1.54343713e+09 1.54367958e+09\n",
      " 1.54506150e+09 1.54501470e+09 1.54321498e+09 1.54321295e+09\n",
      " 1.54321292e+09 1.54483110e+09 1.54342453e+09 1.54479150e+09\n",
      " 1.54326271e+09 1.54341758e+09 1.54475190e+09 1.54324831e+09\n",
      " 1.54468350e+09 1.54497150e+09 1.54484910e+09 1.54329750e+09\n",
      " 1.54321494e+09 1.54345721e+09 1.54505430e+09 1.54339515e+09\n",
      " 1.54339246e+09 1.54339362e+09 1.54339252e+09 1.54339288e+09\n",
      " 1.54339530e+09 1.54342478e+09 1.54467150e+09 1.54321273e+09\n",
      " 1.54321314e+09 1.54347419e+09 1.54326451e+09 1.54342453e+09\n",
      " 1.54353558e+09 1.54480590e+09 1.54320778e+09 1.54320730e+09\n",
      " 1.54320740e+09 1.54320814e+09 1.54320725e+09 1.54320924e+09\n",
      " 1.54323751e+09 1.54476270e+09 1.54346456e+09 1.54321344e+09\n",
      " 1.54321498e+09 1.54485630e+09 1.54474470e+09 1.54322311e+09\n",
      " 1.54475190e+09 1.54321286e+09 1.54361118e+09 1.54498950e+09\n",
      " 1.54320814e+09 1.54320778e+09 1.54320726e+09 1.54320730e+09\n",
      " 1.54323751e+09 1.54325191e+09 1.54345680e+09 1.54495350e+09\n",
      " 1.54323391e+09 1.54361118e+09 1.54469070e+09 1.54482750e+09\n",
      " 1.54389198e+09 1.54367958e+09 1.54478431e+09 1.54496430e+09\n",
      " 1.54487790e+09 1.54357878e+09 1.54473390e+09 1.54370478e+09\n",
      " 1.54500030e+09 1.54484550e+09 1.54322046e+09 1.54385238e+09\n",
      " 1.54322124e+09 1.54383078e+09 1.54510110e+09 1.54327172e+09\n",
      " 1.54508670e+09 1.54501110e+09 1.54339246e+09 1.54384878e+09\n",
      " 1.54509390e+09 1.54489230e+09 1.54321058e+09 1.54478790e+09\n",
      " 1.54321016e+09 1.54321059e+09 1.54320814e+09 1.54320740e+09\n",
      " 1.54324291e+09 1.54486710e+09 1.54496790e+09 1.54320725e+09\n",
      " 1.54360398e+09 1.54320365e+09 1.54339008e+09 1.54320730e+09\n",
      " 1.54320778e+09 1.54320740e+09 1.54320814e+09 1.54321628e+09\n",
      " 1.54323211e+09 1.54440711e+09 1.54512630e+09 1.54320364e+09\n",
      " 1.54513710e+09 1.54512990e+09 1.54514790e+09 1.54320364e+09\n",
      " 1.54349598e+09 1.54363998e+09 1.54338989e+09 1.54339288e+09\n",
      " 1.54339530e+09 1.54322052e+09 1.54322046e+09]\n",
      "Unique values in humidity: [0.76 0.9  0.89  nan 0.7  0.71 0.79 0.92 0.93 0.91 0.95 0.96 0.97 0.57\n",
      " 0.64 0.66 0.65 0.77 0.68 0.54 0.67 0.73 0.75 0.74 0.63 0.94 0.86 0.56\n",
      " 0.81 0.84 0.85 0.88 0.62 0.53 0.61 0.69 0.59 0.72 0.83 0.51 0.6  0.82\n",
      " 0.78 0.46 0.87 0.52 0.55 0.47 0.58 0.45 0.48 0.49 0.8  0.5  0.99 0.98]\n",
      "Unique values in wind: [ 7.68 13.69 11.57 ...  5.75  5.8   5.76]\n",
      "Unique values in date_time_w: ['2018-12-16T09:45:01.000000000' '2018-11-27T02:15:20.000000000'\n",
      " '2018-11-27T02:45:20.000000000'                           'NaT'\n",
      " '2018-11-30T04:52:54.000000000' '2018-11-29T03:32:09.000000000'\n",
      " '2018-11-29T03:02:09.000000000' '2018-11-29T03:19:00.000000000'\n",
      " '2018-12-17T18:45:01.000000000' '2018-11-26T05:13:03.000000000'\n",
      " '2018-11-26T05:29:19.000000000' '2018-11-26T05:28:04.000000000'\n",
      " '2018-11-26T05:17:46.000000000' '2018-11-26T05:14:01.000000000'\n",
      " '2018-11-26T05:02:58.000000000' '2018-11-26T05:36:24.000000000'\n",
      " '2018-11-26T05:49:59.000000000' '2018-12-02T19:53:05.000000000'\n",
      " '2018-12-03T06:52:54.000000000' '2018-11-27T10:15:20.000000000'\n",
      " '2018-11-27T10:45:20.000000000' '2018-11-30T16:52:54.000000000'\n",
      " '2018-11-28T19:02:08.000000000' '2018-11-28T19:32:07.000000000'\n",
      " '2018-11-28T19:06:23.000000000' '2018-11-30T22:52:54.000000000'\n",
      " '2018-12-13T10:45:01.000000000' '2018-12-13T19:45:01.000000000'\n",
      " '2018-12-16T23:45:01.000000000' '2018-12-14T00:45:01.000000000'\n",
      " '2018-11-29T19:52:54.000000000' '2018-12-01T14:52:54.000000000'\n",
      " '2018-12-16T06:45:01.000000000' '2018-11-27T19:45:20.000000000'\n",
      " '2018-11-27T19:15:20.000000000' '2018-12-18T11:45:01.000000000'\n",
      " '2018-11-30T02:52:54.000000000' '2018-12-16T16:45:02.000000000'\n",
      " '2018-11-26T07:46:10.000000000' '2018-11-26T07:11:17.000000000'\n",
      " '2018-11-26T07:16:51.000000000' '2018-11-26T07:38:33.000000000'\n",
      " '2018-12-17T20:45:02.000000000' '2018-12-16T03:45:01.000000000'\n",
      " '2018-11-27T13:45:20.000000000' '2018-11-27T13:15:20.000000000'\n",
      " '2018-12-13T10:45:02.000000000' '2018-12-17T22:45:02.000000000'\n",
      " '2018-12-14T20:45:02.000000000' '2018-12-02T23:52:54.000000000'\n",
      " '2018-11-27T03:15:20.000000000' '2018-11-27T03:45:20.000000000'\n",
      " '2018-12-02T18:52:54.000000000' '2018-12-14T19:45:01.000000000'\n",
      " '2018-12-02T09:52:54.000000000' '2018-12-01T04:52:54.000000000'\n",
      " '2018-11-28T14:02:08.000000000' '2018-11-28T14:06:23.000000000'\n",
      " '2018-11-28T14:32:07.000000000' '2018-12-02T08:52:54.000000000'\n",
      " '2018-11-29T20:52:54.000000000' '2018-12-14T12:45:02.000000000'\n",
      " '2018-11-27T02:15:22.000000000' '2018-12-15T06:45:01.000000000'\n",
      " '2018-11-28T10:06:24.000000000' '2018-11-28T10:32:07.000000000'\n",
      " '2018-11-28T10:03:56.000000000' '2018-11-28T10:02:08.000000000'\n",
      " '2018-11-28T10:02:11.000000000' '2018-11-28T10:00:10.000000000'\n",
      " '2018-12-16T12:45:01.000000000' '2018-12-16T00:45:01.000000000'\n",
      " '2018-12-15T14:45:01.000000000' '2018-11-28T16:02:08.000000000'\n",
      " '2018-11-28T16:32:09.000000000' '2018-11-28T16:06:23.000000000'\n",
      " '2018-12-01T12:52:54.000000000' '2018-11-26T14:35:08.000000000'\n",
      " '2018-11-26T14:05:08.000000000' '2018-12-02T02:52:54.000000000'\n",
      " '2018-11-29T18:52:54.000000000' '2018-12-03T07:52:54.000000000'\n",
      " '2018-11-26T12:05:08.000000000' '2018-11-26T12:35:09.000000000'\n",
      " '2018-12-03T03:52:54.000000000' '2018-11-28T23:32:09.000000000'\n",
      " '2018-11-28T23:34:50.000000000' '2018-11-28T23:49:34.000000000'\n",
      " '2018-11-28T23:53:40.000000000' '2018-11-28T23:45:57.000000000'\n",
      " '2018-11-28T23:02:09.000000000' '2018-11-27T01:18:34.000000000'\n",
      " '2018-11-27T01:15:20.000000000' '2018-11-27T01:45:22.000000000'\n",
      " '2018-11-27T01:17:21.000000000' '2018-12-03T16:52:54.000000000'\n",
      " '2018-12-13T20:45:01.000000000' '2018-12-13T08:45:01.000000000'\n",
      " '2018-11-28T22:02:09.000000000' '2018-11-28T22:32:09.000000000'\n",
      " '2018-11-28T22:53:38.000000000' '2018-12-15T07:45:01.000000000'\n",
      " '2018-11-28T18:06:22.000000000' '2018-11-28T18:02:09.000000000'\n",
      " '2018-11-28T18:32:07.000000000' '2018-11-29T06:41:40.000000000'\n",
      " '2018-11-29T06:48:53.000000000' '2018-11-29T06:49:50.000000000'\n",
      " '2018-11-29T06:38:49.000000000' '2018-11-29T06:22:41.000000000'\n",
      " '2018-11-29T06:38:30.000000000' '2018-11-29T06:52:54.000000000'\n",
      " '2018-12-18T10:45:01.000000000' '2018-11-30T13:52:54.000000000'\n",
      " '2018-12-03T10:52:54.000000000' '2018-11-30T18:52:54.000000000'\n",
      " '2018-12-02T21:52:54.000000000' '2018-12-17T08:45:01.000000000'\n",
      " '2018-11-28T13:02:09.000000000' '2018-11-28T13:06:22.000000000'\n",
      " '2018-11-28T13:32:07.000000000' '2018-12-02T20:52:54.000000000'\n",
      " '2018-12-15T13:45:02.000000000' '2018-11-29T08:53:00.000000000'\n",
      " '2018-11-27T23:45:20.000000000' '2018-11-27T23:15:20.000000000'\n",
      " '2018-12-13T12:45:02.000000000' '2018-12-17T21:45:02.000000000'\n",
      " '2018-11-30T01:52:54.000000000' '2018-11-30T14:52:54.000000000'\n",
      " '2018-12-13T07:45:01.000000000' '2018-12-15T00:45:01.000000000'\n",
      " '2018-11-29T23:52:54.000000000' '2018-12-18T12:45:01.000000000'\n",
      " '2018-11-28T09:49:16.000000000' '2018-11-28T09:42:24.000000000'\n",
      " '2018-11-28T09:32:11.000000000' '2018-11-28T09:48:16.000000000'\n",
      " '2018-11-28T09:50:11.000000000' '2018-11-28T09:43:15.000000000'\n",
      " '2018-11-28T09:32:18.000000000' '2018-11-28T09:34:34.000000000'\n",
      " '2018-12-16T17:45:02.000000000' '2018-12-14T18:45:02.000000000'\n",
      " '2018-12-18T03:45:01.000000000' '2018-11-28T21:41:36.000000000'\n",
      " '2018-11-28T21:32:07.000000000' '2018-11-28T21:02:08.000000000'\n",
      " '2018-11-28T21:53:39.000000000' '2018-11-27T12:15:20.000000000'\n",
      " '2018-11-27T12:45:20.000000000' '2018-12-03T18:52:54.000000000'\n",
      " '2018-12-01T09:52:54.000000000' '2018-11-29T02:02:07.000000000'\n",
      " '2018-11-29T02:06:46.000000000' '2018-11-29T02:33:32.000000000'\n",
      " '2018-11-29T02:32:08.000000000' '2018-11-29T02:07:18.000000000'\n",
      " '2018-11-29T02:37:52.000000000' '2018-11-29T02:09:19.000000000'\n",
      " '2018-12-03T08:52:54.000000000' '2018-11-27T16:45:20.000000000'\n",
      " '2018-11-27T16:15:20.000000000' '2018-12-04T00:52:54.000000000'\n",
      " '2018-12-18T09:45:01.000000000' '2018-12-15T02:45:02.000000000'\n",
      " '2018-11-26T14:05:09.000000000' '2018-12-13T14:45:01.000000000'\n",
      " '2018-12-10T02:40:57.000000000' '2018-12-10T02:39:11.000000000'\n",
      " '2018-12-10T02:35:06.000000000' '2018-12-10T02:40:34.000000000'\n",
      " '2018-12-02T07:52:54.000000000' '2018-12-03T21:52:54.000000000'\n",
      " '2018-12-03T02:52:54.000000000' '2018-12-13T06:45:01.000000000'\n",
      " '2018-12-13T19:45:02.000000000' '2018-11-29T16:52:54.000000000'\n",
      " '2018-11-28T20:02:07.000000000' '2018-11-28T20:43:20.000000000'\n",
      " '2018-11-28T20:32:07.000000000' '2018-12-16T15:45:01.000000000'\n",
      " '2018-12-03T00:52:54.000000000' '2018-11-28T11:02:07.000000000'\n",
      " '2018-11-28T11:32:07.000000000' '2018-11-28T11:06:24.000000000'\n",
      " '2018-12-01T11:52:54.000000000' '2018-11-27T11:15:20.000000000'\n",
      " '2018-11-27T11:45:20.000000000' '2018-11-28T14:06:22.000000000'\n",
      " '2018-11-28T14:02:07.000000000' '2018-11-28T14:32:08.000000000'\n",
      " '2018-12-03T15:52:54.000000000' '2018-11-28T00:15:20.000000000'\n",
      " '2018-11-28T00:45:22.000000000' '2018-12-01T19:52:54.000000000'\n",
      " '2018-12-18T18:45:02.000000000' '2018-11-26T12:35:08.000000000'\n",
      " '2018-11-26T12:05:10.000000000' '2018-11-28T22:53:39.000000000'\n",
      " '2018-11-29T10:52:54.000000000' '2018-12-14T10:45:01.000000000'\n",
      " '2018-12-17T20:45:01.000000000' '2018-12-15T18:45:02.000000000'\n",
      " '2018-11-28T18:32:09.000000000' '2018-11-26T15:05:08.000000000'\n",
      " '2018-11-26T15:35:09.000000000' '2018-12-18T06:45:01.000000000'\n",
      " '2018-12-18T11:45:02.000000000' '2018-12-17T18:45:02.000000000'\n",
      " '2018-12-15T13:45:01.000000000' '2018-12-17T11:45:01.000000000'\n",
      " '2018-11-26T23:42:13.000000000' '2018-11-26T23:12:14.000000000'\n",
      " '2018-12-13T05:45:01.000000000' '2018-12-16T14:45:01.000000000'\n",
      " '2018-12-13T11:45:01.000000000' '2018-12-16T13:45:01.000000000'\n",
      " '2018-11-28T19:06:22.000000000' '2018-11-27T14:45:20.000000000'\n",
      " '2018-11-27T14:15:20.000000000' '2018-12-04T03:52:54.000000000'\n",
      " '2018-11-26T05:17:44.000000000' '2018-11-26T05:13:05.000000000'\n",
      " '2018-11-26T05:29:18.000000000' '2018-11-26T05:14:00.000000000'\n",
      " '2018-11-26T05:02:59.000000000' '2018-11-29T17:52:54.000000000'\n",
      " '2018-11-26T22:05:09.000000000' '2018-11-26T22:35:21.000000000'\n",
      " '2018-11-26T22:42:25.000000000' '2018-11-26T22:45:10.000000000'\n",
      " '2018-11-26T22:41:40.000000000' '2018-12-02T12:52:54.000000000'\n",
      " '2018-12-02T05:52:54.000000000' '2018-12-01T13:52:54.000000000'\n",
      " '2018-12-18T08:45:01.000000000' '2018-11-26T05:28:03.000000000'\n",
      " '2018-11-26T05:29:17.000000000' '2018-11-26T05:17:45.000000000'\n",
      " '2018-11-26T05:49:58.000000000' '2018-11-27T20:15:20.000000000'\n",
      " '2018-11-27T20:45:20.000000000' '2018-12-01T18:52:54.000000000'\n",
      " '2018-11-30T06:52:54.000000000' '2018-11-28T17:32:07.000000000'\n",
      " '2018-11-28T17:02:08.000000000' '2018-11-28T17:06:23.000000000'\n",
      " '2018-12-01T02:52:54.000000000' '2018-12-01T02:09:58.000000000'\n",
      " '2018-12-01T02:11:03.000000000' '2018-12-01T02:12:33.000000000'\n",
      " '2018-12-14T18:45:01.000000000' '2018-11-29T04:46:23.000000000'\n",
      " '2018-11-29T04:32:00.000000000' '2018-11-29T04:39:58.000000000'\n",
      " '2018-11-29T04:32:07.000000000' '2018-11-29T04:57:38.000000000'\n",
      " '2018-11-29T04:54:50.000000000' '2018-11-29T04:02:07.000000000'\n",
      " '2018-11-29T04:29:35.000000000' '2018-11-29T04:09:18.000000000'\n",
      " '2018-11-29T01:53:39.000000000' '2018-11-29T01:40:41.000000000'\n",
      " '2018-11-29T01:32:08.000000000' '2018-11-29T01:51:40.000000000'\n",
      " '2018-11-29T01:19:44.000000000' '2018-11-29T01:59:51.000000000'\n",
      " '2018-11-29T01:02:08.000000000' '2018-11-29T01:09:23.000000000'\n",
      " '2018-11-29T01:27:03.000000000' '2018-11-29T01:24:44.000000000'\n",
      " '2018-12-03T22:52:54.000000000' '2018-12-02T00:52:54.000000000'\n",
      " '2018-11-28T15:02:07.000000000' '2018-11-28T15:06:22.000000000'\n",
      " '2018-11-28T15:32:09.000000000' '2018-12-01T02:09:59.000000000'\n",
      " '2018-12-14T13:45:01.000000000' '2018-11-30T21:52:54.000000000'\n",
      " '2018-12-17T02:45:01.000000000' '2018-12-14T22:45:01.000000000'\n",
      " '2018-12-03T19:52:54.000000000' '2018-12-03T05:52:54.000000000'\n",
      " '2018-11-30T00:52:54.000000000' '2018-12-15T09:45:01.000000000'\n",
      " '2018-12-03T13:52:54.000000000' '2018-12-04T04:52:54.000000000'\n",
      " '2018-12-16T04:45:02.000000000' '2018-11-30T20:52:54.000000000'\n",
      " '2018-12-17T19:45:01.000000000' '2018-11-27T18:15:20.000000000'\n",
      " '2018-11-27T18:45:20.000000000' '2018-11-29T01:32:07.000000000'\n",
      " '2018-11-29T01:53:38.000000000' '2018-11-28T21:41:35.000000000'\n",
      " '2018-11-28T15:02:08.000000000' '2018-12-17T04:45:01.000000000'\n",
      " '2018-12-17T17:45:01.000000000' '2018-12-13T17:45:02.000000000'\n",
      " '2018-12-15T22:45:01.000000000' '2018-11-26T13:35:10.000000000'\n",
      " '2018-11-26T13:05:08.000000000' '2018-12-18T14:45:01.000000000'\n",
      " '2018-12-18T05:45:01.000000000' '2018-11-27T04:15:20.000000000'\n",
      " '2018-11-27T04:45:20.000000000' '2018-11-27T22:15:20.000000000'\n",
      " '2018-11-27T22:45:20.000000000' '2018-12-17T01:45:01.000000000'\n",
      " '2018-12-03T20:52:54.000000000' '2018-11-28T18:32:08.000000000'\n",
      " '2018-11-27T21:15:20.000000000' '2018-11-27T21:45:20.000000000'\n",
      " '2018-11-27T17:45:20.000000000' '2018-11-27T17:15:20.000000000'\n",
      " '2018-12-03T09:52:54.000000000' '2018-12-14T03:45:01.000000000'\n",
      " '2018-11-28T09:48:15.000000000' '2018-12-01T10:52:54.000000000'\n",
      " '2018-11-26T18:35:09.000000000' '2018-11-26T18:05:09.000000000'\n",
      " '2018-12-18T01:45:01.000000000' '2018-11-29T00:02:07.000000000'\n",
      " '2018-11-29T00:39:28.000000000' '2018-11-29T00:51:44.000000000'\n",
      " '2018-11-29T00:49:07.000000000' '2018-11-29T00:53:38.000000000'\n",
      " '2018-11-29T00:32:09.000000000' '2018-11-29T00:37:34.000000000'\n",
      " '2018-12-16T22:45:01.000000000' '2018-12-03T14:52:54.000000000'\n",
      " '2018-11-27T15:45:20.000000000' '2018-11-27T15:15:20.000000000'\n",
      " '2018-12-16T07:45:01.000000000' '2018-11-26T16:05:09.000000000'\n",
      " '2018-11-26T16:35:09.000000000' '2018-11-29T03:02:10.000000000'\n",
      " '2018-12-02T04:52:54.000000000' '2018-11-27T00:17:13.000000000'\n",
      " '2018-11-27T00:42:13.000000000' '2018-11-27T00:42:27.000000000'\n",
      " '2018-11-27T00:12:13.000000000' '2018-11-27T00:43:37.000000000'\n",
      " '2018-11-27T00:58:48.000000000' '2018-11-27T00:59:13.000000000'\n",
      " '2018-11-27T00:45:22.000000000' '2018-12-15T01:45:01.000000000'\n",
      " '2018-12-14T01:45:01.000000000' '2018-12-02T23:52:56.000000000'\n",
      " '2018-12-16T20:45:02.000000000' '2018-12-16T05:45:01.000000000'\n",
      " '2018-12-04T02:52:54.000000000' '2018-12-15T00:45:02.000000000'\n",
      " '2018-12-02T16:52:54.000000000' '2018-12-01T08:52:54.000000000'\n",
      " '2018-11-29T15:52:54.000000000' '2018-11-30T04:53:00.000000000'\n",
      " '2018-12-18T16:45:01.000000000' '2018-12-13T16:45:02.000000000'\n",
      " '2018-11-26T20:35:09.000000000' '2018-11-26T20:05:08.000000000'\n",
      " '2018-11-29T05:17:35.000000000' '2018-12-14T15:45:02.000000000'\n",
      " '2018-12-13T15:45:02.000000000' '2018-12-15T08:45:01.000000000'\n",
      " '2018-12-18T02:45:01.000000000' '2018-12-01T23:52:54.000000000'\n",
      " '2018-12-17T05:45:01.000000000' '2018-11-29T01:24:43.000000000'\n",
      " '2018-12-17T06:45:01.000000000' '2018-12-14T05:45:01.000000000'\n",
      " '2018-12-15T20:45:01.000000000' '2018-12-01T06:52:54.000000000'\n",
      " '2018-12-03T01:52:54.000000000' '2018-12-17T22:45:06.000000000'\n",
      " '2018-12-14T06:45:01.000000000' '2018-11-27T05:45:20.000000000'\n",
      " '2018-11-27T05:44:58.000000000' '2018-11-27T05:15:20.000000000'\n",
      " '2018-12-02T11:52:54.000000000' '2018-12-16T10:45:01.000000000'\n",
      " '2018-11-26T18:05:08.000000000' '2018-11-26T18:35:08.000000000'\n",
      " '2018-11-29T02:32:09.000000000' '2018-12-18T02:45:02.000000000'\n",
      " '2018-12-16T08:45:01.000000000' '2018-12-13T23:45:01.000000000'\n",
      " '2018-11-29T11:52:54.000000000' '2018-12-17T13:45:02.000000000'\n",
      " '2018-11-30T08:08:55.000000000' '2018-11-30T08:52:54.000000000'\n",
      " '2018-12-15T15:45:02.000000000' '2018-11-28T18:02:07.000000000'\n",
      " '2018-12-13T03:24:59.000000000' '2018-12-13T03:41:45.000000000'\n",
      " '2018-12-15T20:45:02.000000000' '2018-12-17T14:45:02.000000000'\n",
      " '2018-12-13T22:45:02.000000000' '2018-11-30T19:52:54.000000000'\n",
      " '2018-11-27T06:45:20.000000000' '2018-11-27T06:15:20.000000000'\n",
      " '2018-11-30T23:52:54.000000000' '2018-12-17T04:45:02.000000000'\n",
      " '2018-12-01T02:53:00.000000000' '2018-12-01T02:11:02.000000000'\n",
      " '2018-12-16T16:45:07.000000000' '2018-12-01T21:52:54.000000000'\n",
      " '2018-12-14T06:45:02.000000000' '2018-12-01T23:52:55.000000000'\n",
      " '2018-11-29T05:17:39.000000000' '2018-11-28T12:32:07.000000000'\n",
      " '2018-11-28T12:06:22.000000000' '2018-11-28T12:02:07.000000000'\n",
      " '2018-12-15T17:45:02.000000000' '2018-12-14T17:45:02.000000000'\n",
      " '2018-12-02T17:52:54.000000000' '2018-12-18T07:45:01.000000000'\n",
      " '2018-12-16T16:45:01.000000000' '2018-12-14T08:45:02.000000000'\n",
      " '2018-12-02T03:52:54.000000000' '2018-12-16T18:45:01.000000000'\n",
      " '2018-12-14T09:45:01.000000000' '2018-12-03T23:52:54.000000000'\n",
      " '2018-11-29T09:52:54.000000000' '2018-12-17T21:45:01.000000000'\n",
      " '2018-12-02T13:52:54.000000000' '2018-12-18T13:45:02.000000000'\n",
      " '2018-11-29T12:52:54.000000000' '2018-12-15T12:45:01.000000000'\n",
      " '2018-12-14T11:45:01.000000000' '2018-12-14T16:45:02.000000000'\n",
      " '2018-12-01T05:52:54.000000000' '2018-11-30T09:52:54.000000000'\n",
      " '2018-12-15T05:45:01.000000000' '2018-12-01T16:52:54.000000000'\n",
      " '2018-11-30T10:52:54.000000000' '2018-12-17T16:45:02.000000000'\n",
      " '2018-11-26T10:05:10.000000000' '2018-11-26T10:35:08.000000000'\n",
      " '2018-12-16T06:45:02.000000000' '2018-12-01T01:52:54.000000000'\n",
      " '2018-12-13T17:45:01.000000000' '2018-11-27T07:15:20.000000000'\n",
      " '2018-11-27T07:45:20.000000000' '2018-12-18T15:45:01.000000000'\n",
      " '2018-12-13T12:45:01.000000000' '2018-11-29T01:24:46.000000000'\n",
      " '2018-11-29T01:27:06.000000000' '2018-11-27T08:15:20.000000000'\n",
      " '2018-11-27T08:45:20.000000000' '2018-11-26T17:35:10.000000000'\n",
      " '2018-11-26T17:05:08.000000000' '2018-12-13T13:45:01.000000000'\n",
      " '2018-11-28T11:02:08.000000000' '2018-12-16T01:45:01.000000000'\n",
      " '2018-11-28T09:42:25.000000000' '2018-11-27T01:17:22.000000000'\n",
      " '2018-12-13T22:45:01.000000000' '2018-12-01T15:53:05.000000000'\n",
      " '2018-12-17T03:45:01.000000000' '2018-12-01T00:52:54.000000000'\n",
      " '2018-12-13T04:24:57.000000000' '2018-12-13T04:45:03.000000000'\n",
      " '2018-12-18T18:45:01.000000000' '2018-12-14T20:45:01.000000000'\n",
      " '2018-12-16T19:45:02.000000000' '2018-11-29T22:52:54.000000000'\n",
      " '2018-11-29T21:32:31.000000000' '2018-11-29T21:52:54.000000000'\n",
      " '2018-11-29T21:18:20.000000000' '2018-11-29T21:26:56.000000000'\n",
      " '2018-12-13T09:45:01.000000000' '2018-11-29T06:41:41.000000000'\n",
      " '2018-11-29T06:48:52.000000000' '2018-12-16T22:45:02.000000000'\n",
      " '2018-12-01T20:52:54.000000000' '2018-12-01T03:52:54.000000000'\n",
      " '2018-12-16T02:45:01.000000000' '2018-11-29T14:52:54.000000000'\n",
      " '2018-11-30T12:52:54.000000000' '2018-11-26T23:12:15.000000000'\n",
      " '2018-12-15T03:45:01.000000000' '2018-11-29T21:26:51.000000000'\n",
      " '2018-12-18T17:45:01.000000000' '2018-12-17T07:45:01.000000000'\n",
      " '2018-11-27T20:45:21.000000000' '2018-11-27T20:15:22.000000000'\n",
      " '2018-12-15T23:45:01.000000000' '2018-12-03T11:52:54.000000000'\n",
      " '2018-12-15T02:45:01.000000000' '2018-12-13T21:45:01.000000000'\n",
      " '2018-12-02T22:52:54.000000000' '2018-12-02T14:52:54.000000000'\n",
      " '2018-12-17T22:45:01.000000000' '2018-11-29T07:52:54.000000000'\n",
      " '2018-11-26T10:35:09.000000000' '2018-12-15T17:45:01.000000000'\n",
      " '2018-11-26T05:13:59.000000000' '2018-11-26T05:13:04.000000000'\n",
      " '2018-11-26T05:28:05.000000000' '2018-11-26T05:36:25.000000000'\n",
      " '2018-11-26T05:03:00.000000000' '2018-11-26T05:50:00.000000000'\n",
      " '2018-11-30T05:52:54.000000000' '2018-12-14T02:45:01.000000000'\n",
      " '2018-11-30T07:52:54.000000000' '2018-12-13T18:45:01.000000000'\n",
      " '2018-11-28T16:32:08.000000000' '2018-12-02T10:52:54.000000000'\n",
      " '2018-12-17T10:45:01.000000000' '2018-11-26T06:15:44.000000000'\n",
      " '2018-11-26T06:14:44.000000000' '2018-11-26T06:24:02.000000000'\n",
      " '2018-11-26T06:40:31.000000000' '2018-11-26T06:16:44.000000000'\n",
      " '2018-11-26T06:15:14.000000000' '2018-11-26T06:50:30.000000000'\n",
      " '2018-11-26T06:14:16.000000000' '2018-11-26T06:29:02.000000000'\n",
      " '2018-11-26T06:49:03.000000000' '2018-11-26T06:11:49.000000000'\n",
      " '2018-11-26T06:12:13.000000000' '2018-11-26T06:19:03.000000000'\n",
      " '2018-11-26T06:49:44.000000000' '2018-11-26T06:16:14.000000000'\n",
      " '2018-12-01T17:52:54.000000000' '2018-12-17T23:45:01.000000000'\n",
      " '2018-12-16T05:45:02.000000000' '2018-11-28T16:02:07.000000000'\n",
      " '2018-12-14T09:45:02.000000000' '2018-12-18T13:45:01.000000000'\n",
      " '2018-11-29T04:57:39.000000000' '2018-11-29T00:49:08.000000000'\n",
      " '2018-12-15T19:45:01.000000000' '2018-12-04T05:52:54.000000000'\n",
      " '2018-12-18T04:45:01.000000000' '2018-12-13T18:45:02.000000000'\n",
      " '2018-11-26T21:05:10.000000000' '2018-11-26T21:35:09.000000000'\n",
      " '2018-12-02T19:53:04.000000000' '2018-12-18T16:45:02.000000000'\n",
      " '2018-12-04T01:52:54.000000000' '2018-11-28T16:06:22.000000000'\n",
      " '2018-11-26T06:16:45.000000000' '2018-11-26T06:12:14.000000000'\n",
      " '2018-11-26T06:24:04.000000000' '2018-11-26T06:49:04.000000000'\n",
      " '2018-11-26T06:29:03.000000000' '2018-11-26T06:16:15.000000000'\n",
      " '2018-11-26T06:15:16.000000000' '2018-11-26T06:14:45.000000000'\n",
      " '2018-11-26T06:14:17.000000000' '2018-11-26T06:19:04.000000000'\n",
      " '2018-11-26T06:40:30.000000000' '2018-11-30T15:52:54.000000000'\n",
      " '2018-11-27T00:17:14.000000000' '2018-11-27T00:45:21.000000000'\n",
      " '2018-12-15T08:45:02.000000000' '2018-11-28T13:02:07.000000000'\n",
      " '2018-12-14T17:45:01.000000000' '2018-11-30T03:52:54.000000000'\n",
      " '2018-11-29T06:22:40.000000000' '2018-12-02T01:52:54.000000000'\n",
      " '2018-12-09T23:08:23.000000000' '2018-12-09T23:06:24.000000000'\n",
      " '2018-11-27T00:59:12.000000000' '2018-11-26T15:05:09.000000000'\n",
      " '2018-12-02T15:52:54.000000000' '2018-12-14T14:45:01.000000000'\n",
      " '2018-12-14T13:45:02.000000000' '2018-12-17T16:45:01.000000000'\n",
      " '2018-11-26T19:35:10.000000000' '2018-11-26T19:05:08.000000000'\n",
      " '2018-12-15T11:45:01.000000000' '2018-12-14T08:45:01.000000000'\n",
      " '2018-12-14T07:45:01.000000000' '2018-12-13T15:45:01.000000000'\n",
      " '2018-12-03T12:52:54.000000000' '2018-12-16T11:45:02.000000000'\n",
      " '2018-12-17T19:45:02.000000000' '2018-11-27T09:15:20.000000000'\n",
      " '2018-11-27T09:45:20.000000000' '2018-11-29T13:52:54.000000000'\n",
      " '2018-11-26T21:35:08.000000000' '2018-11-28T21:32:09.000000000'\n",
      " '2018-11-26T15:35:08.000000000' '2018-11-29T08:52:54.000000000'\n",
      " '2018-12-02T03:52:55.000000000' '2018-11-29T01:59:52.000000000'\n",
      " '2018-11-29T01:27:02.000000000' '2018-12-17T11:45:02.000000000'\n",
      " '2018-12-14T19:45:02.000000000' '2018-11-29T01:02:07.000000000'\n",
      " '2018-11-28T23:32:10.000000000' '2018-11-30T17:52:54.000000000'\n",
      " '2018-11-28T18:06:23.000000000' '2018-12-10T02:35:07.000000000'\n",
      " '2018-12-18T04:45:02.000000000' '2018-12-15T22:45:02.000000000'\n",
      " '2018-12-01T07:52:54.000000000' '2018-12-14T21:45:01.000000000'\n",
      " '2018-11-26T08:21:01.000000000' '2018-11-26T08:21:59.000000000'\n",
      " '2018-11-26T08:34:06.000000000' '2018-11-30T11:52:54.000000000'\n",
      " '2018-11-26T19:35:09.000000000' '2018-12-15T15:45:01.000000000'\n",
      " '2018-12-18T07:45:02.000000000' '2018-12-01T22:52:54.000000000'\n",
      " '2018-11-26T10:35:10.000000000' '2018-12-15T10:45:02.000000000'\n",
      " '2018-11-27T02:45:21.000000000' '2018-12-17T09:45:02.000000000'\n",
      " '2018-12-13T14:45:02.000000000' '2018-12-17T12:45:01.000000000'\n",
      " '2018-11-28T21:02:09.000000000' '2018-12-03T04:52:54.000000000'\n",
      " '2018-12-15T18:45:01.000000000' '2018-12-17T14:45:01.000000000'\n",
      " '2018-12-17T05:45:02.000000000' '2018-12-10T00:08:21.000000000'\n",
      " '2018-11-29T13:52:55.000000000' '2018-12-14T15:45:01.000000000'\n",
      " '2018-11-27T05:44:57.000000000' '2018-12-03T17:52:54.000000000'\n",
      " '2018-12-15T10:45:01.000000000' '2018-12-16T00:45:02.000000000'\n",
      " '2018-11-27T12:15:21.000000000' '2018-12-16T10:45:02.000000000'\n",
      " '2018-12-16T17:45:01.000000000' '2018-12-17T09:45:01.000000000'\n",
      " '2018-12-17T15:45:02.000000000' '2018-12-16T21:45:01.000000000'\n",
      " '2018-12-13T13:45:02.000000000' '2018-12-18T00:45:01.000000000'\n",
      " '2018-12-01T10:52:55.000000000' '2018-11-28T23:49:33.000000000'\n",
      " '2018-11-28T22:02:08.000000000' '2018-11-26T11:35:08.000000000'\n",
      " '2018-11-26T11:05:10.000000000' '2018-12-14T10:45:08.000000000'\n",
      " '2018-11-26T09:29:09.000000000' '2018-11-26T09:05:10.000000000'\n",
      " '2018-11-26T09:35:10.000000000' '2018-11-26T09:03:06.000000000'\n",
      " '2018-11-29T00:02:08.000000000' '2018-11-27T00:43:39.000000000'\n",
      " '2018-11-27T00:58:49.000000000' '2018-12-15T11:45:02.000000000'\n",
      " '2018-12-14T02:45:02.000000000' '2018-11-28T12:06:23.000000000'\n",
      " '2018-12-16T20:45:01.000000000' '2018-12-02T06:52:54.000000000'\n",
      " '2018-12-03T23:52:55.000000000' '2018-11-26T19:05:10.000000000'\n",
      " '2018-11-28T10:00:09.000000000' '2018-12-10T01:58:34.000000000'\n",
      " '2018-12-15T04:45:01.000000000' '2018-11-28T13:32:08.000000000'\n",
      " '2018-12-17T07:45:02.000000000' '2018-12-15T16:45:01.000000000'\n",
      " '2018-12-15T21:45:01.000000000' '2018-12-14T23:45:02.000000000'\n",
      " '2018-12-16T04:45:01.000000000' '2018-11-28T07:25:54.000000000'\n",
      " '2018-11-28T07:33:43.000000000' '2018-11-28T07:31:10.000000000'\n",
      " '2018-11-28T07:24:05.000000000' '2018-11-28T07:28:59.000000000'\n",
      " '2018-11-28T07:28:00.000000000' '2018-11-28T07:56:39.000000000'\n",
      " '2018-11-28T07:30:02.000000000' '2018-11-28T07:31:37.000000000'\n",
      " '2018-11-28T07:57:13.000000000' '2018-11-28T07:34:35.000000000'\n",
      " '2018-11-28T07:54:48.000000000' '2018-11-28T07:24:52.000000000'\n",
      " '2018-12-14T05:45:02.000000000' '2018-12-01T22:52:55.000000000'\n",
      " '2018-12-15T21:45:02.000000000' '2018-12-16T07:45:02.000000000'\n",
      " '2018-12-14T21:45:02.000000000' '2018-12-14T04:45:02.000000000'\n",
      " '2018-12-02T08:53:01.000000000' '2018-12-17T00:45:01.000000000'\n",
      " '2018-12-17T12:45:02.000000000' '2018-11-28T15:32:07.000000000'\n",
      " '2018-11-28T09:50:10.000000000' '2018-11-28T19:02:09.000000000'\n",
      " '2018-11-26T05:03:01.000000000' '2018-12-16T19:45:07.000000000'\n",
      " '2018-11-26T22:35:18.000000000' '2018-11-26T22:42:24.000000000'\n",
      " '2018-11-29T02:37:51.000000000' '2018-12-18T05:45:02.000000000'\n",
      " '2018-11-26T06:24:05.000000000' '2018-11-26T06:15:45.000000000'\n",
      " '2018-11-26T06:14:46.000000000' '2018-11-26T06:11:48.000000000'\n",
      " '2018-11-26T06:29:04.000000000' '2018-11-26T06:16:46.000000000'\n",
      " '2018-11-26T06:16:16.000000000' '2018-11-29T21:32:33.000000000'\n",
      " '2018-11-26T22:05:08.000000000' '2018-12-14T10:45:02.000000000'\n",
      " '2018-11-26T09:03:05.000000000' '2018-12-16T23:45:02.000000000'\n",
      " '2018-12-01T15:53:04.000000000' '2018-12-13T16:45:01.000000000'\n",
      " '2018-12-17T00:45:02.000000000' '2018-11-26T16:35:08.000000000'\n",
      " '2018-11-29T16:52:59.000000000' '2018-11-28T00:45:20.000000000'\n",
      " '2018-11-29T02:02:08.000000000' '2018-12-16T11:45:01.000000000'\n",
      " '2018-12-15T19:45:02.000000000' '2018-11-29T01:27:05.000000000'\n",
      " '2018-11-28T20:32:09.000000000' '2018-12-01T15:53:03.000000000'\n",
      " '2018-12-17T15:45:01.000000000' '2018-12-17T02:45:02.000000000'\n",
      " '2018-11-26T06:49:43.000000000' '2018-11-26T06:15:46.000000000'\n",
      " '2018-11-26T06:15:15.000000000' '2018-12-14T23:45:01.000000000'\n",
      " '2018-11-28T17:02:07.000000000' '2018-12-14T12:45:01.000000000'\n",
      " '2018-11-26T20:05:09.000000000' '2018-11-28T15:06:23.000000000'\n",
      " '2018-12-14T01:45:03.000000000' '2018-11-26T16:05:08.000000000'\n",
      " '2018-12-13T06:45:02.000000000' '2018-12-16T14:45:02.000000000'\n",
      " '2018-12-15T04:45:02.000000000' '2018-11-27T05:44:59.000000000'\n",
      " '2018-11-26T06:49:02.000000000' '2018-11-29T02:06:47.000000000'\n",
      " '2018-12-17T13:45:01.000000000' '2018-11-28T08:52:34.000000000'\n",
      " '2018-11-28T08:07:39.000000000' '2018-11-28T08:27:00.000000000'\n",
      " '2018-11-28T08:08:35.000000000' '2018-11-28T08:14:43.000000000'\n",
      " '2018-11-28T08:54:56.000000000' '2018-11-28T17:06:22.000000000'\n",
      " '2018-12-13T03:25:05.000000000' '2018-11-26T06:12:12.000000000'\n",
      " '2018-11-26T06:19:02.000000000' '2018-11-29T06:49:49.000000000'\n",
      " '2018-11-26T20:35:08.000000000' '2018-11-28T17:02:09.000000000'\n",
      " '2018-11-29T23:52:56.000000000' '2018-12-14T16:45:01.000000000'\n",
      " '2018-11-26T04:49:36.000000000' '2018-11-26T04:41:37.000000000'\n",
      " '2018-11-26T04:43:17.000000000' '2018-11-26T04:55:44.000000000'\n",
      " '2018-11-26T04:40:54.000000000' '2018-11-26T05:13:58.000000000'\n",
      " '2018-11-26T13:05:09.000000000' '2018-12-14T04:45:01.000000000'\n",
      " '2018-11-29T04:09:17.000000000' '2018-11-26T06:24:03.000000000'\n",
      " '2018-11-26T06:49:45.000000000' '2018-12-15T06:45:02.000000000'\n",
      " '2018-12-13T23:45:02.000000000' '2018-11-26T09:05:11.000000000'\n",
      " '2018-12-14T01:45:02.000000000' '2018-11-26T06:14:15.000000000'\n",
      " '2018-11-30T20:52:55.000000000' '2018-12-16T19:45:01.000000000'\n",
      " '2018-11-26T04:55:41.000000000' '2018-11-26T04:49:38.000000000'\n",
      " '2018-11-26T04:40:55.000000000' '2018-11-26T04:41:36.000000000'\n",
      " '2018-11-26T13:05:10.000000000' '2018-11-26T17:05:09.000000000'\n",
      " '2018-11-29T01:59:55.000000000' '2018-12-16T09:45:02.000000000'\n",
      " '2018-11-26T12:05:09.000000000' '2018-11-30T20:52:57.000000000'\n",
      " '2018-12-13T08:45:02.000000000' '2018-12-14T22:45:02.000000000'\n",
      " '2018-12-04T02:53:03.000000000' '2018-12-01T15:53:00.000000000'\n",
      " '2018-12-14T10:45:06.000000000' '2018-12-16T12:45:02.000000000'\n",
      " '2018-12-15T12:45:02.000000000' '2018-11-30T11:52:59.000000000'\n",
      " '2018-12-13T20:45:02.000000000' '2018-12-01T22:52:56.000000000'\n",
      " '2018-12-16T22:45:04.000000000' '2018-12-15T03:45:02.000000000'\n",
      " '2018-11-26T08:21:02.000000000' '2018-12-03T15:52:57.000000000'\n",
      " '2018-11-26T08:34:05.000000000' '2018-12-03T09:52:59.000000000'\n",
      " '2018-12-18T02:45:03.000000000' '2018-11-26T22:35:19.000000000'\n",
      " '2018-12-17T22:45:04.000000000' '2018-12-17T01:45:02.000000000'\n",
      " '2018-11-28T08:07:40.000000000' '2018-12-03T14:53:02.000000000'\n",
      " '2018-12-18T00:45:02.000000000' '2018-12-15T16:45:02.000000000'\n",
      " '2018-11-26T05:36:23.000000000' '2018-12-14T11:45:02.000000000'\n",
      " '2018-11-26T05:29:16.000000000' '2018-11-26T05:36:26.000000000'\n",
      " '2018-11-26T04:55:43.000000000' '2018-11-26T04:43:16.000000000'\n",
      " '2018-11-26T14:35:09.000000000' '2018-12-15T09:45:02.000000000'\n",
      " '2018-12-16T13:45:02.000000000' '2018-11-26T04:40:53.000000000'\n",
      " '2018-11-30T18:52:55.000000000' '2018-11-26T03:40:46.000000000'\n",
      " '2018-11-28T07:28:01.000000000' '2018-11-26T04:41:38.000000000'\n",
      " '2018-11-26T04:49:37.000000000' '2018-11-26T04:43:18.000000000'\n",
      " '2018-11-26T04:55:42.000000000' '2018-11-26T07:11:16.000000000'\n",
      " '2018-11-26T11:35:10.000000000' '2018-12-10T01:58:33.000000000'\n",
      " '2018-12-18T09:45:02.000000000' '2018-11-26T03:40:45.000000000'\n",
      " '2018-12-18T12:45:02.000000000' '2018-12-18T10:45:02.000000000'\n",
      " '2018-12-18T15:45:02.000000000' '2018-11-26T03:40:44.000000000'\n",
      " '2018-11-29T12:52:59.000000000' '2018-12-01T04:53:01.000000000'\n",
      " '2018-11-28T07:24:51.000000000' '2018-11-28T08:14:44.000000000'\n",
      " '2018-11-28T08:54:55.000000000' '2018-11-26T08:22:00.000000000'\n",
      " '2018-11-26T08:21:03.000000000']\n",
      "Unique values in day_w: [ 6.  1. nan  4.  3.  0.  2.  5.]\n",
      "Unique values in hour_w: [ 9.  2. nan  4.  3. 18.  5. 19.  6. 10. 16. 22. 23.  0. 14. 11.  7. 20.\n",
      " 13.  8. 12.  1. 21. 17. 15.]\n"
     ]
    },
    {
     "name": "stdout",
     "output_type": "stream",
     "text": [
      "Unique values in merge_date_w: ['Haymarket Square - 2018-12-16 - 9' 'Haymarket Square - 2018-11-27 - 2'\n",
      " nan ... 'Northeastern University - 2018-12-10 - 1'\n",
      " 'North End - 2018-11-26 - 3' 'Fenway - 2018-11-28 - 8']\n"
     ]
    }
   ],
   "source": [
    "# Get unique values in each column\n",
    "for col in df3.columns:\n",
    "    print(f\"Unique values in {col}: {df3[col].unique()}\")"
   ]
  },
  {
   "cell_type": "code",
   "execution_count": 39,
   "id": "d861633e",
   "metadata": {},
   "outputs": [],
   "source": [
    "df3['temp'] = df3['temp'].fillna(df3['temp'].mean())\n",
    "df3['location'] = df3['location'].fillna(df3['location'].mode())\n",
    "df3['clouds'] = df3['clouds'].fillna(df3['clouds'].mean())\n",
    "df3['pressure'] = df3['pressure'].fillna(df3['pressure'].mean())\n",
    "df3['rain'] = df3['rain'].fillna(df3['rain'].mean())\n",
    "df3['time_stamp'] = df3['time_stamp'].fillna(df3['time_stamp'].mode())\n",
    "df3['humidity'] = df3['humidity'].fillna(df3['humidity'].mean())\n",
    "df3['wind'] = df3['wind'].fillna(df3['wind'].mean())\n",
    "df3['date_time_w'] = df3['date_time_w'].fillna(df3['date_time_w'].mode())\n",
    "df3['day_w'] = df3['day_w'].fillna(df3['day_w'].mode())\n",
    "df3['hour_w'] = df3['hour_w'].fillna(df3['hour_w'].mode())\n",
    "#df3['merge_date_w '] = df3['merge_date_w '].fillna(df3['merge_date_w '].mode())"
   ]
  },
  {
   "cell_type": "code",
   "execution_count": 40,
   "id": "7fa32e01",
   "metadata": {},
   "outputs": [
    {
     "data": {
      "text/plain": [
       "distance               0\n",
       "cab_type               0\n",
       "destination            0\n",
       "source                 0\n",
       "price                  0\n",
       "surge_multiplier       0\n",
       "id                     0\n",
       "product_id             0\n",
       "name                   0\n",
       "fare_per_mile          0\n",
       "date_time              0\n",
       "day                    0\n",
       "hour                   0\n",
       "merge_date             0\n",
       "temp                   0\n",
       "location            2964\n",
       "clouds                 0\n",
       "pressure               0\n",
       "rain                   0\n",
       "time_stamp          2963\n",
       "humidity               0\n",
       "wind                   0\n",
       "date_time_w         2963\n",
       "day_w               2964\n",
       "hour_w              2964\n",
       "merge_date_w        2964\n",
       "dtype: int64"
      ]
     },
     "execution_count": 40,
     "metadata": {},
     "output_type": "execute_result"
    }
   ],
   "source": [
    "df3.isnull().sum()"
   ]
  },
  {
   "cell_type": "code",
   "execution_count": 41,
   "id": "38b84898",
   "metadata": {},
   "outputs": [],
   "source": [
    "df3 = df3.dropna()"
   ]
  },
  {
   "cell_type": "code",
   "execution_count": 42,
   "id": "6a6c9ad7",
   "metadata": {},
   "outputs": [
    {
     "data": {
      "text/plain": [
       "distance            0\n",
       "cab_type            0\n",
       "destination         0\n",
       "source              0\n",
       "price               0\n",
       "surge_multiplier    0\n",
       "id                  0\n",
       "product_id          0\n",
       "name                0\n",
       "fare_per_mile       0\n",
       "date_time           0\n",
       "day                 0\n",
       "hour                0\n",
       "merge_date          0\n",
       "temp                0\n",
       "location            0\n",
       "clouds              0\n",
       "pressure            0\n",
       "rain                0\n",
       "time_stamp          0\n",
       "humidity            0\n",
       "wind                0\n",
       "date_time_w         0\n",
       "day_w               0\n",
       "hour_w              0\n",
       "merge_date_w        0\n",
       "dtype: int64"
      ]
     },
     "execution_count": 42,
     "metadata": {},
     "output_type": "execute_result"
    }
   ],
   "source": [
    "df3.isnull().sum()"
   ]
  },
  {
   "cell_type": "code",
   "execution_count": 43,
   "id": "bac3e0c3",
   "metadata": {},
   "outputs": [
    {
     "data": {
      "text/plain": [
       "(1265675, 26)"
      ]
     },
     "execution_count": 43,
     "metadata": {},
     "output_type": "execute_result"
    }
   ],
   "source": [
    "df3.shape"
   ]
  },
  {
   "cell_type": "code",
   "execution_count": 44,
   "id": "5557e005",
   "metadata": {},
   "outputs": [
    {
     "data": {
      "text/plain": [
       "0"
      ]
     },
     "execution_count": 44,
     "metadata": {},
     "output_type": "execute_result"
    }
   ],
   "source": [
    "df3.duplicated().sum()"
   ]
  },
  {
   "cell_type": "code",
   "execution_count": 45,
   "id": "4a1f3b76",
   "metadata": {},
   "outputs": [],
   "source": [
    "df3 = df3.drop_duplicates()"
   ]
  },
  {
   "cell_type": "code",
   "execution_count": 46,
   "id": "aec98f08",
   "metadata": {},
   "outputs": [
    {
     "data": {
      "text/html": [
       "<div>\n",
       "<style scoped>\n",
       "    .dataframe tbody tr th:only-of-type {\n",
       "        vertical-align: middle;\n",
       "    }\n",
       "\n",
       "    .dataframe tbody tr th {\n",
       "        vertical-align: top;\n",
       "    }\n",
       "\n",
       "    .dataframe thead th {\n",
       "        text-align: right;\n",
       "    }\n",
       "</style>\n",
       "<table border=\"1\" class=\"dataframe\">\n",
       "  <thead>\n",
       "    <tr style=\"text-align: right;\">\n",
       "      <th></th>\n",
       "      <th>distance</th>\n",
       "      <th>price</th>\n",
       "      <th>surge_multiplier</th>\n",
       "      <th>fare_per_mile</th>\n",
       "      <th>day</th>\n",
       "      <th>hour</th>\n",
       "      <th>temp</th>\n",
       "      <th>clouds</th>\n",
       "      <th>pressure</th>\n",
       "      <th>rain</th>\n",
       "      <th>time_stamp</th>\n",
       "      <th>humidity</th>\n",
       "      <th>wind</th>\n",
       "      <th>day_w</th>\n",
       "      <th>hour_w</th>\n",
       "    </tr>\n",
       "  </thead>\n",
       "  <tbody>\n",
       "    <tr>\n",
       "      <th>count</th>\n",
       "      <td>1.265675e+06</td>\n",
       "      <td>1.265675e+06</td>\n",
       "      <td>1.265675e+06</td>\n",
       "      <td>1.265675e+06</td>\n",
       "      <td>1.265675e+06</td>\n",
       "      <td>1.265675e+06</td>\n",
       "      <td>1.265675e+06</td>\n",
       "      <td>1.265675e+06</td>\n",
       "      <td>1.265675e+06</td>\n",
       "      <td>1.265675e+06</td>\n",
       "      <td>1.265675e+06</td>\n",
       "      <td>1.265675e+06</td>\n",
       "      <td>1.265675e+06</td>\n",
       "      <td>1.265675e+06</td>\n",
       "      <td>1.265675e+06</td>\n",
       "    </tr>\n",
       "    <tr>\n",
       "      <th>mean</th>\n",
       "      <td>2.189590e+00</td>\n",
       "      <td>1.630132e+01</td>\n",
       "      <td>1.013879e+00</td>\n",
       "      <td>9.663587e+00</td>\n",
       "      <td>2.387931e+00</td>\n",
       "      <td>1.055143e+01</td>\n",
       "      <td>3.925680e+01</td>\n",
       "      <td>6.803707e-01</td>\n",
       "      <td>1.004985e+03</td>\n",
       "      <td>5.938407e-02</td>\n",
       "      <td>1.543757e+09</td>\n",
       "      <td>7.538507e-01</td>\n",
       "      <td>7.693640e+00</td>\n",
       "      <td>2.387931e+00</td>\n",
       "      <td>1.055143e+01</td>\n",
       "    </tr>\n",
       "    <tr>\n",
       "      <th>std</th>\n",
       "      <td>1.139829e+00</td>\n",
       "      <td>8.984883e+00</td>\n",
       "      <td>9.134762e-02</td>\n",
       "      <td>1.444035e+01</td>\n",
       "      <td>1.744490e+00</td>\n",
       "      <td>7.391508e+00</td>\n",
       "      <td>5.471145e+00</td>\n",
       "      <td>2.996939e-01</td>\n",
       "      <td>1.269359e+01</td>\n",
       "      <td>4.458292e-02</td>\n",
       "      <td>6.106462e+05</td>\n",
       "      <td>1.195526e-01</td>\n",
       "      <td>3.448785e+00</td>\n",
       "      <td>1.744490e+00</td>\n",
       "      <td>7.391508e+00</td>\n",
       "    </tr>\n",
       "    <tr>\n",
       "      <th>min</th>\n",
       "      <td>2.000000e-02</td>\n",
       "      <td>2.488500e+00</td>\n",
       "      <td>1.000000e+00</td>\n",
       "      <td>5.600000e-01</td>\n",
       "      <td>0.000000e+00</td>\n",
       "      <td>0.000000e+00</td>\n",
       "      <td>1.962000e+01</td>\n",
       "      <td>0.000000e+00</td>\n",
       "      <td>9.882500e+02</td>\n",
       "      <td>2.000000e-04</td>\n",
       "      <td>1.543204e+09</td>\n",
       "      <td>4.500000e-01</td>\n",
       "      <td>2.900000e-01</td>\n",
       "      <td>0.000000e+00</td>\n",
       "      <td>0.000000e+00</td>\n",
       "    </tr>\n",
       "    <tr>\n",
       "      <th>25%</th>\n",
       "      <td>1.280000e+00</td>\n",
       "      <td>9.495600e+00</td>\n",
       "      <td>1.000000e+00</td>\n",
       "      <td>4.670000e+00</td>\n",
       "      <td>1.000000e+00</td>\n",
       "      <td>4.000000e+00</td>\n",
       "      <td>3.726000e+01</td>\n",
       "      <td>4.500000e-01</td>\n",
       "      <td>9.940800e+02</td>\n",
       "      <td>5.765235e-02</td>\n",
       "      <td>1.543398e+09</td>\n",
       "      <td>6.600000e-01</td>\n",
       "      <td>4.960000e+00</td>\n",
       "      <td>1.000000e+00</td>\n",
       "      <td>4.000000e+00</td>\n",
       "    </tr>\n",
       "    <tr>\n",
       "      <th>50%</th>\n",
       "      <td>2.160000e+00</td>\n",
       "      <td>1.350240e+01</td>\n",
       "      <td>1.000000e+00</td>\n",
       "      <td>7.410000e+00</td>\n",
       "      <td>2.000000e+00</td>\n",
       "      <td>1.000000e+01</td>\n",
       "      <td>3.961000e+01</td>\n",
       "      <td>7.600000e-01</td>\n",
       "      <td>1.000780e+03</td>\n",
       "      <td>5.765235e-02</td>\n",
       "      <td>1.543455e+09</td>\n",
       "      <td>7.200000e-01</td>\n",
       "      <td>8.800000e+00</td>\n",
       "      <td>2.000000e+00</td>\n",
       "      <td>1.000000e+01</td>\n",
       "    </tr>\n",
       "    <tr>\n",
       "      <th>75%</th>\n",
       "      <td>2.930000e+00</td>\n",
       "      <td>2.249100e+01</td>\n",
       "      <td>1.000000e+00</td>\n",
       "      <td>1.146000e+01</td>\n",
       "      <td>3.000000e+00</td>\n",
       "      <td>1.700000e+01</td>\n",
       "      <td>4.270000e+01</td>\n",
       "      <td>9.700000e-01</td>\n",
       "      <td>1.014530e+03</td>\n",
       "      <td>5.765235e-02</td>\n",
       "      <td>1.543813e+09</td>\n",
       "      <td>8.700000e-01</td>\n",
       "      <td>1.023000e+01</td>\n",
       "      <td>3.000000e+00</td>\n",
       "      <td>1.700000e+01</td>\n",
       "    </tr>\n",
       "    <tr>\n",
       "      <th>max</th>\n",
       "      <td>7.860000e+00</td>\n",
       "      <td>9.750430e+01</td>\n",
       "      <td>3.000000e+00</td>\n",
       "      <td>1.375000e+03</td>\n",
       "      <td>6.000000e+00</td>\n",
       "      <td>2.300000e+01</td>\n",
       "      <td>5.541000e+01</td>\n",
       "      <td>1.000000e+00</td>\n",
       "      <td>1.035120e+03</td>\n",
       "      <td>7.807000e-01</td>\n",
       "      <td>1.545159e+09</td>\n",
       "      <td>9.900000e-01</td>\n",
       "      <td>1.818000e+01</td>\n",
       "      <td>6.000000e+00</td>\n",
       "      <td>2.300000e+01</td>\n",
       "    </tr>\n",
       "  </tbody>\n",
       "</table>\n",
       "</div>"
      ],
      "text/plain": [
       "           distance         price  surge_multiplier  fare_per_mile  \\\n",
       "count  1.265675e+06  1.265675e+06      1.265675e+06   1.265675e+06   \n",
       "mean   2.189590e+00  1.630132e+01      1.013879e+00   9.663587e+00   \n",
       "std    1.139829e+00  8.984883e+00      9.134762e-02   1.444035e+01   \n",
       "min    2.000000e-02  2.488500e+00      1.000000e+00   5.600000e-01   \n",
       "25%    1.280000e+00  9.495600e+00      1.000000e+00   4.670000e+00   \n",
       "50%    2.160000e+00  1.350240e+01      1.000000e+00   7.410000e+00   \n",
       "75%    2.930000e+00  2.249100e+01      1.000000e+00   1.146000e+01   \n",
       "max    7.860000e+00  9.750430e+01      3.000000e+00   1.375000e+03   \n",
       "\n",
       "                day          hour          temp        clouds      pressure  \\\n",
       "count  1.265675e+06  1.265675e+06  1.265675e+06  1.265675e+06  1.265675e+06   \n",
       "mean   2.387931e+00  1.055143e+01  3.925680e+01  6.803707e-01  1.004985e+03   \n",
       "std    1.744490e+00  7.391508e+00  5.471145e+00  2.996939e-01  1.269359e+01   \n",
       "min    0.000000e+00  0.000000e+00  1.962000e+01  0.000000e+00  9.882500e+02   \n",
       "25%    1.000000e+00  4.000000e+00  3.726000e+01  4.500000e-01  9.940800e+02   \n",
       "50%    2.000000e+00  1.000000e+01  3.961000e+01  7.600000e-01  1.000780e+03   \n",
       "75%    3.000000e+00  1.700000e+01  4.270000e+01  9.700000e-01  1.014530e+03   \n",
       "max    6.000000e+00  2.300000e+01  5.541000e+01  1.000000e+00  1.035120e+03   \n",
       "\n",
       "               rain    time_stamp      humidity          wind         day_w  \\\n",
       "count  1.265675e+06  1.265675e+06  1.265675e+06  1.265675e+06  1.265675e+06   \n",
       "mean   5.938407e-02  1.543757e+09  7.538507e-01  7.693640e+00  2.387931e+00   \n",
       "std    4.458292e-02  6.106462e+05  1.195526e-01  3.448785e+00  1.744490e+00   \n",
       "min    2.000000e-04  1.543204e+09  4.500000e-01  2.900000e-01  0.000000e+00   \n",
       "25%    5.765235e-02  1.543398e+09  6.600000e-01  4.960000e+00  1.000000e+00   \n",
       "50%    5.765235e-02  1.543455e+09  7.200000e-01  8.800000e+00  2.000000e+00   \n",
       "75%    5.765235e-02  1.543813e+09  8.700000e-01  1.023000e+01  3.000000e+00   \n",
       "max    7.807000e-01  1.545159e+09  9.900000e-01  1.818000e+01  6.000000e+00   \n",
       "\n",
       "             hour_w  \n",
       "count  1.265675e+06  \n",
       "mean   1.055143e+01  \n",
       "std    7.391508e+00  \n",
       "min    0.000000e+00  \n",
       "25%    4.000000e+00  \n",
       "50%    1.000000e+01  \n",
       "75%    1.700000e+01  \n",
       "max    2.300000e+01  "
      ]
     },
     "execution_count": 46,
     "metadata": {},
     "output_type": "execute_result"
    }
   ],
   "source": [
    "df3.describe()"
   ]
  },
  {
   "cell_type": "code",
   "execution_count": 47,
   "id": "62e945ef",
   "metadata": {},
   "outputs": [],
   "source": [
    "def hist_plot(col_name):\n",
    "    plt.hist(x=df3[col_name], bins=15,color='r')\n",
    "    title = \"plot of {}\".format(col_name)\n",
    "    plt.title(title)\n",
    "    plt.show()"
   ]
  },
  {
   "cell_type": "code",
   "execution_count": 48,
   "id": "55000719",
   "metadata": {},
   "outputs": [
    {
     "data": {
      "image/png": "[encoded data removed]",
      "text/plain": [
       "<Figure size 432x288 with 1 Axes>"
      ]
     },
     "metadata": {
      "needs_background": "light"
     },
     "output_type": "display_data"
    },
    {
     "data": {
      "image/png": "[encoded data removed]",
      "text/plain": [
       "<Figure size 432x288 with 1 Axes>"
      ]
     },
     "metadata": {
      "needs_background": "light"
     },
     "output_type": "display_data"
    },
    {
     "data": {
      "image/png": "[encoded data removed]",
      "text/plain": [
       "<Figure size 432x288 with 1 Axes>"
      ]
     },
     "metadata": {
      "needs_background": "light"
     },
     "output_type": "display_data"
    }
   ],
   "source": [
    "hist_plot(\"distance\")\n",
    "hist_plot(\"price\")\n",
    "hist_plot(\"surge_multiplier\")"
   ]
  },
  {
   "cell_type": "code",
   "execution_count": 49,
   "id": "34aeb8b8",
   "metadata": {},
   "outputs": [
    {
     "data": {
      "image/png": "[encoded data removed]",
      "text/plain": [
       "<Figure size 432x288 with 1 Axes>"
      ]
     },
     "metadata": {
      "needs_background": "light"
     },
     "output_type": "display_data"
    },
    {
     "data": {
      "image/png": "[encoded data removed]",
      "text/plain": [
       "<Figure size 432x288 with 1 Axes>"
      ]
     },
     "metadata": {
      "needs_background": "light"
     },
     "output_type": "display_data"
    },
    {
     "data": {
      "image/png": "[encoded data removed]",
      "text/plain": [
       "<Figure size 432x288 with 1 Axes>"
      ]
     },
     "metadata": {
      "needs_background": "light"
     },
     "output_type": "display_data"
    }
   ],
   "source": [
    "hist_plot(\"fare_per_mile\")\n",
    "hist_plot(\"day\")\n",
    "hist_plot(\"hour\")"
   ]
  },
  {
   "cell_type": "code",
   "execution_count": 50,
   "id": "1501df52",
   "metadata": {},
   "outputs": [
    {
     "data": {
      "image/png": "[encoded data removed]",
      "text/plain": [
       "<Figure size 432x288 with 1 Axes>"
      ]
     },
     "metadata": {
      "needs_background": "light"
     },
     "output_type": "display_data"
    },
    {
     "data": {
      "image/png": "[encoded data removed]",
      "text/plain": [
       "<Figure size 432x288 with 1 Axes>"
      ]
     },
     "metadata": {
      "needs_background": "light"
     },
     "output_type": "display_data"
    },
    {
     "data": {
      "image/png": "[encoded data removed]",
      "text/plain": [
       "<Figure size 432x288 with 1 Axes>"
      ]
     },
     "metadata": {
      "needs_background": "light"
     },
     "output_type": "display_data"
    }
   ],
   "source": [
    "hist_plot(\"rain\")\n",
    "hist_plot(\"temp\")\n",
    "hist_plot(\"clouds\")"
   ]
  },
  {
   "cell_type": "code",
   "execution_count": 51,
   "id": "40079d83",
   "metadata": {},
   "outputs": [
    {
     "data": {
      "image/png": "[encoded data removed]",
      "text/plain": [
       "<Figure size 432x288 with 1 Axes>"
      ]
     },
     "metadata": {
      "needs_background": "light"
     },
     "output_type": "display_data"
    },
    {
     "data": {
      "image/png": "[encoded data removed]",
      "text/plain": [
       "<Figure size 432x288 with 1 Axes>"
      ]
     },
     "metadata": {
      "needs_background": "light"
     },
     "output_type": "display_data"
    },
    {
     "data": {
      "image/png": "[encoded data removed]",
      "text/plain": [
       "<Figure size 432x288 with 1 Axes>"
      ]
     },
     "metadata": {
      "needs_background": "light"
     },
     "output_type": "display_data"
    }
   ],
   "source": [
    "hist_plot(\"pressure\")\n",
    "hist_plot(\"humidity\")\n",
    "hist_plot(\"wind\")"
   ]
  },
  {
   "cell_type": "markdown",
   "id": "511e827b",
   "metadata": {},
   "source": [
    "## Log normal Transformation "
   ]
  },
  {
   "cell_type": "code",
   "execution_count": 52,
   "id": "54ffe6d4",
   "metadata": {},
   "outputs": [],
   "source": [
    "df3[\"price\"] = np.log(df3[\"price\"])"
   ]
  },
  {
   "cell_type": "code",
   "execution_count": 53,
   "id": "2157c365",
   "metadata": {},
   "outputs": [
    {
     "data": {
      "image/png": "[encoded data removed]",
      "text/plain": [
       "<Figure size 432x288 with 1 Axes>"
      ]
     },
     "metadata": {
      "needs_background": "light"
     },
     "output_type": "display_data"
    }
   ],
   "source": [
    "hist_plot(\"price\")"
   ]
  },
  {
   "cell_type": "code",
   "execution_count": 54,
   "id": "c056e250",
   "metadata": {},
   "outputs": [],
   "source": [
    "df3[\"surge_multiplier\"] = np.log(df3[\"surge_multiplier\"])"
   ]
  },
  {
   "cell_type": "code",
   "execution_count": 55,
   "id": "10d45168",
   "metadata": {},
   "outputs": [
    {
     "data": {
      "image/png": "[encoded data removed]",
      "text/plain": [
       "<Figure size 432x288 with 1 Axes>"
      ]
     },
     "metadata": {
      "needs_background": "light"
     },
     "output_type": "display_data"
    }
   ],
   "source": [
    "hist_plot(\"surge_multiplier\")"
   ]
  },
  {
   "cell_type": "code",
   "execution_count": 56,
   "id": "664f46d6",
   "metadata": {},
   "outputs": [],
   "source": [
    " df3[\"fare_per_mile\"] = np.log(df3[\"fare_per_mile\"])"
   ]
  },
  {
   "cell_type": "code",
   "execution_count": 57,
   "id": "e872d9f0",
   "metadata": {},
   "outputs": [
    {
     "data": {
      "image/png": "[encoded data removed]",
      "text/plain": [
       "<Figure size 432x288 with 1 Axes>"
      ]
     },
     "metadata": {
      "needs_background": "light"
     },
     "output_type": "display_data"
    }
   ],
   "source": [
    "hist_plot(\"fare_per_mile\")"
   ]
  },
  {
   "cell_type": "code",
   "execution_count": 58,
   "id": "808bf35f",
   "metadata": {},
   "outputs": [
    {
     "data": {
      "image/png": "[encoded data removed]",
      "text/plain": [
       "<Figure size 432x288 with 1 Axes>"
      ]
     },
     "metadata": {
      "needs_background": "light"
     },
     "output_type": "display_data"
    }
   ],
   "source": [
    "df3[\"pressure\"] = np.log(df3[\"pressure\"])\n",
    "hist_plot(\"pressure\")"
   ]
  },
  {
   "cell_type": "code",
   "execution_count": 59,
   "id": "259ecbef",
   "metadata": {},
   "outputs": [
    {
     "data": {
      "text/html": [
       "<div>\n",
       "<style scoped>\n",
       "    .dataframe tbody tr th:only-of-type {\n",
       "        vertical-align: middle;\n",
       "    }\n",
       "\n",
       "    .dataframe tbody tr th {\n",
       "        vertical-align: top;\n",
       "    }\n",
       "\n",
       "    .dataframe thead th {\n",
       "        text-align: right;\n",
       "    }\n",
       "</style>\n",
       "<table border=\"1\" class=\"dataframe\">\n",
       "  <thead>\n",
       "    <tr style=\"text-align: right;\">\n",
       "      <th></th>\n",
       "      <th>distance</th>\n",
       "      <th>price</th>\n",
       "      <th>surge_multiplier</th>\n",
       "      <th>fare_per_mile</th>\n",
       "      <th>day</th>\n",
       "      <th>hour</th>\n",
       "      <th>temp</th>\n",
       "      <th>clouds</th>\n",
       "      <th>pressure</th>\n",
       "      <th>rain</th>\n",
       "      <th>time_stamp</th>\n",
       "      <th>humidity</th>\n",
       "      <th>wind</th>\n",
       "      <th>day_w</th>\n",
       "      <th>hour_w</th>\n",
       "    </tr>\n",
       "  </thead>\n",
       "  <tbody>\n",
       "    <tr>\n",
       "      <th>count</th>\n",
       "      <td>1.265675e+06</td>\n",
       "      <td>1.265675e+06</td>\n",
       "      <td>1.265675e+06</td>\n",
       "      <td>1.265675e+06</td>\n",
       "      <td>1.265675e+06</td>\n",
       "      <td>1.265675e+06</td>\n",
       "      <td>1.265675e+06</td>\n",
       "      <td>1.265675e+06</td>\n",
       "      <td>1.265675e+06</td>\n",
       "      <td>1.265675e+06</td>\n",
       "      <td>1.265675e+06</td>\n",
       "      <td>1.265675e+06</td>\n",
       "      <td>1.265675e+06</td>\n",
       "      <td>1.265675e+06</td>\n",
       "      <td>1.265675e+06</td>\n",
       "    </tr>\n",
       "    <tr>\n",
       "      <th>mean</th>\n",
       "      <td>2.189590e+00</td>\n",
       "      <td>2.645762e+00</td>\n",
       "      <td>1.096642e-02</td>\n",
       "      <td>2.014583e+00</td>\n",
       "      <td>2.387931e+00</td>\n",
       "      <td>1.055143e+01</td>\n",
       "      <td>3.925680e+01</td>\n",
       "      <td>6.803707e-01</td>\n",
       "      <td>6.912649e+00</td>\n",
       "      <td>5.938407e-02</td>\n",
       "      <td>1.543757e+09</td>\n",
       "      <td>7.538507e-01</td>\n",
       "      <td>7.693640e+00</td>\n",
       "      <td>2.387931e+00</td>\n",
       "      <td>1.055143e+01</td>\n",
       "    </tr>\n",
       "    <tr>\n",
       "      <th>std</th>\n",
       "      <td>1.139829e+00</td>\n",
       "      <td>5.462233e-01</td>\n",
       "      <td>6.870865e-02</td>\n",
       "      <td>6.663387e-01</td>\n",
       "      <td>1.744490e+00</td>\n",
       "      <td>7.391508e+00</td>\n",
       "      <td>5.471145e+00</td>\n",
       "      <td>2.996939e-01</td>\n",
       "      <td>1.257742e-02</td>\n",
       "      <td>4.458292e-02</td>\n",
       "      <td>6.106462e+05</td>\n",
       "      <td>1.195526e-01</td>\n",
       "      <td>3.448785e+00</td>\n",
       "      <td>1.744490e+00</td>\n",
       "      <td>7.391508e+00</td>\n",
       "    </tr>\n",
       "    <tr>\n",
       "      <th>min</th>\n",
       "      <td>2.000000e-02</td>\n",
       "      <td>9.116801e-01</td>\n",
       "      <td>0.000000e+00</td>\n",
       "      <td>-5.798185e-01</td>\n",
       "      <td>0.000000e+00</td>\n",
       "      <td>0.000000e+00</td>\n",
       "      <td>1.962000e+01</td>\n",
       "      <td>0.000000e+00</td>\n",
       "      <td>6.895936e+00</td>\n",
       "      <td>2.000000e-04</td>\n",
       "      <td>1.543204e+09</td>\n",
       "      <td>4.500000e-01</td>\n",
       "      <td>2.900000e-01</td>\n",
       "      <td>0.000000e+00</td>\n",
       "      <td>0.000000e+00</td>\n",
       "    </tr>\n",
       "    <tr>\n",
       "      <th>25%</th>\n",
       "      <td>1.280000e+00</td>\n",
       "      <td>2.250829e+00</td>\n",
       "      <td>0.000000e+00</td>\n",
       "      <td>1.541159e+00</td>\n",
       "      <td>1.000000e+00</td>\n",
       "      <td>4.000000e+00</td>\n",
       "      <td>3.726000e+01</td>\n",
       "      <td>4.500000e-01</td>\n",
       "      <td>6.901818e+00</td>\n",
       "      <td>5.765235e-02</td>\n",
       "      <td>1.543398e+09</td>\n",
       "      <td>6.600000e-01</td>\n",
       "      <td>4.960000e+00</td>\n",
       "      <td>1.000000e+00</td>\n",
       "      <td>4.000000e+00</td>\n",
       "    </tr>\n",
       "    <tr>\n",
       "      <th>50%</th>\n",
       "      <td>2.160000e+00</td>\n",
       "      <td>2.602867e+00</td>\n",
       "      <td>0.000000e+00</td>\n",
       "      <td>2.002830e+00</td>\n",
       "      <td>2.000000e+00</td>\n",
       "      <td>1.000000e+01</td>\n",
       "      <td>3.961000e+01</td>\n",
       "      <td>7.600000e-01</td>\n",
       "      <td>6.908535e+00</td>\n",
       "      <td>5.765235e-02</td>\n",
       "      <td>1.543455e+09</td>\n",
       "      <td>7.200000e-01</td>\n",
       "      <td>8.800000e+00</td>\n",
       "      <td>2.000000e+00</td>\n",
       "      <td>1.000000e+01</td>\n",
       "    </tr>\n",
       "    <tr>\n",
       "      <th>75%</th>\n",
       "      <td>2.930000e+00</td>\n",
       "      <td>3.113115e+00</td>\n",
       "      <td>0.000000e+00</td>\n",
       "      <td>2.438863e+00</td>\n",
       "      <td>3.000000e+00</td>\n",
       "      <td>1.700000e+01</td>\n",
       "      <td>4.270000e+01</td>\n",
       "      <td>9.700000e-01</td>\n",
       "      <td>6.922181e+00</td>\n",
       "      <td>5.765235e-02</td>\n",
       "      <td>1.543813e+09</td>\n",
       "      <td>8.700000e-01</td>\n",
       "      <td>1.023000e+01</td>\n",
       "      <td>3.000000e+00</td>\n",
       "      <td>1.700000e+01</td>\n",
       "    </tr>\n",
       "    <tr>\n",
       "      <th>max</th>\n",
       "      <td>7.860000e+00</td>\n",
       "      <td>4.579896e+00</td>\n",
       "      <td>1.098612e+00</td>\n",
       "      <td>7.226209e+00</td>\n",
       "      <td>6.000000e+00</td>\n",
       "      <td>2.300000e+01</td>\n",
       "      <td>5.541000e+01</td>\n",
       "      <td>1.000000e+00</td>\n",
       "      <td>6.942273e+00</td>\n",
       "      <td>7.807000e-01</td>\n",
       "      <td>1.545159e+09</td>\n",
       "      <td>9.900000e-01</td>\n",
       "      <td>1.818000e+01</td>\n",
       "      <td>6.000000e+00</td>\n",
       "      <td>2.300000e+01</td>\n",
       "    </tr>\n",
       "  </tbody>\n",
       "</table>\n",
       "</div>"
      ],
      "text/plain": [
       "           distance         price  surge_multiplier  fare_per_mile  \\\n",
       "count  1.265675e+06  1.265675e+06      1.265675e+06   1.265675e+06   \n",
       "mean   2.189590e+00  2.645762e+00      1.096642e-02   2.014583e+00   \n",
       "std    1.139829e+00  5.462233e-01      6.870865e-02   6.663387e-01   \n",
       "min    2.000000e-02  9.116801e-01      0.000000e+00  -5.798185e-01   \n",
       "25%    1.280000e+00  2.250829e+00      0.000000e+00   1.541159e+00   \n",
       "50%    2.160000e+00  2.602867e+00      0.000000e+00   2.002830e+00   \n",
       "75%    2.930000e+00  3.113115e+00      0.000000e+00   2.438863e+00   \n",
       "max    7.860000e+00  4.579896e+00      1.098612e+00   7.226209e+00   \n",
       "\n",
       "                day          hour          temp        clouds      pressure  \\\n",
       "count  1.265675e+06  1.265675e+06  1.265675e+06  1.265675e+06  1.265675e+06   \n",
       "mean   2.387931e+00  1.055143e+01  3.925680e+01  6.803707e-01  6.912649e+00   \n",
       "std    1.744490e+00  7.391508e+00  5.471145e+00  2.996939e-01  1.257742e-02   \n",
       "min    0.000000e+00  0.000000e+00  1.962000e+01  0.000000e+00  6.895936e+00   \n",
       "25%    1.000000e+00  4.000000e+00  3.726000e+01  4.500000e-01  6.901818e+00   \n",
       "50%    2.000000e+00  1.000000e+01  3.961000e+01  7.600000e-01  6.908535e+00   \n",
       "75%    3.000000e+00  1.700000e+01  4.270000e+01  9.700000e-01  6.922181e+00   \n",
       "max    6.000000e+00  2.300000e+01  5.541000e+01  1.000000e+00  6.942273e+00   \n",
       "\n",
       "               rain    time_stamp      humidity          wind         day_w  \\\n",
       "count  1.265675e+06  1.265675e+06  1.265675e+06  1.265675e+06  1.265675e+06   \n",
       "mean   5.938407e-02  1.543757e+09  7.538507e-01  7.693640e+00  2.387931e+00   \n",
       "std    4.458292e-02  6.106462e+05  1.195526e-01  3.448785e+00  1.744490e+00   \n",
       "min    2.000000e-04  1.543204e+09  4.500000e-01  2.900000e-01  0.000000e+00   \n",
       "25%    5.765235e-02  1.543398e+09  6.600000e-01  4.960000e+00  1.000000e+00   \n",
       "50%    5.765235e-02  1.543455e+09  7.200000e-01  8.800000e+00  2.000000e+00   \n",
       "75%    5.765235e-02  1.543813e+09  8.700000e-01  1.023000e+01  3.000000e+00   \n",
       "max    7.807000e-01  1.545159e+09  9.900000e-01  1.818000e+01  6.000000e+00   \n",
       "\n",
       "             hour_w  \n",
       "count  1.265675e+06  \n",
       "mean   1.055143e+01  \n",
       "std    7.391508e+00  \n",
       "min    0.000000e+00  \n",
       "25%    4.000000e+00  \n",
       "50%    1.000000e+01  \n",
       "75%    1.700000e+01  \n",
       "max    2.300000e+01  "
      ]
     },
     "execution_count": 59,
     "metadata": {},
     "output_type": "execute_result"
    }
   ],
   "source": [
    "df3.describe()"
   ]
  },
  {
   "cell_type": "markdown",
   "id": "22e6cd0f",
   "metadata": {},
   "source": [
    "## Outlier Detaection and Removal"
   ]
  },
  {
   "cell_type": "code",
   "execution_count": 60,
   "id": "6e30d231",
   "metadata": {},
   "outputs": [],
   "source": [
    "def box_plot(col_name):\n",
    "    sns.boxplot(x=df3[col_name],color=\"b\")\n",
    "    plt.show()"
   ]
  },
  {
   "cell_type": "code",
   "execution_count": 61,
   "id": "e317fc3c",
   "metadata": {
    "scrolled": false
   },
   "outputs": [
    {
     "data": {
      "image/png": "[encoded data removed]",
      "text/plain": [
       "<Figure size 432x288 with 1 Axes>"
      ]
     },
     "metadata": {
      "needs_background": "light"
     },
     "output_type": "display_data"
    }
   ],
   "source": [
    "box_plot(\"distance\")"
   ]
  },
  {
   "cell_type": "code",
   "execution_count": 62,
   "id": "11e333fe",
   "metadata": {},
   "outputs": [
    {
     "data": {
      "image/png": "[encoded data removed]",
      "text/plain": [
       "<Figure size 432x288 with 1 Axes>"
      ]
     },
     "metadata": {
      "needs_background": "light"
     },
     "output_type": "display_data"
    }
   ],
   "source": [
    "box_plot(\"price\")"
   ]
  },
  {
   "cell_type": "markdown",
   "id": "ed8bcf37",
   "metadata": {},
   "source": [
    "## Checking Coreelation "
   ]
  },
  {
   "cell_type": "code",
   "execution_count": 63,
   "id": "ebd369c3",
   "metadata": {},
   "outputs": [],
   "source": [
    "# Here Surge Price is a target Column"
   ]
  },
  {
   "cell_type": "code",
   "execution_count": 64,
   "id": "22b5c237",
   "metadata": {},
   "outputs": [
    {
     "data": {
      "text/html": [
       "<div>\n",
       "<style scoped>\n",
       "    .dataframe tbody tr th:only-of-type {\n",
       "        vertical-align: middle;\n",
       "    }\n",
       "\n",
       "    .dataframe tbody tr th {\n",
       "        vertical-align: top;\n",
       "    }\n",
       "\n",
       "    .dataframe thead th {\n",
       "        text-align: right;\n",
       "    }\n",
       "</style>\n",
       "<table border=\"1\" class=\"dataframe\">\n",
       "  <thead>\n",
       "    <tr style=\"text-align: right;\">\n",
       "      <th></th>\n",
       "      <th>distance</th>\n",
       "      <th>price</th>\n",
       "      <th>surge_multiplier</th>\n",
       "      <th>fare_per_mile</th>\n",
       "      <th>day</th>\n",
       "      <th>hour</th>\n",
       "      <th>temp</th>\n",
       "      <th>clouds</th>\n",
       "      <th>pressure</th>\n",
       "      <th>rain</th>\n",
       "      <th>time_stamp</th>\n",
       "      <th>humidity</th>\n",
       "      <th>wind</th>\n",
       "      <th>day_w</th>\n",
       "      <th>hour_w</th>\n",
       "    </tr>\n",
       "  </thead>\n",
       "  <tbody>\n",
       "    <tr>\n",
       "      <th>distance</th>\n",
       "      <td>1.000000</td>\n",
       "      <td>0.323969</td>\n",
       "      <td>0.024825</td>\n",
       "      <td>-0.560342</td>\n",
       "      <td>0.002884</td>\n",
       "      <td>-0.001177</td>\n",
       "      <td>-0.002057</td>\n",
       "      <td>-0.000463</td>\n",
       "      <td>0.001669</td>\n",
       "      <td>-0.001116</td>\n",
       "      <td>0.002083</td>\n",
       "      <td>-0.003641</td>\n",
       "      <td>-0.001543</td>\n",
       "      <td>0.002884</td>\n",
       "      <td>-0.001177</td>\n",
       "    </tr>\n",
       "    <tr>\n",
       "      <th>price</th>\n",
       "      <td>0.323969</td>\n",
       "      <td>1.000000</td>\n",
       "      <td>0.185297</td>\n",
       "      <td>0.541775</td>\n",
       "      <td>0.001579</td>\n",
       "      <td>0.000282</td>\n",
       "      <td>0.000278</td>\n",
       "      <td>0.001438</td>\n",
       "      <td>0.000704</td>\n",
       "      <td>-0.000866</td>\n",
       "      <td>0.000619</td>\n",
       "      <td>-0.001511</td>\n",
       "      <td>0.000060</td>\n",
       "      <td>0.001579</td>\n",
       "      <td>0.000282</td>\n",
       "    </tr>\n",
       "    <tr>\n",
       "      <th>surge_multiplier</th>\n",
       "      <td>0.024825</td>\n",
       "      <td>0.185297</td>\n",
       "      <td>1.000000</td>\n",
       "      <td>0.123795</td>\n",
       "      <td>-0.000437</td>\n",
       "      <td>0.000321</td>\n",
       "      <td>-0.001866</td>\n",
       "      <td>-0.000623</td>\n",
       "      <td>-0.002004</td>\n",
       "      <td>-0.002951</td>\n",
       "      <td>0.000566</td>\n",
       "      <td>-0.003200</td>\n",
       "      <td>-0.000897</td>\n",
       "      <td>-0.000437</td>\n",
       "      <td>0.000321</td>\n",
       "    </tr>\n",
       "    <tr>\n",
       "      <th>fare_per_mile</th>\n",
       "      <td>-0.560342</td>\n",
       "      <td>0.541775</td>\n",
       "      <td>0.123795</td>\n",
       "      <td>1.000000</td>\n",
       "      <td>-0.001135</td>\n",
       "      <td>-0.001404</td>\n",
       "      <td>0.004171</td>\n",
       "      <td>0.000036</td>\n",
       "      <td>-0.000958</td>\n",
       "      <td>0.001308</td>\n",
       "      <td>-0.001541</td>\n",
       "      <td>0.000476</td>\n",
       "      <td>0.001430</td>\n",
       "      <td>-0.001135</td>\n",
       "      <td>-0.001404</td>\n",
       "    </tr>\n",
       "    <tr>\n",
       "      <th>day</th>\n",
       "      <td>0.002884</td>\n",
       "      <td>0.001579</td>\n",
       "      <td>-0.000437</td>\n",
       "      <td>-0.001135</td>\n",
       "      <td>1.000000</td>\n",
       "      <td>-0.046990</td>\n",
       "      <td>-0.172879</td>\n",
       "      <td>-0.244094</td>\n",
       "      <td>0.465153</td>\n",
       "      <td>-0.092215</td>\n",
       "      <td>0.306580</td>\n",
       "      <td>-0.227793</td>\n",
       "      <td>-0.241449</td>\n",
       "      <td>1.000000</td>\n",
       "      <td>-0.046990</td>\n",
       "    </tr>\n",
       "    <tr>\n",
       "      <th>hour</th>\n",
       "      <td>-0.001177</td>\n",
       "      <td>0.000282</td>\n",
       "      <td>0.000321</td>\n",
       "      <td>-0.001404</td>\n",
       "      <td>-0.046990</td>\n",
       "      <td>1.000000</td>\n",
       "      <td>0.191991</td>\n",
       "      <td>0.093998</td>\n",
       "      <td>-0.043177</td>\n",
       "      <td>-0.175792</td>\n",
       "      <td>0.056611</td>\n",
       "      <td>-0.246362</td>\n",
       "      <td>-0.043372</td>\n",
       "      <td>-0.046990</td>\n",
       "      <td>1.000000</td>\n",
       "    </tr>\n",
       "    <tr>\n",
       "      <th>temp</th>\n",
       "      <td>-0.002057</td>\n",
       "      <td>0.000278</td>\n",
       "      <td>-0.001866</td>\n",
       "      <td>0.004171</td>\n",
       "      <td>-0.172879</td>\n",
       "      <td>0.191991</td>\n",
       "      <td>1.000000</td>\n",
       "      <td>0.520904</td>\n",
       "      <td>-0.242697</td>\n",
       "      <td>0.067807</td>\n",
       "      <td>-0.263643</td>\n",
       "      <td>0.356918</td>\n",
       "      <td>0.156452</td>\n",
       "      <td>-0.172879</td>\n",
       "      <td>0.191991</td>\n",
       "    </tr>\n",
       "    <tr>\n",
       "      <th>clouds</th>\n",
       "      <td>-0.000463</td>\n",
       "      <td>0.001438</td>\n",
       "      <td>-0.000623</td>\n",
       "      <td>0.000036</td>\n",
       "      <td>-0.244094</td>\n",
       "      <td>0.093998</td>\n",
       "      <td>0.520904</td>\n",
       "      <td>1.000000</td>\n",
       "      <td>-0.076816</td>\n",
       "      <td>0.071480</td>\n",
       "      <td>-0.082544</td>\n",
       "      <td>0.441326</td>\n",
       "      <td>0.116438</td>\n",
       "      <td>-0.244094</td>\n",
       "      <td>0.093998</td>\n",
       "    </tr>\n",
       "    <tr>\n",
       "      <th>pressure</th>\n",
       "      <td>0.001669</td>\n",
       "      <td>0.000704</td>\n",
       "      <td>-0.002004</td>\n",
       "      <td>-0.000958</td>\n",
       "      <td>0.465153</td>\n",
       "      <td>-0.043177</td>\n",
       "      <td>-0.242697</td>\n",
       "      <td>-0.076816</td>\n",
       "      <td>1.000000</td>\n",
       "      <td>0.018423</td>\n",
       "      <td>0.593462</td>\n",
       "      <td>-0.040220</td>\n",
       "      <td>-0.555862</td>\n",
       "      <td>0.465153</td>\n",
       "      <td>-0.043177</td>\n",
       "    </tr>\n",
       "    <tr>\n",
       "      <th>rain</th>\n",
       "      <td>-0.001116</td>\n",
       "      <td>-0.000866</td>\n",
       "      <td>-0.002951</td>\n",
       "      <td>0.001308</td>\n",
       "      <td>-0.092215</td>\n",
       "      <td>-0.175792</td>\n",
       "      <td>0.067807</td>\n",
       "      <td>0.071480</td>\n",
       "      <td>0.018423</td>\n",
       "      <td>1.000000</td>\n",
       "      <td>-0.087852</td>\n",
       "      <td>0.103566</td>\n",
       "      <td>0.127031</td>\n",
       "      <td>-0.092215</td>\n",
       "      <td>-0.175792</td>\n",
       "    </tr>\n",
       "    <tr>\n",
       "      <th>time_stamp</th>\n",
       "      <td>0.002083</td>\n",
       "      <td>0.000619</td>\n",
       "      <td>0.000566</td>\n",
       "      <td>-0.001541</td>\n",
       "      <td>0.306580</td>\n",
       "      <td>0.056611</td>\n",
       "      <td>-0.263643</td>\n",
       "      <td>-0.082544</td>\n",
       "      <td>0.593462</td>\n",
       "      <td>-0.087852</td>\n",
       "      <td>1.000000</td>\n",
       "      <td>-0.204205</td>\n",
       "      <td>-0.121077</td>\n",
       "      <td>0.306580</td>\n",
       "      <td>0.056611</td>\n",
       "    </tr>\n",
       "    <tr>\n",
       "      <th>humidity</th>\n",
       "      <td>-0.003641</td>\n",
       "      <td>-0.001511</td>\n",
       "      <td>-0.003200</td>\n",
       "      <td>0.000476</td>\n",
       "      <td>-0.227793</td>\n",
       "      <td>-0.246362</td>\n",
       "      <td>0.356918</td>\n",
       "      <td>0.441326</td>\n",
       "      <td>-0.040220</td>\n",
       "      <td>0.103566</td>\n",
       "      <td>-0.204205</td>\n",
       "      <td>1.000000</td>\n",
       "      <td>-0.242767</td>\n",
       "      <td>-0.227793</td>\n",
       "      <td>-0.246362</td>\n",
       "    </tr>\n",
       "    <tr>\n",
       "      <th>wind</th>\n",
       "      <td>-0.001543</td>\n",
       "      <td>0.000060</td>\n",
       "      <td>-0.000897</td>\n",
       "      <td>0.001430</td>\n",
       "      <td>-0.241449</td>\n",
       "      <td>-0.043372</td>\n",
       "      <td>0.156452</td>\n",
       "      <td>0.116438</td>\n",
       "      <td>-0.555862</td>\n",
       "      <td>0.127031</td>\n",
       "      <td>-0.121077</td>\n",
       "      <td>-0.242767</td>\n",
       "      <td>1.000000</td>\n",
       "      <td>-0.241449</td>\n",
       "      <td>-0.043372</td>\n",
       "    </tr>\n",
       "    <tr>\n",
       "      <th>day_w</th>\n",
       "      <td>0.002884</td>\n",
       "      <td>0.001579</td>\n",
       "      <td>-0.000437</td>\n",
       "      <td>-0.001135</td>\n",
       "      <td>1.000000</td>\n",
       "      <td>-0.046990</td>\n",
       "      <td>-0.172879</td>\n",
       "      <td>-0.244094</td>\n",
       "      <td>0.465153</td>\n",
       "      <td>-0.092215</td>\n",
       "      <td>0.306580</td>\n",
       "      <td>-0.227793</td>\n",
       "      <td>-0.241449</td>\n",
       "      <td>1.000000</td>\n",
       "      <td>-0.046990</td>\n",
       "    </tr>\n",
       "    <tr>\n",
       "      <th>hour_w</th>\n",
       "      <td>-0.001177</td>\n",
       "      <td>0.000282</td>\n",
       "      <td>0.000321</td>\n",
       "      <td>-0.001404</td>\n",
       "      <td>-0.046990</td>\n",
       "      <td>1.000000</td>\n",
       "      <td>0.191991</td>\n",
       "      <td>0.093998</td>\n",
       "      <td>-0.043177</td>\n",
       "      <td>-0.175792</td>\n",
       "      <td>0.056611</td>\n",
       "      <td>-0.246362</td>\n",
       "      <td>-0.043372</td>\n",
       "      <td>-0.046990</td>\n",
       "      <td>1.000000</td>\n",
       "    </tr>\n",
       "  </tbody>\n",
       "</table>\n",
       "</div>"
      ],
      "text/plain": [
       "                  distance     price  surge_multiplier  fare_per_mile  \\\n",
       "distance          1.000000  0.323969          0.024825      -0.560342   \n",
       "price             0.323969  1.000000          0.185297       0.541775   \n",
       "surge_multiplier  0.024825  0.185297          1.000000       0.123795   \n",
       "fare_per_mile    -0.560342  0.541775          0.123795       1.000000   \n",
       "day               0.002884  0.001579         -0.000437      -0.001135   \n",
       "hour             -0.001177  0.000282          0.000321      -0.001404   \n",
       "temp             -0.002057  0.000278         -0.001866       0.004171   \n",
       "clouds           -0.000463  0.001438         -0.000623       0.000036   \n",
       "pressure          0.001669  0.000704         -0.002004      -0.000958   \n",
       "rain             -0.001116 -0.000866         -0.002951       0.001308   \n",
       "time_stamp        0.002083  0.000619          0.000566      -0.001541   \n",
       "humidity         -0.003641 -0.001511         -0.003200       0.000476   \n",
       "wind             -0.001543  0.000060         -0.000897       0.001430   \n",
       "day_w             0.002884  0.001579         -0.000437      -0.001135   \n",
       "hour_w           -0.001177  0.000282          0.000321      -0.001404   \n",
       "\n",
       "                       day      hour      temp    clouds  pressure      rain  \\\n",
       "distance          0.002884 -0.001177 -0.002057 -0.000463  0.001669 -0.001116   \n",
       "price             0.001579  0.000282  0.000278  0.001438  0.000704 -0.000866   \n",
       "surge_multiplier -0.000437  0.000321 -0.001866 -0.000623 -0.002004 -0.002951   \n",
       "fare_per_mile    -0.001135 -0.001404  0.004171  0.000036 -0.000958  0.001308   \n",
       "day               1.000000 -0.046990 -0.172879 -0.244094  0.465153 -0.092215   \n",
       "hour             -0.046990  1.000000  0.191991  0.093998 -0.043177 -0.175792   \n",
       "temp             -0.172879  0.191991  1.000000  0.520904 -0.242697  0.067807   \n",
       "clouds           -0.244094  0.093998  0.520904  1.000000 -0.076816  0.071480   \n",
       "pressure          0.465153 -0.043177 -0.242697 -0.076816  1.000000  0.018423   \n",
       "rain             -0.092215 -0.175792  0.067807  0.071480  0.018423  1.000000   \n",
       "time_stamp        0.306580  0.056611 -0.263643 -0.082544  0.593462 -0.087852   \n",
       "humidity         -0.227793 -0.246362  0.356918  0.441326 -0.040220  0.103566   \n",
       "wind             -0.241449 -0.043372  0.156452  0.116438 -0.555862  0.127031   \n",
       "day_w             1.000000 -0.046990 -0.172879 -0.244094  0.465153 -0.092215   \n",
       "hour_w           -0.046990  1.000000  0.191991  0.093998 -0.043177 -0.175792   \n",
       "\n",
       "                  time_stamp  humidity      wind     day_w    hour_w  \n",
       "distance            0.002083 -0.003641 -0.001543  0.002884 -0.001177  \n",
       "price               0.000619 -0.001511  0.000060  0.001579  0.000282  \n",
       "surge_multiplier    0.000566 -0.003200 -0.000897 -0.000437  0.000321  \n",
       "fare_per_mile      -0.001541  0.000476  0.001430 -0.001135 -0.001404  \n",
       "day                 0.306580 -0.227793 -0.241449  1.000000 -0.046990  \n",
       "hour                0.056611 -0.246362 -0.043372 -0.046990  1.000000  \n",
       "temp               -0.263643  0.356918  0.156452 -0.172879  0.191991  \n",
       "clouds             -0.082544  0.441326  0.116438 -0.244094  0.093998  \n",
       "pressure            0.593462 -0.040220 -0.555862  0.465153 -0.043177  \n",
       "rain               -0.087852  0.103566  0.127031 -0.092215 -0.175792  \n",
       "time_stamp          1.000000 -0.204205 -0.121077  0.306580  0.056611  \n",
       "humidity           -0.204205  1.000000 -0.242767 -0.227793 -0.246362  \n",
       "wind               -0.121077 -0.242767  1.000000 -0.241449 -0.043372  \n",
       "day_w               0.306580 -0.227793 -0.241449  1.000000 -0.046990  \n",
       "hour_w              0.056611 -0.246362 -0.043372 -0.046990  1.000000  "
      ]
     },
     "execution_count": 64,
     "metadata": {},
     "output_type": "execute_result"
    }
   ],
   "source": [
    "df3.corr()"
   ]
  },
  {
   "cell_type": "code",
   "execution_count": 65,
   "id": "bac50dc9",
   "metadata": {},
   "outputs": [
    {
     "data": {
      "image/png": "[encoded data removed]",
      "text/plain": [
       "<Figure size 1440x1440 with 2 Axes>"
      ]
     },
     "metadata": {
      "needs_background": "light"
     },
     "output_type": "display_data"
    }
   ],
   "source": [
    "plt.figure(figsize=(20,20))\n",
    "sns.heatmap(df3.corr(),annot=True,linewidth=0.5,center=0,cmap='coolwarm')\n",
    "plt.show()"
   ]
  },
  {
   "cell_type": "code",
   "execution_count": 66,
   "id": "f3b48a6b",
   "metadata": {},
   "outputs": [
    {
     "name": "stdout",
     "output_type": "stream",
     "text": [
      "<class 'pandas.core.frame.DataFrame'>\n",
      "Int64Index: 1265675 entries, 0 to 693070\n",
      "Data columns (total 26 columns):\n",
      " #   Column            Non-Null Count    Dtype         \n",
      "---  ------            --------------    -----         \n",
      " 0   distance          1265675 non-null  float64       \n",
      " 1   cab_type          1265675 non-null  object        \n",
      " 2   destination       1265675 non-null  object        \n",
      " 3   source            1265675 non-null  object        \n",
      " 4   price             1265675 non-null  float64       \n",
      " 5   surge_multiplier  1265675 non-null  float64       \n",
      " 6   id                1265675 non-null  object        \n",
      " 7   product_id        1265675 non-null  object        \n",
      " 8   name              1265675 non-null  object        \n",
      " 9   fare_per_mile     1265675 non-null  float64       \n",
      " 10  date_time         1265675 non-null  datetime64[ns]\n",
      " 11  day               1265675 non-null  int64         \n",
      " 12  hour              1265675 non-null  int64         \n",
      " 13  merge_date        1265675 non-null  object        \n",
      " 14  temp              1265675 non-null  float64       \n",
      " 15  location          1265675 non-null  object        \n",
      " 16  clouds            1265675 non-null  float64       \n",
      " 17  pressure          1265675 non-null  float64       \n",
      " 18  rain              1265675 non-null  float64       \n",
      " 19  time_stamp        1265675 non-null  float64       \n",
      " 20  humidity          1265675 non-null  float64       \n",
      " 21  wind              1265675 non-null  float64       \n",
      " 22  date_time_w       1265675 non-null  datetime64[ns]\n",
      " 23  day_w             1265675 non-null  float64       \n",
      " 24  hour_w            1265675 non-null  float64       \n",
      " 25  merge_date_w      1265675 non-null  object        \n",
      "dtypes: datetime64[ns](2), float64(13), int64(2), object(9)\n",
      "memory usage: 260.7+ MB\n"
     ]
    }
   ],
   "source": [
    "df3.info()"
   ]
  },
  {
   "cell_type": "code",
   "execution_count": 67,
   "id": "78e68882",
   "metadata": {},
   "outputs": [],
   "source": [
    "X = df3[df3.product_id=='lyft_line'][['day','distance','hour','temp','clouds', 'pressure','humidity', 'wind', 'rain']]"
   ]
  },
  {
   "cell_type": "code",
   "execution_count": 68,
   "id": "81e23291",
   "metadata": {},
   "outputs": [
    {
     "data": {
      "text/plain": [
       "day         93762\n",
       "distance    93762\n",
       "hour        93762\n",
       "temp        93762\n",
       "clouds      93762\n",
       "pressure    93762\n",
       "humidity    93762\n",
       "wind        93762\n",
       "rain        93762\n",
       "dtype: int64"
      ]
     },
     "execution_count": 68,
     "metadata": {},
     "output_type": "execute_result"
    }
   ],
   "source": [
    "X.count()"
   ]
  },
  {
   "cell_type": "markdown",
   "id": "7d22c4b2",
   "metadata": {},
   "source": [
    "# Prediction for Price"
   ]
  },
  {
   "cell_type": "code",
   "execution_count": 69,
   "id": "dfc10ac3",
   "metadata": {},
   "outputs": [],
   "source": [
    "y = df3[df3.product_id=='lyft_line']['price'] "
   ]
  },
  {
   "cell_type": "code",
   "execution_count": 70,
   "id": "e63c1005",
   "metadata": {},
   "outputs": [
    {
     "data": {
      "text/plain": [
       "93762"
      ]
     },
     "execution_count": 70,
     "metadata": {},
     "output_type": "execute_result"
    }
   ],
   "source": [
    "y.count()"
   ]
  },
  {
   "cell_type": "code",
   "execution_count": 71,
   "id": "fbd61922",
   "metadata": {},
   "outputs": [],
   "source": [
    "X.reset_index(inplace=True)\n",
    "X = X.drop(columns=['index'])"
   ]
  },
  {
   "cell_type": "code",
   "execution_count": 72,
   "id": "45c794e0",
   "metadata": {},
   "outputs": [
    {
     "data": {
      "text/html": [
       "<div>\n",
       "<style scoped>\n",
       "    .dataframe tbody tr th:only-of-type {\n",
       "        vertical-align: middle;\n",
       "    }\n",
       "\n",
       "    .dataframe tbody tr th {\n",
       "        vertical-align: top;\n",
       "    }\n",
       "\n",
       "    .dataframe thead th {\n",
       "        text-align: right;\n",
       "    }\n",
       "</style>\n",
       "<table border=\"1\" class=\"dataframe\">\n",
       "  <thead>\n",
       "    <tr style=\"text-align: right;\">\n",
       "      <th></th>\n",
       "      <th>day</th>\n",
       "      <th>distance</th>\n",
       "      <th>hour</th>\n",
       "      <th>temp</th>\n",
       "      <th>clouds</th>\n",
       "      <th>pressure</th>\n",
       "      <th>humidity</th>\n",
       "      <th>wind</th>\n",
       "      <th>rain</th>\n",
       "    </tr>\n",
       "  </thead>\n",
       "  <tbody>\n",
       "    <tr>\n",
       "      <th>0</th>\n",
       "      <td>6</td>\n",
       "      <td>0.44</td>\n",
       "      <td>9</td>\n",
       "      <td>38.46</td>\n",
       "      <td>0.29</td>\n",
       "      <td>6.929761</td>\n",
       "      <td>0.76</td>\n",
       "      <td>7.68</td>\n",
       "      <td>0.057652</td>\n",
       "    </tr>\n",
       "    <tr>\n",
       "      <th>1</th>\n",
       "      <td>0</td>\n",
       "      <td>1.08</td>\n",
       "      <td>6</td>\n",
       "      <td>44.85</td>\n",
       "      <td>0.89</td>\n",
       "      <td>6.908455</td>\n",
       "      <td>0.95</td>\n",
       "      <td>1.53</td>\n",
       "      <td>0.057652</td>\n",
       "    </tr>\n",
       "    <tr>\n",
       "      <th>2</th>\n",
       "      <td>4</td>\n",
       "      <td>0.72</td>\n",
       "      <td>2</td>\n",
       "      <td>36.31</td>\n",
       "      <td>0.00</td>\n",
       "      <td>6.920049</td>\n",
       "      <td>0.68</td>\n",
       "      <td>6.85</td>\n",
       "      <td>0.057652</td>\n",
       "    </tr>\n",
       "    <tr>\n",
       "      <th>3</th>\n",
       "      <td>1</td>\n",
       "      <td>3.24</td>\n",
       "      <td>3</td>\n",
       "      <td>44.18</td>\n",
       "      <td>0.99</td>\n",
       "      <td>6.909254</td>\n",
       "      <td>0.89</td>\n",
       "      <td>12.40</td>\n",
       "      <td>0.242000</td>\n",
       "    </tr>\n",
       "    <tr>\n",
       "      <th>4</th>\n",
       "      <td>1</td>\n",
       "      <td>3.24</td>\n",
       "      <td>3</td>\n",
       "      <td>44.25</td>\n",
       "      <td>1.00</td>\n",
       "      <td>6.908565</td>\n",
       "      <td>0.90</td>\n",
       "      <td>13.70</td>\n",
       "      <td>0.161700</td>\n",
       "    </tr>\n",
       "  </tbody>\n",
       "</table>\n",
       "</div>"
      ],
      "text/plain": [
       "   day  distance  hour   temp  clouds  pressure  humidity   wind      rain\n",
       "0    6      0.44     9  38.46    0.29  6.929761      0.76   7.68  0.057652\n",
       "1    0      1.08     6  44.85    0.89  6.908455      0.95   1.53  0.057652\n",
       "2    4      0.72     2  36.31    0.00  6.920049      0.68   6.85  0.057652\n",
       "3    1      3.24     3  44.18    0.99  6.909254      0.89  12.40  0.242000\n",
       "4    1      3.24     3  44.25    1.00  6.908565      0.90  13.70  0.161700"
      ]
     },
     "execution_count": 72,
     "metadata": {},
     "output_type": "execute_result"
    }
   ],
   "source": [
    "X.head()"
   ]
  },
  {
   "cell_type": "code",
   "execution_count": 73,
   "id": "1b92a752",
   "metadata": {},
   "outputs": [],
   "source": [
    "features = pd.get_dummies(X)"
   ]
  },
  {
   "cell_type": "code",
   "execution_count": 74,
   "id": "48260e44",
   "metadata": {},
   "outputs": [
    {
     "data": {
      "text/plain": [
       "Index(['day', 'distance', 'hour', 'temp', 'clouds', 'pressure', 'humidity',\n",
       "       'wind', 'rain'],\n",
       "      dtype='object')"
      ]
     },
     "execution_count": 74,
     "metadata": {},
     "output_type": "execute_result"
    }
   ],
   "source": [
    "features.columns"
   ]
  },
  {
   "cell_type": "code",
   "execution_count": 75,
   "id": "46c28aa3",
   "metadata": {},
   "outputs": [],
   "source": [
    "# Use numpy to convert to arrays\n",
    "import numpy as np\n",
    "# Labels are the values we want to predict\n",
    "labels = np.array(y)\n",
    "\n",
    "# Saving feature names for later use\n",
    "feature_list = list(features.columns)\n",
    "# Convert to numpy array\n",
    "features = np.array(features)"
   ]
  },
  {
   "cell_type": "markdown",
   "id": "5fb09b00",
   "metadata": {},
   "source": [
    "## Model Building"
   ]
  },
  {
   "cell_type": "code",
   "execution_count": 76,
   "id": "0d42f264",
   "metadata": {},
   "outputs": [],
   "source": [
    "# Using Skicit-learn to split data into training and testing sets\n",
    "from sklearn.model_selection import train_test_split\n",
    "# Split the data into training and testing sets\n",
    "train_features, test_features, train_labels, test_labels = train_test_split(features, labels, test_size = 0.25, random_state = 42)"
   ]
  },
  {
   "cell_type": "code",
   "execution_count": 77,
   "id": "7a9386ae",
   "metadata": {},
   "outputs": [
    {
     "name": "stdout",
     "output_type": "stream",
     "text": [
      "Training Features Shape: (70321, 9)\n",
      "Training Labels Shape: (70321,)\n",
      "Testing Features Shape: (23441, 9)\n",
      "Testing Labels Shape: (23441,)\n"
     ]
    }
   ],
   "source": [
    "print('Training Features Shape:', train_features.shape)\n",
    "print('Training Labels Shape:', train_labels.shape)\n",
    "print('Testing Features Shape:', test_features.shape)\n",
    "print('Testing Labels Shape:', test_labels.shape)"
   ]
  },
  {
   "cell_type": "code",
   "execution_count": 78,
   "id": "8655ed43",
   "metadata": {},
   "outputs": [],
   "source": [
    "from sklearn.linear_model import LinearRegression\n",
    "from sklearn.ensemble import RandomForestRegressor\n",
    "from sklearn.datasets import make_regression\n",
    "from sklearn.tree import DecisionTreeRegressor\n",
    "from sklearn.svm import SVR"
   ]
  },
  {
   "cell_type": "code",
   "execution_count": 79,
   "id": "3effcec2",
   "metadata": {},
   "outputs": [],
   "source": [
    "reg = LinearRegression()"
   ]
  },
  {
   "cell_type": "code",
   "execution_count": 80,
   "id": "6cf1ee7c",
   "metadata": {},
   "outputs": [
    {
     "data": {
      "text/plain": [
       "LinearRegression()"
      ]
     },
     "execution_count": 80,
     "metadata": {},
     "output_type": "execute_result"
    }
   ],
   "source": [
    "reg.fit(train_features,train_labels)"
   ]
  },
  {
   "cell_type": "code",
   "execution_count": 81,
   "id": "0553cbf2",
   "metadata": {},
   "outputs": [],
   "source": [
    "y_predict = reg.predict(test_features)"
   ]
  },
  {
   "cell_type": "code",
   "execution_count": 82,
   "id": "13b29bdd",
   "metadata": {},
   "outputs": [
    {
     "name": "stdout",
     "output_type": "stream",
     "text": [
      "Mean Absolute Error: 0.22 degrees.\n"
     ]
    }
   ],
   "source": [
    "from sklearn.metrics import mean_squared_error\n",
    "errors = abs(y_predict - test_labels)\n",
    "# Print out the mean absolute error (mae)\n",
    "print('Mean Absolute Error:', round(np.mean(errors), 2), 'degrees.')"
   ]
  },
  {
   "cell_type": "code",
   "execution_count": 83,
   "id": "41b1cc4f",
   "metadata": {},
   "outputs": [
    {
     "name": "stdout",
     "output_type": "stream",
     "text": [
      "Accuracy: 85.69 %.\n"
     ]
    }
   ],
   "source": [
    "# Calculate mean absolute percentage error (MAPE)\n",
    "mape = 100 * (errors / test_labels)\n",
    "# Calculate and display accuracy\n",
    "accuracy = 100 - np.mean(mape)\n",
    "print('Accuracy:', round(accuracy, 2), '%.')"
   ]
  },
  {
   "cell_type": "markdown",
   "id": "3ec1d2b1",
   "metadata": {},
   "source": [
    "# prediction for surge_multiplier\n"
   ]
  },
  {
   "cell_type": "code",
   "execution_count": 125,
   "id": "1c169708",
   "metadata": {},
   "outputs": [],
   "source": [
    "merged_df_surge = df3[df3.surge_multiplier < 2]\n",
    "X = merged_df_surge[['day','hour','temp','clouds', 'pressure','humidity', 'wind', 'rain']]"
   ]
  },
  {
   "cell_type": "code",
   "execution_count": 126,
   "id": "28e14f32",
   "metadata": {},
   "outputs": [
    {
     "data": {
      "text/plain": [
       "day         1265675\n",
       "hour        1265675\n",
       "temp        1265675\n",
       "clouds      1265675\n",
       "pressure    1265675\n",
       "humidity    1265675\n",
       "wind        1265675\n",
       "rain        1265675\n",
       "dtype: int64"
      ]
     },
     "execution_count": 126,
     "metadata": {},
     "output_type": "execute_result"
    }
   ],
   "source": [
    "X.count()"
   ]
  },
  {
   "cell_type": "code",
   "execution_count": 127,
   "id": "6b49d770",
   "metadata": {},
   "outputs": [],
   "source": [
    "features = pd.get_dummies(X)"
   ]
  },
  {
   "cell_type": "code",
   "execution_count": 129,
   "id": "106469a9",
   "metadata": {},
   "outputs": [],
   "source": [
    "y = merged_df_surge['surge_multiplier']\n",
    "from sklearn import preprocessing\n",
    "le = preprocessing.LabelEncoder()\n",
    "\n",
    "\n",
    "le.fit([0.0, 0.22314355131420976, 0.4054651081081644, 0.5596157879354227, 0.6931471805599453, 0.9162907318741551, 1.0986122886681098,1,1.25,1.5,1.75,2.,2.25,2.5])\n",
    "y = le.transform(y) "
   ]
  },
  {
   "cell_type": "code",
   "execution_count": 130,
   "id": "117b5d0e",
   "metadata": {},
   "outputs": [],
   "source": [
    "# Use numpy to convert to arrays\n",
    "import numpy as np\n",
    "# Labels are the values we want to predict\n",
    "labels = np.array(y)\n",
    "\n",
    "# Saving feature names for later use\n",
    "feature_list = list(X.columns)\n",
    "# Convert to numpy array\n",
    "features = np.array(features)"
   ]
  },
  {
   "cell_type": "code",
   "execution_count": 131,
   "id": "4ba04ad5",
   "metadata": {},
   "outputs": [],
   "source": [
    "# Using Skicit-learn to split data into training and testing sets\n",
    "from sklearn.model_selection import train_test_split\n",
    "# Split the data into training and testing sets\n"
   ]
  },
  {
   "cell_type": "code",
   "execution_count": 145,
   "id": "cc531b1f",
   "metadata": {},
   "outputs": [
    {
     "data": {
      "text/plain": [
       "LinearRegression()"
      ]
     },
     "execution_count": 145,
     "metadata": {},
     "output_type": "execute_result"
    }
   ],
   "source": [
    "from sklearn.model_selection import train_test_split\n",
    "train_features, test_features, train_labels, test_labels = train_test_split(features, labels, test_size = 0.25, random_state = 42)\n",
    "train_labels = train_labels.reshape(-1,1)\n",
    "test_labels = test_labels.reshape(-1,1)\n",
    "#Fit the model over the training dataset\n",
    "from sklearn.linear_model import LinearRegression\n",
    "model = LinearRegression()\n",
    "model.fit(train_features,train_labels)\n"
   ]
  },
  {
   "cell_type": "code",
   "execution_count": 167,
   "id": "a14c16e8",
   "metadata": {},
   "outputs": [
    {
     "name": "stdout",
     "output_type": "stream",
     "text": [
      "[1.10315169]\n",
      "[[-1.28459569e-04 -4.58442679e-05 -1.07316013e-04  3.71717722e-03\n",
      "  -1.48756149e-01 -1.68954140e-02 -4.12437027e-04 -1.81799931e-02]]\n",
      "MSE :  0.130722830503547\n",
      "RMSE :  0.36155612358739964\n",
      "MAE:  0.1070930233807117\n"
     ]
    }
   ],
   "source": [
    "#Calculate intercept and coefficient\n",
    "print(model.intercept_)\n",
    "print(model.coef_)\n",
    "pred=model.predict(test_features)\n",
    "predictions = pred.reshape(-1,1)\n",
    "#Calculate root mean squared error to evaluate model performance\n",
    "from sklearn.metrics import mean_squared_error\n",
    "print('MSE : ', mean_squared_error(test_labels,predictions))\n",
    "print('RMSE : ', np.sqrt(mean_squared_error(test_labels,predictions)))\n",
    "print('MAE: ', mean_absolute_error(test_labels, predictions))\n",
    "      "
   ]
  },
  {
   "cell_type": "code",
   "execution_count": 155,
   "id": "2f99e560",
   "metadata": {},
   "outputs": [
    {
     "name": "stdout",
     "output_type": "stream",
     "text": [
      "0.7086500022313033\n"
     ]
    }
   ],
   "source": [
    "#Accuracy = 1.96*RMSE\n",
    "Accuracy = 1.96*0.36155612358739964\n",
    "print(Accuracy)"
   ]
  },
  {
   "cell_type": "code",
   "execution_count": 132,
   "id": "a03a7b7c",
   "metadata": {},
   "outputs": [],
   "source": [
    "from imblearn.over_sampling import SMOTE\n",
    "sm = SMOTE(random_state=42)\n",
    "train_features, train_labels = sm.fit_resample(train_features, train_labels)"
   ]
  },
  {
   "cell_type": "markdown",
   "id": "262e79fa",
   "metadata": {},
   "source": [
    "## Random Forest Regressor"
   ]
  },
  {
   "cell_type": "code",
   "execution_count": 157,
   "id": "fcbe37c8",
   "metadata": {},
   "outputs": [],
   "source": [
    "from sklearn.ensemble import RandomForestRegressor\n",
    "random_forest = RandomForestRegressor() \n"
   ]
  },
  {
   "cell_type": "code",
   "execution_count": 158,
   "id": "50e06a46",
   "metadata": {},
   "outputs": [
    {
     "name": "stderr",
     "output_type": "stream",
     "text": [
      "C:\\Users\\Asus\\AppData\\Local\\Temp\\ipykernel_7812\\722011110.py:1: DataConversionWarning: A column-vector y was passed when a 1d array was expected. Please change the shape of y to (n_samples,), for example using ravel().\n",
      "  random_forest.fit(train_features, train_labels)\n"
     ]
    }
   ],
   "source": [
    "random_forest.fit(train_features, train_labels)\n",
    "y_pred = random_forest.predict(test_features) \n"
   ]
  },
  {
   "cell_type": "code",
   "execution_count": 165,
   "id": "2a9ee0bd",
   "metadata": {},
   "outputs": [
    {
     "name": "stdout",
     "output_type": "stream",
     "text": [
      "MAE:  0.10510675728307341\n",
      "MSE:  0.12946587505559376\n",
      "RMSE :  0.35981366713285606\n"
     ]
    }
   ],
   "source": [
    "from sklearn.metrics import mean_absolute_error\n",
    "print('MAE: ', mean_absolute_error(test_labels, y_pred))\n",
    "print('MSE: ', mean_squared_error(test_labels, y_pred)) \n",
    "print('RMSE : ', np.sqrt(mean_squared_error(test_labels,y_pred)))"
   ]
  },
  {
   "cell_type": "code",
   "execution_count": 166,
   "id": "41ab60b2",
   "metadata": {},
   "outputs": [
    {
     "name": "stdout",
     "output_type": "stream",
     "text": [
      "0.7052347875803979\n"
     ]
    }
   ],
   "source": [
    "#Accuracy = 1.96*RMSE\n",
    "Accuracy = 1.96*0.35981366713285606\n",
    "print(Accuracy)"
   ]
  },
  {
   "cell_type": "markdown",
   "id": "949af167",
   "metadata": {},
   "source": [
    "## DecisionTreeRegressor "
   ]
  },
  {
   "cell_type": "code",
   "execution_count": 173,
   "id": "df617bd5",
   "metadata": {},
   "outputs": [],
   "source": [
    "from sklearn.tree import DecisionTreeRegressor \n",
    "regressor = DecisionTreeRegressor(random_state = 0) "
   ]
  },
  {
   "cell_type": "code",
   "execution_count": 174,
   "id": "dc5b12d3",
   "metadata": {},
   "outputs": [
    {
     "data": {
      "text/plain": [
       "DecisionTreeRegressor(random_state=0)"
      ]
     },
     "execution_count": 174,
     "metadata": {},
     "output_type": "execute_result"
    }
   ],
   "source": [
    "regressor.fit(train_features, train_labels)"
   ]
  },
  {
   "cell_type": "code",
   "execution_count": 175,
   "id": "45f264d4",
   "metadata": {},
   "outputs": [],
   "source": [
    "pred = regressor.predict(test_features) "
   ]
  },
  {
   "cell_type": "code",
   "execution_count": 176,
   "id": "3c64baa9",
   "metadata": {},
   "outputs": [
    {
     "name": "stdout",
     "output_type": "stream",
     "text": [
      "MAE:  0.10509422000071099\n",
      "MSE:  0.1294632710605452\n",
      "RMSE :  0.35981004858195\n"
     ]
    }
   ],
   "source": [
    "print('MAE: ', mean_absolute_error(test_labels, pred))\n",
    "print('MSE: ', mean_squared_error(test_labels, pred)) \n",
    "print('RMSE : ', np.sqrt(mean_squared_error(test_labels,pred)))"
   ]
  },
  {
   "cell_type": "code",
   "execution_count": null,
   "id": "56314ed5",
   "metadata": {},
   "outputs": [],
   "source": []
  }
 ],
 "metadata": {
  "kernelspec": {
   "display_name": "Python 3 (ipykernel)",
   "language": "python",
   "name": "python3"
  },
  "language_info": {
   "codemirror_mode": {
    "name": "ipython",
    "version": 3
   },
   "file_extension": ".py",
   "mimetype": "text/x-python",
   "name": "python",
   "nbconvert_exporter": "python",
   "pygments_lexer": "ipython3",
   "version": "3.9.12"
  }
 },
 "nbformat": 4,
 "nbformat_minor": 5
}
